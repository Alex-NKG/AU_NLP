{
  "nbformat": 4,
  "nbformat_minor": 0,
  "metadata": {
    "colab": {
      "name": "HW4.ipynb",
      "provenance": [],
      "collapsed_sections": [],
      "machine_shape": "hm",
      "mount_file_id": "1W0f7n1HPfYaJNDWkw3xq9yAD6kHNLRst",
      "authorship_tag": "ABX9TyNRsft86BPvcPiOBmHxnIZ4"
    },
    "kernelspec": {
      "name": "python3",
      "display_name": "Python 3"
    }
  },
  "cells": [
    {
      "cell_type": "code",
      "metadata": {
        "id": "q8RhsldE_9hg",
        "colab_type": "code",
        "colab": {}
      },
      "source": [
        "import re\n",
        "import pandas as pd\n",
        "import matplotlib.pyplot as plt\n",
        "import numpy as np\n",
        "from matplotlib.axes._axes import _log as matplotlib_axes_logger# reduce the error level\n",
        "matplotlib_axes_logger.setLevel('ERROR')"
      ],
      "execution_count": 0,
      "outputs": []
    },
    {
      "cell_type": "code",
      "metadata": {
        "id": "ug_d8kpepZAV",
        "colab_type": "code",
        "outputId": "bb014298-127d-4b4c-db50-b4c12fda7e98",
        "colab": {
          "base_uri": "https://localhost:8080/",
          "height": 419
        }
      },
      "source": [
        "# clean the lyrics\n",
        "# require lyrics.csv\n",
        "# remove all nan rows and strange characters in lyrics colounm\n",
        "# return clean df, ATTENTION: only renturn necessary column!\n",
        "def clean_lyrics():\n",
        "  usecols = ['year','genre','lyrics']\n",
        "  song = pd.read_csv(\"/content/drive/My Drive/NLP/W4/lyrics.csv\",usecols=usecols)\n",
        "  song=song[song.year>1000]\n",
        "  #song=song.dropna(subset=['genre'])\n",
        "  song = song[song.genre != \"Not Available\"]\n",
        "  clean_song=song.dropna(subset=['lyrics']).replace({'lyrics': '[^A-Za-z ]',} ,' ', regex=True)\n",
        "  #clean_song = song.replace({'lyrics': '[^A-Za-z ]',} ,' ', regex=True)\n",
        "  clean_song['lyrics'] = clean_song['lyrics'].str.upper().str.split()\n",
        "  #clean_song['lyrics'] = clean_song['lyrics'].str.split()\n",
        "  clean_song['length']=clean_song[\"lyrics\"].str.len()\n",
        "  return clean_song\n",
        "song=clean_lyrics()\n",
        "song\n",
        "\n"
      ],
      "execution_count": 28,
      "outputs": [
        {
          "output_type": "execute_result",
          "data": {
            "text/html": [
              "<div>\n",
              "<style scoped>\n",
              "    .dataframe tbody tr th:only-of-type {\n",
              "        vertical-align: middle;\n",
              "    }\n",
              "\n",
              "    .dataframe tbody tr th {\n",
              "        vertical-align: top;\n",
              "    }\n",
              "\n",
              "    .dataframe thead th {\n",
              "        text-align: right;\n",
              "    }\n",
              "</style>\n",
              "<table border=\"1\" class=\"dataframe\">\n",
              "  <thead>\n",
              "    <tr style=\"text-align: right;\">\n",
              "      <th></th>\n",
              "      <th>year</th>\n",
              "      <th>genre</th>\n",
              "      <th>lyrics</th>\n",
              "      <th>length</th>\n",
              "    </tr>\n",
              "  </thead>\n",
              "  <tbody>\n",
              "    <tr>\n",
              "      <th>0</th>\n",
              "      <td>2009</td>\n",
              "      <td>Pop</td>\n",
              "      <td>[OH, BABY, HOW, YOU, DOING, YOU, KNOW, I, M, G...</td>\n",
              "      <td>472</td>\n",
              "    </tr>\n",
              "    <tr>\n",
              "      <th>1</th>\n",
              "      <td>2009</td>\n",
              "      <td>Pop</td>\n",
              "      <td>[PLAYIN, EVERYTHING, SO, EASY, IT, S, LIKE, YO...</td>\n",
              "      <td>268</td>\n",
              "    </tr>\n",
              "    <tr>\n",
              "      <th>2</th>\n",
              "      <td>2009</td>\n",
              "      <td>Pop</td>\n",
              "      <td>[IF, YOU, SEARCH, FOR, TENDERNESS, IT, ISN, T,...</td>\n",
              "      <td>177</td>\n",
              "    </tr>\n",
              "    <tr>\n",
              "      <th>3</th>\n",
              "      <td>2009</td>\n",
              "      <td>Pop</td>\n",
              "      <td>[OH, OH, OH, I, OH, OH, OH, I, VERSE, IF, I, W...</td>\n",
              "      <td>539</td>\n",
              "    </tr>\n",
              "    <tr>\n",
              "      <th>4</th>\n",
              "      <td>2009</td>\n",
              "      <td>Pop</td>\n",
              "      <td>[PARTY, THE, PEOPLE, THE, PEOPLE, THE, PARTY, ...</td>\n",
              "      <td>338</td>\n",
              "    </tr>\n",
              "    <tr>\n",
              "      <th>...</th>\n",
              "      <td>...</td>\n",
              "      <td>...</td>\n",
              "      <td>...</td>\n",
              "      <td>...</td>\n",
              "    </tr>\n",
              "    <tr>\n",
              "      <th>362232</th>\n",
              "      <td>2012</td>\n",
              "      <td>Country</td>\n",
              "      <td>[I, GOTTA, SAY, BOY, AFTER, ONLY, JUST, A, COU...</td>\n",
              "      <td>343</td>\n",
              "    </tr>\n",
              "    <tr>\n",
              "      <th>362233</th>\n",
              "      <td>2012</td>\n",
              "      <td>Country</td>\n",
              "      <td>[I, HELPED, YOU, FIND, HER, DIAMOND, RING, YOU...</td>\n",
              "      <td>230</td>\n",
              "    </tr>\n",
              "    <tr>\n",
              "      <th>362234</th>\n",
              "      <td>2012</td>\n",
              "      <td>Country</td>\n",
              "      <td>[LOOK, AT, THE, COUPLE, IN, THE, CORNER, BOOTH...</td>\n",
              "      <td>259</td>\n",
              "    </tr>\n",
              "    <tr>\n",
              "      <th>362235</th>\n",
              "      <td>2012</td>\n",
              "      <td>Country</td>\n",
              "      <td>[WHEN, I, FLY, OFF, THIS, MORTAL, EARTH, AND, ...</td>\n",
              "      <td>177</td>\n",
              "    </tr>\n",
              "    <tr>\n",
              "      <th>362236</th>\n",
              "      <td>2012</td>\n",
              "      <td>Country</td>\n",
              "      <td>[I, HEARD, FROM, A, FRIEND, OF, A, FRIEND, OF,...</td>\n",
              "      <td>338</td>\n",
              "    </tr>\n",
              "  </tbody>\n",
              "</table>\n",
              "<p>242610 rows × 4 columns</p>\n",
              "</div>"
            ],
            "text/plain": [
              "        year  ... length\n",
              "0       2009  ...    472\n",
              "1       2009  ...    268\n",
              "2       2009  ...    177\n",
              "3       2009  ...    539\n",
              "4       2009  ...    338\n",
              "...      ...  ...    ...\n",
              "362232  2012  ...    343\n",
              "362233  2012  ...    230\n",
              "362234  2012  ...    259\n",
              "362235  2012  ...    177\n",
              "362236  2012  ...    338\n",
              "\n",
              "[242610 rows x 4 columns]"
            ]
          },
          "metadata": {
            "tags": []
          },
          "execution_count": 28
        }
      ]
    },
    {
      "cell_type": "code",
      "metadata": {
        "id": "Iu4SrCifYtRF",
        "colab_type": "code",
        "colab": {
          "base_uri": "https://localhost:8080/",
          "height": 71
        },
        "outputId": "e0f61734-b2bb-4f4c-ee96-4b6affcbcebd"
      },
      "source": [
        "print(song.lyrics[0])\n",
        "\n",
        "len(song.lyrics[0])"
      ],
      "execution_count": 25,
      "outputs": [
        {
          "output_type": "stream",
          "text": [
            "['OH', 'BABY', 'HOW', 'YOU', 'DOING', 'YOU', 'KNOW', 'I', 'M', 'GONNA', 'CUT', 'RIGHT', 'TO', 'THE', 'CHASE', 'SOME', 'WOMEN', 'WERE', 'MADE', 'BUT', 'ME', 'MYSELF', 'I', 'LIKE', 'TO', 'THINK', 'THAT', 'I', 'WAS', 'CREATED', 'FOR', 'A', 'SPECIAL', 'PURPOSE', 'YOU', 'KNOW', 'WHAT', 'S', 'MORE', 'SPECIAL', 'THAN', 'YOU', 'YOU', 'FEEL', 'ME', 'IT', 'S', 'ON', 'BABY', 'LET', 'S', 'GET', 'LOST', 'YOU', 'DON', 'T', 'NEED', 'TO', 'CALL', 'INTO', 'WORK', 'CAUSE', 'YOU', 'RE', 'THE', 'BOSS', 'FOR', 'REAL', 'WANT', 'YOU', 'TO', 'SHOW', 'ME', 'HOW', 'YOU', 'FEEL', 'I', 'CONSIDER', 'MYSELF', 'LUCKY', 'THAT', 'S', 'A', 'BIG', 'DEAL', 'WHY', 'WELL', 'YOU', 'GOT', 'THE', 'KEY', 'TO', 'MY', 'HEART', 'BUT', 'YOU', 'AIN', 'T', 'GONNA', 'NEED', 'IT', 'I', 'D', 'RATHER', 'YOU', 'OPEN', 'UP', 'MY', 'BODY', 'AND', 'SHOW', 'ME', 'SECRETS', 'YOU', 'DIDN', 'T', 'KNOW', 'WAS', 'INSIDE', 'NO', 'NEED', 'FOR', 'ME', 'TO', 'LIE', 'IT', 'S', 'TOO', 'BIG', 'IT', 'S', 'TOO', 'WIDE', 'IT', 'S', 'TOO', 'STRONG', 'IT', 'WON', 'T', 'FIT', 'IT', 'S', 'TOO', 'MUCH', 'IT', 'S', 'TOO', 'TOUGH', 'HE', 'TALK', 'LIKE', 'THIS', 'CAUSE', 'HE', 'CAN', 'BACK', 'IT', 'UP', 'HE', 'GOT', 'A', 'BIG', 'EGO', 'SUCH', 'A', 'HUGE', 'EGO', 'I', 'LOVE', 'HIS', 'BIG', 'EGO', 'IT', 'S', 'TOO', 'MUCH', 'HE', 'WALK', 'LIKE', 'THIS', 'CAUSE', 'HE', 'CAN', 'BACK', 'IT', 'UP', 'USUALLY', 'I', 'M', 'HUMBLE', 'RIGHT', 'NOW', 'I', 'DON', 'T', 'CHOOSE', 'YOU', 'CAN', 'LEAVE', 'WITH', 'ME', 'OR', 'YOU', 'COULD', 'HAVE', 'THE', 'BLUES', 'SOME', 'CALL', 'IT', 'ARROGANT', 'I', 'CALL', 'IT', 'CONFIDENT', 'YOU', 'DECIDE', 'WHEN', 'YOU', 'FIND', 'ON', 'WHAT', 'I', 'M', 'WORKING', 'WITH', 'DAMN', 'I', 'KNOW', 'I', 'M', 'KILLING', 'YOU', 'WITH', 'THEM', 'LEGS', 'BETTER', 'YET', 'THEM', 'THIGHS', 'MATTER', 'A', 'FACT', 'IT', 'S', 'MY', 'SMILE', 'OR', 'MAYBE', 'MY', 'EYES', 'BOY', 'YOU', 'A', 'SITE', 'TO', 'SEE', 'KIND', 'OF', 'SOMETHING', 'LIKE', 'ME', 'IT', 'S', 'TOO', 'BIG', 'IT', 'S', 'TOO', 'WIDE', 'IT', 'S', 'TOO', 'STRONG', 'IT', 'WON', 'T', 'FIT', 'IT', 'S', 'TOO', 'MUCH', 'IT', 'S', 'TOO', 'TOUGH', 'I', 'TALK', 'LIKE', 'THIS', 'CAUSE', 'I', 'CAN', 'BACK', 'IT', 'UP', 'I', 'GOT', 'A', 'BIG', 'EGO', 'SUCH', 'A', 'HUGE', 'EGO', 'BUT', 'HE', 'LOVE', 'MY', 'BIG', 'EGO', 'IT', 'S', 'TOO', 'MUCH', 'I', 'WALK', 'LIKE', 'THIS', 'CAUSE', 'I', 'CAN', 'BACK', 'IT', 'UP', 'I', 'I', 'WALK', 'LIKE', 'THIS', 'CAUSE', 'I', 'CAN', 'BACK', 'IT', 'UP', 'I', 'I', 'TALK', 'LIKE', 'THIS', 'CAUSE', 'I', 'CAN', 'BACK', 'IT', 'UP', 'I', 'I', 'CAN', 'BACK', 'IT', 'UP', 'I', 'CAN', 'BACK', 'IT', 'UP', 'I', 'WALK', 'LIKE', 'THIS', 'CAUSE', 'I', 'CAN', 'BACK', 'IT', 'UP', 'IT', 'S', 'TOO', 'BIG', 'IT', 'S', 'TOO', 'WIDE', 'IT', 'S', 'TOO', 'STRONG', 'IT', 'WON', 'T', 'FIT', 'IT', 'S', 'TOO', 'MUCH', 'IT', 'S', 'TOO', 'TOUGH', 'HE', 'TALK', 'LIKE', 'THIS', 'CAUSE', 'HE', 'CAN', 'BACK', 'IT', 'UP', 'HE', 'GOT', 'A', 'BIG', 'EGO', 'SUCH', 'A', 'HUGE', 'EGO', 'SUCH', 'A', 'HUGE', 'EGO', 'I', 'LOVE', 'HIS', 'BIG', 'EGO', 'IT', 'S', 'TOO', 'MUCH', 'HE', 'WALK', 'LIKE', 'THIS', 'CAUSE', 'HE', 'CAN', 'BACK', 'IT', 'UP', 'EGO', 'SO', 'BIG', 'YOU', 'MUST', 'ADMIT', 'I', 'GOT', 'EVERY', 'REASON', 'TO', 'FEEL', 'LIKE', 'I', 'M', 'THAT', 'BITCH', 'EGO', 'SO', 'STRONG', 'IF', 'YOU', 'AIN', 'T', 'KNOW', 'I', 'DON', 'T', 'NEED', 'NO', 'BEAT', 'I', 'CAN', 'SING', 'IT', 'WITH', 'PIANO']\n"
          ],
          "name": "stdout"
        },
        {
          "output_type": "execute_result",
          "data": {
            "text/plain": [
              "472"
            ]
          },
          "metadata": {
            "tags": []
          },
          "execution_count": 25
        }
      ]
    },
    {
      "cell_type": "code",
      "metadata": {
        "id": "BiKZ8D8RuDPF",
        "colab_type": "code",
        "colab": {}
      },
      "source": [
        "# count the time of the word  appear in lyrics\n",
        "# and in the 2 emotional lists\n",
        "def count_pos(x):\n",
        "  set_pos = set(x)&set(pos)\n",
        "  set_neg = set(x)&set(neg)\n",
        "  # ATTENTION! do the reduce the runing time, the total score of each calculate here!\n",
        "  s=0\n",
        "  for item in set_pos:\n",
        "    s+=x.count(item)\n",
        "  for item in set_neg:\n",
        "    s-=x.count(item)\n",
        "\n",
        "  return s"
      ],
      "execution_count": 0,
      "outputs": []
    },
    {
      "cell_type": "code",
      "metadata": {
        "id": "KOoKJM_ke4fk",
        "colab_type": "code",
        "colab": {}
      },
      "source": [
        "# create 2 list of word one pos one neg\n",
        "# this function is require for inquireraugmented.xls\n",
        "# more info search Harvard IV-4\n",
        "def creat_dic():\n",
        "  dic=pd.read_excel(\"/content/drive/My Drive/NLP/W4/inquireraugmented.xls\",encoding='utf-8')\n",
        "  dic=dic.loc[:,['Entry','Positiv','Negativ']]#select necessry coloumn\n",
        "  dic1=dic.dropna(thresh=2)#remove rows are no emotion\n",
        "  dic1=dic1.dropna(subset=['Entry']).replace({'Entry': '[^A-Za-z]',} ,'', regex=True)#remove entry value nan\n",
        "  #dic1.replace({'Entry': '[^A-Za-z]',} ,'', regex=True)\n",
        "  pos_dic=dic1[dic1.Positiv == 'Positiv']\n",
        "  #neg_dic=dic1[dic1.Negativ == 'Negativ']\n",
        "  Pos_list =dic1[dic1.Positiv == 'Positiv']['Entry'].tolist()\n",
        "  Neg_list =dic1[dic1.Negativ == 'Negativ']['Entry'].tolist()\n",
        "  #for rows in pos_dic.itertuples(): \n",
        "    #Pos_list.append(re.sub(r'[^A-Z]*', '', rows.Entry)) #remove character\n",
        "  #for rows in neg_dic.itertuples(): \n",
        "    #Neg_list.append(re.sub(r'[^A-Z]*', '', str(rows.Entry))) #unknow why we have no string in this\n",
        "  return [Pos_list, Neg_list]\n",
        "pos,neg=creat_dic()\n",
        " \n",
        "##may try to use oop method\n",
        "# performace improved"
      ],
      "execution_count": 0,
      "outputs": []
    },
    {
      "cell_type": "code",
      "metadata": {
        "id": "I-DEHC5puNR8",
        "colab_type": "code",
        "outputId": "24ed29c9-027b-4263-9bbe-7387dcb3b757",
        "colab": {
          "base_uri": "https://localhost:8080/",
          "height": 419
        }
      },
      "source": [
        "#function sentiment_scorer\n",
        "#Uses user-supplied list to gauge sentiment on an\n",
        "#arbitrary piece of text.\n",
        "##inputs:\n",
        "#data frame include lyrics\n",
        "#it will compare with the dicnory \n",
        "#output:\n",
        "#data frame include total score\n",
        "#Attention:it tooks a long time for the duplicate for loop\n",
        "#It is different from the assginment requirement, it dont add Neg and Postitive column\n",
        "#To improve performance it is necessary\n",
        "def sentiment_scorer(song):\n",
        "  pos,neg=creat_dic()\n",
        "  song[\"Total\"] = song[\"lyrics\"].apply(lambda x :count_pos(x))\n",
        "  #song[\"cn\"] = song[\"lyrics\"].apply(count_neg)\n",
        "  #song['avg'] = song[['cp', 'cn']].mean(axis=1)\n",
        "  return song\n",
        "song=sentiment_scorer(song)\n",
        "song"
      ],
      "execution_count": 31,
      "outputs": [
        {
          "output_type": "execute_result",
          "data": {
            "text/html": [
              "<div>\n",
              "<style scoped>\n",
              "    .dataframe tbody tr th:only-of-type {\n",
              "        vertical-align: middle;\n",
              "    }\n",
              "\n",
              "    .dataframe tbody tr th {\n",
              "        vertical-align: top;\n",
              "    }\n",
              "\n",
              "    .dataframe thead th {\n",
              "        text-align: right;\n",
              "    }\n",
              "</style>\n",
              "<table border=\"1\" class=\"dataframe\">\n",
              "  <thead>\n",
              "    <tr style=\"text-align: right;\">\n",
              "      <th></th>\n",
              "      <th>year</th>\n",
              "      <th>genre</th>\n",
              "      <th>lyrics</th>\n",
              "      <th>length</th>\n",
              "      <th>Total</th>\n",
              "    </tr>\n",
              "  </thead>\n",
              "  <tbody>\n",
              "    <tr>\n",
              "      <th>0</th>\n",
              "      <td>2009</td>\n",
              "      <td>Pop</td>\n",
              "      <td>[OH, BABY, HOW, YOU, DOING, YOU, KNOW, I, M, G...</td>\n",
              "      <td>472</td>\n",
              "      <td>18</td>\n",
              "    </tr>\n",
              "    <tr>\n",
              "      <th>1</th>\n",
              "      <td>2009</td>\n",
              "      <td>Pop</td>\n",
              "      <td>[PLAYIN, EVERYTHING, SO, EASY, IT, S, LIKE, YO...</td>\n",
              "      <td>268</td>\n",
              "      <td>9</td>\n",
              "    </tr>\n",
              "    <tr>\n",
              "      <th>2</th>\n",
              "      <td>2009</td>\n",
              "      <td>Pop</td>\n",
              "      <td>[IF, YOU, SEARCH, FOR, TENDERNESS, IT, ISN, T,...</td>\n",
              "      <td>177</td>\n",
              "      <td>6</td>\n",
              "    </tr>\n",
              "    <tr>\n",
              "      <th>3</th>\n",
              "      <td>2009</td>\n",
              "      <td>Pop</td>\n",
              "      <td>[OH, OH, OH, I, OH, OH, OH, I, VERSE, IF, I, W...</td>\n",
              "      <td>539</td>\n",
              "      <td>44</td>\n",
              "    </tr>\n",
              "    <tr>\n",
              "      <th>4</th>\n",
              "      <td>2009</td>\n",
              "      <td>Pop</td>\n",
              "      <td>[PARTY, THE, PEOPLE, THE, PEOPLE, THE, PARTY, ...</td>\n",
              "      <td>338</td>\n",
              "      <td>4</td>\n",
              "    </tr>\n",
              "    <tr>\n",
              "      <th>...</th>\n",
              "      <td>...</td>\n",
              "      <td>...</td>\n",
              "      <td>...</td>\n",
              "      <td>...</td>\n",
              "      <td>...</td>\n",
              "    </tr>\n",
              "    <tr>\n",
              "      <th>362232</th>\n",
              "      <td>2012</td>\n",
              "      <td>Country</td>\n",
              "      <td>[I, GOTTA, SAY, BOY, AFTER, ONLY, JUST, A, COU...</td>\n",
              "      <td>343</td>\n",
              "      <td>4</td>\n",
              "    </tr>\n",
              "    <tr>\n",
              "      <th>362233</th>\n",
              "      <td>2012</td>\n",
              "      <td>Country</td>\n",
              "      <td>[I, HELPED, YOU, FIND, HER, DIAMOND, RING, YOU...</td>\n",
              "      <td>230</td>\n",
              "      <td>1</td>\n",
              "    </tr>\n",
              "    <tr>\n",
              "      <th>362234</th>\n",
              "      <td>2012</td>\n",
              "      <td>Country</td>\n",
              "      <td>[LOOK, AT, THE, COUPLE, IN, THE, CORNER, BOOTH...</td>\n",
              "      <td>259</td>\n",
              "      <td>3</td>\n",
              "    </tr>\n",
              "    <tr>\n",
              "      <th>362235</th>\n",
              "      <td>2012</td>\n",
              "      <td>Country</td>\n",
              "      <td>[WHEN, I, FLY, OFF, THIS, MORTAL, EARTH, AND, ...</td>\n",
              "      <td>177</td>\n",
              "      <td>18</td>\n",
              "    </tr>\n",
              "    <tr>\n",
              "      <th>362236</th>\n",
              "      <td>2012</td>\n",
              "      <td>Country</td>\n",
              "      <td>[I, HEARD, FROM, A, FRIEND, OF, A, FRIEND, OF,...</td>\n",
              "      <td>338</td>\n",
              "      <td>25</td>\n",
              "    </tr>\n",
              "  </tbody>\n",
              "</table>\n",
              "<p>242610 rows × 5 columns</p>\n",
              "</div>"
            ],
            "text/plain": [
              "        year    genre  ... length  Total\n",
              "0       2009      Pop  ...    472     18\n",
              "1       2009      Pop  ...    268      9\n",
              "2       2009      Pop  ...    177      6\n",
              "3       2009      Pop  ...    539     44\n",
              "4       2009      Pop  ...    338      4\n",
              "...      ...      ...  ...    ...    ...\n",
              "362232  2012  Country  ...    343      4\n",
              "362233  2012  Country  ...    230      1\n",
              "362234  2012  Country  ...    259      3\n",
              "362235  2012  Country  ...    177     18\n",
              "362236  2012  Country  ...    338     25\n",
              "\n",
              "[242610 rows x 5 columns]"
            ]
          },
          "metadata": {
            "tags": []
          },
          "execution_count": 31
        }
      ]
    },
    {
      "cell_type": "code",
      "metadata": {
        "id": "tLA72t9Mg-Nj",
        "colab_type": "code",
        "colab": {
          "base_uri": "https://localhost:8080/",
          "height": 419
        },
        "outputId": "09b4845f-57b3-42e7-d585-3cd808e79090"
      },
      "source": [
        "song[\"Mean\"] = song[\"Total\"]/song[\"length\"]\n",
        "song"
      ],
      "execution_count": 33,
      "outputs": [
        {
          "output_type": "execute_result",
          "data": {
            "text/html": [
              "<div>\n",
              "<style scoped>\n",
              "    .dataframe tbody tr th:only-of-type {\n",
              "        vertical-align: middle;\n",
              "    }\n",
              "\n",
              "    .dataframe tbody tr th {\n",
              "        vertical-align: top;\n",
              "    }\n",
              "\n",
              "    .dataframe thead th {\n",
              "        text-align: right;\n",
              "    }\n",
              "</style>\n",
              "<table border=\"1\" class=\"dataframe\">\n",
              "  <thead>\n",
              "    <tr style=\"text-align: right;\">\n",
              "      <th></th>\n",
              "      <th>year</th>\n",
              "      <th>genre</th>\n",
              "      <th>lyrics</th>\n",
              "      <th>length</th>\n",
              "      <th>Total</th>\n",
              "      <th>Mean</th>\n",
              "    </tr>\n",
              "  </thead>\n",
              "  <tbody>\n",
              "    <tr>\n",
              "      <th>0</th>\n",
              "      <td>2009</td>\n",
              "      <td>Pop</td>\n",
              "      <td>[OH, BABY, HOW, YOU, DOING, YOU, KNOW, I, M, G...</td>\n",
              "      <td>472</td>\n",
              "      <td>18</td>\n",
              "      <td>0.038136</td>\n",
              "    </tr>\n",
              "    <tr>\n",
              "      <th>1</th>\n",
              "      <td>2009</td>\n",
              "      <td>Pop</td>\n",
              "      <td>[PLAYIN, EVERYTHING, SO, EASY, IT, S, LIKE, YO...</td>\n",
              "      <td>268</td>\n",
              "      <td>9</td>\n",
              "      <td>0.033582</td>\n",
              "    </tr>\n",
              "    <tr>\n",
              "      <th>2</th>\n",
              "      <td>2009</td>\n",
              "      <td>Pop</td>\n",
              "      <td>[IF, YOU, SEARCH, FOR, TENDERNESS, IT, ISN, T,...</td>\n",
              "      <td>177</td>\n",
              "      <td>6</td>\n",
              "      <td>0.033898</td>\n",
              "    </tr>\n",
              "    <tr>\n",
              "      <th>3</th>\n",
              "      <td>2009</td>\n",
              "      <td>Pop</td>\n",
              "      <td>[OH, OH, OH, I, OH, OH, OH, I, VERSE, IF, I, W...</td>\n",
              "      <td>539</td>\n",
              "      <td>44</td>\n",
              "      <td>0.081633</td>\n",
              "    </tr>\n",
              "    <tr>\n",
              "      <th>4</th>\n",
              "      <td>2009</td>\n",
              "      <td>Pop</td>\n",
              "      <td>[PARTY, THE, PEOPLE, THE, PEOPLE, THE, PARTY, ...</td>\n",
              "      <td>338</td>\n",
              "      <td>4</td>\n",
              "      <td>0.011834</td>\n",
              "    </tr>\n",
              "    <tr>\n",
              "      <th>...</th>\n",
              "      <td>...</td>\n",
              "      <td>...</td>\n",
              "      <td>...</td>\n",
              "      <td>...</td>\n",
              "      <td>...</td>\n",
              "      <td>...</td>\n",
              "    </tr>\n",
              "    <tr>\n",
              "      <th>362232</th>\n",
              "      <td>2012</td>\n",
              "      <td>Country</td>\n",
              "      <td>[I, GOTTA, SAY, BOY, AFTER, ONLY, JUST, A, COU...</td>\n",
              "      <td>343</td>\n",
              "      <td>4</td>\n",
              "      <td>0.011662</td>\n",
              "    </tr>\n",
              "    <tr>\n",
              "      <th>362233</th>\n",
              "      <td>2012</td>\n",
              "      <td>Country</td>\n",
              "      <td>[I, HELPED, YOU, FIND, HER, DIAMOND, RING, YOU...</td>\n",
              "      <td>230</td>\n",
              "      <td>1</td>\n",
              "      <td>0.004348</td>\n",
              "    </tr>\n",
              "    <tr>\n",
              "      <th>362234</th>\n",
              "      <td>2012</td>\n",
              "      <td>Country</td>\n",
              "      <td>[LOOK, AT, THE, COUPLE, IN, THE, CORNER, BOOTH...</td>\n",
              "      <td>259</td>\n",
              "      <td>3</td>\n",
              "      <td>0.011583</td>\n",
              "    </tr>\n",
              "    <tr>\n",
              "      <th>362235</th>\n",
              "      <td>2012</td>\n",
              "      <td>Country</td>\n",
              "      <td>[WHEN, I, FLY, OFF, THIS, MORTAL, EARTH, AND, ...</td>\n",
              "      <td>177</td>\n",
              "      <td>18</td>\n",
              "      <td>0.101695</td>\n",
              "    </tr>\n",
              "    <tr>\n",
              "      <th>362236</th>\n",
              "      <td>2012</td>\n",
              "      <td>Country</td>\n",
              "      <td>[I, HEARD, FROM, A, FRIEND, OF, A, FRIEND, OF,...</td>\n",
              "      <td>338</td>\n",
              "      <td>25</td>\n",
              "      <td>0.073964</td>\n",
              "    </tr>\n",
              "  </tbody>\n",
              "</table>\n",
              "<p>242610 rows × 6 columns</p>\n",
              "</div>"
            ],
            "text/plain": [
              "        year    genre  ... Total      Mean\n",
              "0       2009      Pop  ...    18  0.038136\n",
              "1       2009      Pop  ...     9  0.033582\n",
              "2       2009      Pop  ...     6  0.033898\n",
              "3       2009      Pop  ...    44  0.081633\n",
              "4       2009      Pop  ...     4  0.011834\n",
              "...      ...      ...  ...   ...       ...\n",
              "362232  2012  Country  ...     4  0.011662\n",
              "362233  2012  Country  ...     1  0.004348\n",
              "362234  2012  Country  ...     3  0.011583\n",
              "362235  2012  Country  ...    18  0.101695\n",
              "362236  2012  Country  ...    25  0.073964\n",
              "\n",
              "[242610 rows x 6 columns]"
            ]
          },
          "metadata": {
            "tags": []
          },
          "execution_count": 33
        }
      ]
    },
    {
      "cell_type": "code",
      "metadata": {
        "id": "vV0xVV8ImPSp",
        "colab_type": "code",
        "outputId": "d482fc21-43e1-4c23-8895-3061738143d5",
        "colab": {
          "base_uri": "https://localhost:8080/",
          "height": 395
        }
      },
      "source": [
        "# draw a plot with colours \n",
        "acc = song.groupby([\"year\", \"genre\"], as_index=False)['Mean'].mean()\n",
        "# Prepare Data \n",
        "# Create as many colors as there are unique midwest['category']\n",
        "categories = np.unique(acc['genre'])\n",
        "colors = [plt.cm.tab10(i/float(len(categories)-1)) for i in range(len(categories))]\n",
        "markers=['.',',','o','v','^','<','>','1','2','3','4','8','s','p','P','*','h','H','+','x','X','D','d','|','_']\n",
        "# Draw Plot for Each Category\n",
        "plt.figure(figsize=(10,5), dpi= 80, facecolor='w', edgecolor='k')\n",
        "for i, category in enumerate(categories):\n",
        "    plt.scatter('year', \"Mean\",data=acc.loc[acc.genre==category, :], marker=markers[i], s=70, c=colors[i], label=str(category))\n",
        "plt.gca().set(xlabel='Year', ylabel='Sentiment Value')\n",
        "plt.xticks(fontsize=12); plt.yticks(fontsize=12)\n",
        "plt.title(\"Sentiment Mean Value vs Year\", fontsize=22)\n",
        "plt.legend(fontsize=12, loc='center left', bbox_to_anchor=(1, 0.5))    \n",
        "plt.show()    "
      ],
      "execution_count": 35,
      "outputs": [
        {
          "output_type": "display_data",
          "data": {
            "image/png": "[encoded data removed]",
            "text/plain": [
              "<Figure size 800x400 with 1 Axes>"
            ]
          },
          "metadata": {
            "tags": []
          }
        }
      ]
    },
    {
      "cell_type": "code",
      "metadata": {
        "id": "8qCb2J5QsY9n",
        "colab_type": "code",
        "outputId": "72f779d2-b2cf-415f-d6fd-1c77a2c464c6",
        "colab": {
          "base_uri": "https://localhost:8080/",
          "height": 395
        }
      },
      "source": [
        "#draw plot by year mean\n",
        "acc = song.groupby([\"year\"], as_index=False)['Mean'].mean()\n",
        "plt.figure(figsize=(10, 5), dpi= 80, facecolor='w', edgecolor='k')\n",
        "plt.scatter('year', \"Mean\",data=acc,  s=70)\n",
        "plt.gca().set(xlabel='Year', ylabel='Sentiment Value')\n",
        "plt.xticks(fontsize=12); plt.yticks(fontsize=12)\n",
        "plt.title(\"Sentiment Mean Value vs Year\", fontsize=22)\n",
        "plt.legend(fontsize=12)    \n",
        "plt.show()    "
      ],
      "execution_count": 37,
      "outputs": [
        {
          "output_type": "display_data",
          "data": {
            "image/png": "[encoded data removed]",
            "text/plain": [
              "<Figure size 800x400 with 1 Axes>"
            ]
          },
          "metadata": {
            "tags": []
          }
        }
      ]
    },
    {
      "cell_type": "markdown",
      "metadata": {
        "id": "0xjIEO0OTrEi",
        "colab_type": "text"
      },
      "source": [
        "## Executive Summary\n",
        "In this project we analyze the sentiment of the song from 1965 to 2015, we analyze the sentiment by count the word from the sentiment dictionary in the lyrics, from the result we found Jazz and rock music are usually have more positive sentiments than Metal.\n",
        "Introduction\n",
        "Overall, we want to analyze the sentiment of each kind of song and to see if the year will affect the song’s sentiment.\n",
        "The data set we use is the MetroLyrics dataset which included the information of Songs and Harvard IV-4 dictionary which can provide us the sentiment information of a word.\n",
        "##Methodology\n",
        "First I do some clean work to reduce data set size, the MetroLyrics data set include more than 250000 rows, to reduce the data frame size I drop all the rows with NA value in lyrics column, year and genre column. After select and clean work we got a data frame with 3 columns: year, genre, lyrics, with 242610 rows. (see the code chunk: clean the lyrics)  \n",
        "Also, I split the lyrics column’s value from string type to list type, removed all the non-character symbols. To the Harvard IV-4 dictionary, I only keep the column with sentiments and store them into 2 lists.(see the code chunk: create 2 lists of word one pos one neg)  \n",
        "When we analyze the sentiments since there are no sentiments weight provide us in the dictionary, we assumed that: each positive word equals 1 score and negative word equal -1 score.  \n",
        "Equations are list below:  \n",
        "Score =positive number -negative number\n",
        "##Result\n",
        "From the plot, we can see most of the songs are valued around 5 to 10 which is quite close to the result of Dodds and Danforth’s paper, due lyrics data set are different, the plots are different from original one, but the general result is similar and the metal has the most negative emotion of all kinds of songs and Pop is also very negative. But we still need to clarify that it is not a good algorithm to calculate the song’s sentiment. Each weight of the word in the dictionary is equal to 1 or -1, which is different in the real world, like happy and excellent have a different level emotion. A possible improvement algorithm is to add weight to each word, calculate the percentage of the negative and positive word after removed the stop word in lyrics.\n",
        "\n",
        "\n"
      ]
    }
  ]
}