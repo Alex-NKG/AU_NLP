{
  "nbformat": 4,
  "nbformat_minor": 0,
  "metadata": {
    "kernelspec": {
      "name": "python3",
      "display_name": "Python 3"
    },
    "colab": {
      "name": "HW2.ipynb",
      "provenance": [],
      "collapsed_sections": []
    }
  },
  "cells": [
    {
      "cell_type": "markdown",
      "metadata": {
        "collapsed": true,
        "id": "RIvKJMhNZ2Tx",
        "colab_type": "text"
      },
      "source": [
        "# Syllable Counting\n",
        "\n",
        "## Part I (10 pts.): Think it Out\n",
        "\n",
        "How might one create a syllable-counting algorithm? In a paragraph or two, write out your thoughts on what you might check for to count syllables, given a word. You could begin by naming some common words and observing general patterns. Are there any exceptions that you should be aware of?"
      ]
    },
    {
      "cell_type": "markdown",
      "metadata": {
        "id": "u0NdNjstZ2Tz",
        "colab_type": "text"
      },
      "source": [
        "First, I not know what the exactly meaning of \"syllable\" in English, then I find a website called [how many syllables](https://www.howmanysyllables.com/),\n",
        "it provider some rules for me:\n",
        "+ A syllable is the sound of a vowel (A, E, I, O, U) that is created when pronouncing the letters A, E, I, O, U, or Y.  \n",
        "+ The number of times that you hear the sound of a vowel is the number of syllables in a word.  \n",
        "+ When two (or more) vowels are next to each other, the number of syllables depends on the number of vowel sounds.  \n",
        "+ If a vowel is silent, it is not counted as a syllable.  \n",
        "+ Does the word end with \"le\" or \"les?\" This is a syllable if the letter before the \"le\" is a consonant.  \n",
        "\n",
        "a potential algorithm:\n",
        "1. count the total vowel in each word\n",
        "2. remove the noumber of vowels close to each other\n",
        "3. set a list include other exceptions\n"
      ]
    },
    {
      "cell_type": "markdown",
      "metadata": {
        "id": "cWmrYAURZ2T0",
        "colab_type": "text"
      },
      "source": [
        "# Part II (40 pts.): Implementation\n",
        "\n",
        "Copy and paste the below snippet of code to your editor of choice, and implement it:"
      ]
    },
    {
      "cell_type": "code",
      "metadata": {
        "trusted": true,
        "id": "pcDhsW2jZ2T1",
        "colab_type": "code",
        "colab": {
          "base_uri": "https://localhost:8080/",
          "height": 34
        },
        "outputId": "4d9f0ea2-b139-4d40-f8b2-80d8b93ee0d6"
      },
      "source": [
        "#function syllable_counter \n",
        "# Automatically counts the number of syllables in a word \n",
        "# \n",
        "# input: word, a string (representing an english word) \n",
        "# output: syllable_count, an integer \n",
        "test_list=(\"It is a test list to do some thing\")\n",
        "\n",
        "def syllable_counter(word):\n",
        "    word = word.lower()\n",
        "    syllable_count = 0\n",
        "    vowel = \"aeiouy\"\n",
        "    if word[0] in vowel:\n",
        "        syllable_count += 1\n",
        "    for i in range(1, len(word)):\n",
        "        if word[i] in vowel and word[i - 1] not in vowel:\n",
        "            syllable_count += 1\n",
        "    if word.endswith(\"e\") :\n",
        "        syllable_count -= 1\n",
        "    if (word.endswith(\"le\") and word[i-3] not in vowel):\n",
        "        syllable_count += 1\n",
        "    if syllable_count == 0:\n",
        "        syllable_count = 1\n",
        "    \n",
        "    return syllable_count\n",
        "    \n",
        "\n",
        "syllable_counter (test_list)\n",
        "\n"
      ],
      "execution_count": 99,
      "outputs": [
        {
          "output_type": "execute_result",
          "data": {
            "text/plain": [
              "10"
            ]
          },
          "metadata": {
            "tags": []
          },
          "execution_count": 99
        }
      ]
    },
    {
      "cell_type": "markdown",
      "metadata": {
        "id": "Fb7aJtxEPKVc",
        "colab_type": "text"
      },
      "source": [
        "# Part III (20 pts.): Unit Testing\n",
        "Creating “unit tests” for small components of your code is considered to be good programming practice. In our case, you do not want to haphazardly use your syllable_counter function to implement the Flesch-Kincaid Reading Ease score without knowing that it works properly! In other words: if your Flesch-Kincaid Reading Ease score is incorrect, you won’t easily know where to look to fix the error. (This is a simple example; in real world settings, it can be so much worse.)\n"
      ]
    },
    {
      "cell_type": "code",
      "metadata": {
        "id": "UgDPBToxPUSs",
        "colab_type": "code",
        "colab": {
          "base_uri": "https://localhost:8080/",
          "height": 34
        },
        "outputId": "5b93d49c-a0d5-4382-9ee2-cd5308764655"
      },
      "source": [
        "#function check_syllable_counter \n",
        "# Unit test for syllable_counter function. Calls the function \n",
        "# on pre-specified words and returns results in a dict. \n",
        "# \n",
        "# input: my_syllable_counter, your function \n",
        "# output: test_results, a dictionary where:\n",
        "\n",
        "# the keys are the testing words \n",
        "# the values are Booleans, if syllable count is correct \n",
        "def my_syllable_counter(my_syllable_counter):\n",
        "\n",
        "# create a dictionary of words and the number of syllables\n",
        "\n",
        "  word_tests = {'apple':2, \n",
        "                'ought':1, #\n",
        "                'nice':1, #\n",
        "                'henry':2,#\n",
        "                'polo':2, #\n",
        "                'cumbersome':3,#\n",
        "                'apologetic':5,#\n",
        "                'please':1,#\n",
        "                'only':2,#\n",
        "                'heretic':3,#\n",
        "                'fall':1,#\n",
        "                'purview':2}#\n",
        "\n",
        "# use dictionary above to test your function \n",
        "  test_results={}\n",
        "  for i in word_tests.keys():\n",
        "    test_results[i]=my_syllable_counter(i)\n",
        "  #print(test_results)\n",
        "  return test_results==word_tests\n",
        "\n",
        "\n",
        "my_syllable_counter(syllable_counter)\n",
        "\n",
        "\n"
      ],
      "execution_count": 104,
      "outputs": [
        {
          "output_type": "execute_result",
          "data": {
            "text/plain": [
              "True"
            ]
          },
          "metadata": {
            "tags": []
          },
          "execution_count": 104
        }
      ]
    },
    {
      "cell_type": "markdown",
      "metadata": {
        "id": "wAi6ZMxHcSh0",
        "colab_type": "text"
      },
      "source": [
        "# Back to the Flesch-Kincaid Score\n",
        "\n",
        "Now that you have faith in your syllable_counter function, we can return to Flesch-Kincaid Reading Ease formula:"
      ]
    },
    {
      "cell_type": "code",
      "metadata": {
        "id": "8NBH9Y-Ccqfm",
        "colab_type": "code",
        "colab": {
          "base_uri": "https://localhost:8080/",
          "height": 34
        },
        "outputId": "6c460b4f-4251-4986-e0d4-919ffa5d7000"
      },
      "source": [
        "#function fkre_scorer # Implements the Flesch-Kincaid Reading Ease score. \n",
        "# \n",
        "# input: text, a string representing a document \n",
        "# output: readability_score, float (the fkre score) \n",
        "\n",
        "def fkre_scorer(text):\n",
        "  sentence = text.count('.') + text.count('!') + text.count(';') + text.count(':') + text.count('?')\n",
        "  #print(sentence)\n",
        "  words = len(text.split())\n",
        "  #print(words)\n",
        "  num_syllables=syllable_counter (text)\n",
        "  #print(num_syllables)\n",
        "  readability_score = 206.835 - 1.015 * (float(words) / sentence) - 84.6 * (num_syllables / float(words))\n",
        "  return readability_score\n",
        "#fkre_scorer(\"sddsdsdsdsd, dfsfsfdsfsd.fdssda!dadssa\")"
      ],
      "execution_count": 198,
      "outputs": [
        {
          "output_type": "execute_result",
          "data": {
            "text/plain": [
              "78.92000000000003"
            ]
          },
          "metadata": {
            "tags": []
          },
          "execution_count": 198
        }
      ]
    },
    {
      "cell_type": "markdown",
      "metadata": {
        "id": "BjBmQlwnjnPS",
        "colab_type": "text"
      },
      "source": [
        "# Part II (10 pts.): Use Function\n",
        "Download the below stories from Project Gutenberg and use your fkre_scorer function to determine their respective readability scores:\n",
        "\n",
        "A Tale of Two Cities by Charles Dickens,\n",
        "\n",
        "The Adventures of Sherlock Holmes by Arthur Conan Doyle, and\n",
        "\n",
        "Dracula by Bram Stoker.\n",
        "\n",
        "Adventures of Huckleberry Finn by Mark Twain\n",
        "\n",
        "Copy and paste the below code snippet, and complete the implementation:"
      ]
    },
    {
      "cell_type": "code",
      "metadata": {
        "id": "GeqDEs_Rkljl",
        "colab_type": "code",
        "colab": {
          "base_uri": "https://localhost:8080/",
          "height": 173
        },
        "outputId": "c4e1a76d-20fe-4599-c1f9-42dd5cfda9f9"
      },
      "source": [
        "#function score_novels \n",
        "# Load three novels and prints out their readability \n",
        "# using the FKRE score.\n",
        "\n",
        "# \n",
        "# input: novel_df, a pandas dataframe with columns: \n",
        "# novel_name, file_name \n",
        "# output: fkre_df, a pandas dataframe with columns: \n",
        "# novel_name, FKRE_score\n",
        "\n",
        "import os\n",
        "import pandas as pd\n",
        "\n",
        "def input_format():\n",
        "  file_list=[]\n",
        "  name_list=[]\n",
        "  for dirName, subdirList, fileList in os.walk('.'):\n",
        "# all text doc are in the same path of the notebook!\n",
        "    for fname in fileList:\n",
        "      if fname.endswith('.txt'):\n",
        "        file_list.append(fname)\n",
        "        name_list.append(fname[:-4])\n",
        "  novel_df = pd.DataFrame({\"novel_name\":name_list, \"file_name\":file_list})\n",
        "  #print(novel_df)\n",
        "  return novel_df\n",
        "\n",
        "\n",
        "def score_novels(novel_df):\n",
        "  fkre_df = pd.DataFrame(columns=['name','score'])  \n",
        "  for row in novel_df.itertuples():\n",
        "    novel=getattr(row, 'novel_name')\n",
        "    fileName=getattr(row, 'file_name')\n",
        "    with open(fileName) as f:\n",
        "      text = f.read()\n",
        "    score=fkre_scorer(text)\n",
        "    #print(novel,score)\n",
        "    fkre_df=fkre_df.append({'name':novel,'score':score},ignore_index=True)\n",
        "  \n",
        "  return fkre_df\n",
        "    \n",
        "\n",
        "score_novels(input_format())\n"
      ],
      "execution_count": 229,
      "outputs": [
        {
          "output_type": "execute_result",
          "data": {
            "text/html": [
              "<div>\n",
              "<style scoped>\n",
              "    .dataframe tbody tr th:only-of-type {\n",
              "        vertical-align: middle;\n",
              "    }\n",
              "\n",
              "    .dataframe tbody tr th {\n",
              "        vertical-align: top;\n",
              "    }\n",
              "\n",
              "    .dataframe thead th {\n",
              "        text-align: right;\n",
              "    }\n",
              "</style>\n",
              "<table border=\"1\" class=\"dataframe\">\n",
              "  <thead>\n",
              "    <tr style=\"text-align: right;\">\n",
              "      <th></th>\n",
              "      <th>name</th>\n",
              "      <th>score</th>\n",
              "    </tr>\n",
              "  </thead>\n",
              "  <tbody>\n",
              "    <tr>\n",
              "      <th>0</th>\n",
              "      <td>Dracula</td>\n",
              "      <td>74.170654</td>\n",
              "    </tr>\n",
              "    <tr>\n",
              "      <th>1</th>\n",
              "      <td>The Adventures of Sherlock Holmes</td>\n",
              "      <td>68.617699</td>\n",
              "    </tr>\n",
              "    <tr>\n",
              "      <th>2</th>\n",
              "      <td>A Tale of Two Cities</td>\n",
              "      <td>65.602519</td>\n",
              "    </tr>\n",
              "    <tr>\n",
              "      <th>3</th>\n",
              "      <td>Adventures of Huckleberry Finn</td>\n",
              "      <td>80.091815</td>\n",
              "    </tr>\n",
              "  </tbody>\n",
              "</table>\n",
              "</div>"
            ],
            "text/plain": [
              "                                name      score\n",
              "0                            Dracula  74.170654\n",
              "1  The Adventures of Sherlock Holmes  68.617699\n",
              "2               A Tale of Two Cities  65.602519\n",
              "3     Adventures of Huckleberry Finn  80.091815"
            ]
          },
          "metadata": {
            "tags": []
          },
          "execution_count": 229
        }
      ]
    }
  ]
}
