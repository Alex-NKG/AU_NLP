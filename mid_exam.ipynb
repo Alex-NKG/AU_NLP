{
  "nbformat": 4,
  "nbformat_minor": 0,
  "metadata": {
    "colab": {
      "name": "mid_exam.ipynb",
      "provenance": [],
      "collapsed_sections": [],
      "machine_shape": "hm",
      "mount_file_id": "10MoNPUBSDSNrx31T8ctb-lWjKgXivrAR",
      "authorship_tag": "ABX9TyM3PRqRPcEclJm9QV5elR8Q"
    },
    "kernelspec": {
      "name": "python3",
      "display_name": "Python 3"
    }
  },
  "cells": [
    {
      "cell_type": "code",
      "metadata": {
        "id": "OEzgGGEYOfty",
        "colab_type": "code",
        "colab": {
          "base_uri": "https://localhost:8080/",
          "height": 555
        },
        "outputId": "0217c90b-a608-4e11-ee3d-43de9cd2bb95"
      },
      "source": [
        "import pandas as pd\n",
        "import re\n",
        "import pandas as pd\n",
        "import numpy as np\n",
        "import nltk\n",
        "nltk.download('punkt')\n",
        "from nltk.tokenize import sent_tokenize, word_tokenize\n",
        "from sklearn.metrics.pairwise import cosine_similarity\n",
        "nltk.download('stopwords')\n",
        "from nltk.corpus import stopwords\n",
        "stop_words= set(stopwords.words('english'))\n",
        "nltk.download('averaged_perceptron_tagger')\n",
        "data=pd.read_json(\"/content/drive/My Drive/NLP/exam/JEOPARDY_QUESTIONS1.json\",encoding='utf-8') \n",
        "data"
      ],
      "execution_count": 1,
      "outputs": [
        {
          "output_type": "stream",
          "text": [
            "[nltk_data] Downloading package punkt to /root/nltk_data...\n",
            "[nltk_data]   Package punkt is already up-to-date!\n",
            "[nltk_data] Downloading package stopwords to /root/nltk_data...\n",
            "[nltk_data]   Package stopwords is already up-to-date!\n",
            "[nltk_data] Downloading package averaged_perceptron_tagger to\n",
            "[nltk_data]     /root/nltk_data...\n",
            "[nltk_data]   Package averaged_perceptron_tagger is already up-to-\n",
            "[nltk_data]       date!\n"
          ],
          "name": "stdout"
        },
        {
          "output_type": "execute_result",
          "data": {
            "text/html": [
              "<div>\n",
              "<style scoped>\n",
              "    .dataframe tbody tr th:only-of-type {\n",
              "        vertical-align: middle;\n",
              "    }\n",
              "\n",
              "    .dataframe tbody tr th {\n",
              "        vertical-align: top;\n",
              "    }\n",
              "\n",
              "    .dataframe thead th {\n",
              "        text-align: right;\n",
              "    }\n",
              "</style>\n",
              "<table border=\"1\" class=\"dataframe\">\n",
              "  <thead>\n",
              "    <tr style=\"text-align: right;\">\n",
              "      <th></th>\n",
              "      <th>category</th>\n",
              "      <th>air_date</th>\n",
              "      <th>question</th>\n",
              "      <th>value</th>\n",
              "      <th>answer</th>\n",
              "      <th>round</th>\n",
              "      <th>show_number</th>\n",
              "    </tr>\n",
              "  </thead>\n",
              "  <tbody>\n",
              "    <tr>\n",
              "      <th>0</th>\n",
              "      <td>HISTORY</td>\n",
              "      <td>2004-12-31</td>\n",
              "      <td>'For the last 8 years of his life, Galileo was...</td>\n",
              "      <td>$200</td>\n",
              "      <td>Copernicus</td>\n",
              "      <td>Jeopardy!</td>\n",
              "      <td>4680</td>\n",
              "    </tr>\n",
              "    <tr>\n",
              "      <th>1</th>\n",
              "      <td>ESPN's TOP 10 ALL-TIME ATHLETES</td>\n",
              "      <td>2004-12-31</td>\n",
              "      <td>'No. 2: 1912 Olympian; football star at Carlis...</td>\n",
              "      <td>$200</td>\n",
              "      <td>Jim Thorpe</td>\n",
              "      <td>Jeopardy!</td>\n",
              "      <td>4680</td>\n",
              "    </tr>\n",
              "    <tr>\n",
              "      <th>2</th>\n",
              "      <td>EVERYBODY TALKS ABOUT IT...</td>\n",
              "      <td>2004-12-31</td>\n",
              "      <td>'The city of Yuma in this state has a record a...</td>\n",
              "      <td>$200</td>\n",
              "      <td>Arizona</td>\n",
              "      <td>Jeopardy!</td>\n",
              "      <td>4680</td>\n",
              "    </tr>\n",
              "    <tr>\n",
              "      <th>3</th>\n",
              "      <td>THE COMPANY LINE</td>\n",
              "      <td>2004-12-31</td>\n",
              "      <td>'In 1963, live on \"The Art Linkletter Show\", t...</td>\n",
              "      <td>$200</td>\n",
              "      <td>McDonald\\'s</td>\n",
              "      <td>Jeopardy!</td>\n",
              "      <td>4680</td>\n",
              "    </tr>\n",
              "    <tr>\n",
              "      <th>4</th>\n",
              "      <td>EPITAPHS &amp; TRIBUTES</td>\n",
              "      <td>2004-12-31</td>\n",
              "      <td>'Signer of the Dec. of Indep., framer of the C...</td>\n",
              "      <td>$200</td>\n",
              "      <td>John Adams</td>\n",
              "      <td>Jeopardy!</td>\n",
              "      <td>4680</td>\n",
              "    </tr>\n",
              "    <tr>\n",
              "      <th>...</th>\n",
              "      <td>...</td>\n",
              "      <td>...</td>\n",
              "      <td>...</td>\n",
              "      <td>...</td>\n",
              "      <td>...</td>\n",
              "      <td>...</td>\n",
              "      <td>...</td>\n",
              "    </tr>\n",
              "    <tr>\n",
              "      <th>216925</th>\n",
              "      <td>RIDDLE ME THIS</td>\n",
              "      <td>2006-05-11</td>\n",
              "      <td>'This Puccini opera turns on the solution to 3...</td>\n",
              "      <td>$2000</td>\n",
              "      <td>Turandot</td>\n",
              "      <td>Double Jeopardy!</td>\n",
              "      <td>4999</td>\n",
              "    </tr>\n",
              "    <tr>\n",
              "      <th>216926</th>\n",
              "      <td>\"T\" BIRDS</td>\n",
              "      <td>2006-05-11</td>\n",
              "      <td>'In North America this term is properly applie...</td>\n",
              "      <td>$2000</td>\n",
              "      <td>a titmouse</td>\n",
              "      <td>Double Jeopardy!</td>\n",
              "      <td>4999</td>\n",
              "    </tr>\n",
              "    <tr>\n",
              "      <th>216927</th>\n",
              "      <td>AUTHORS IN THEIR YOUTH</td>\n",
              "      <td>2006-05-11</td>\n",
              "      <td>'In Penny Lane, where this \"Hellraiser\" grew u...</td>\n",
              "      <td>$2000</td>\n",
              "      <td>Clive Barker</td>\n",
              "      <td>Double Jeopardy!</td>\n",
              "      <td>4999</td>\n",
              "    </tr>\n",
              "    <tr>\n",
              "      <th>216928</th>\n",
              "      <td>QUOTATIONS</td>\n",
              "      <td>2006-05-11</td>\n",
              "      <td>'From Ft. Sill, Okla. he made the plea, Arizon...</td>\n",
              "      <td>$2000</td>\n",
              "      <td>Geronimo</td>\n",
              "      <td>Double Jeopardy!</td>\n",
              "      <td>4999</td>\n",
              "    </tr>\n",
              "    <tr>\n",
              "      <th>216929</th>\n",
              "      <td>HISTORIC NAMES</td>\n",
              "      <td>2006-05-11</td>\n",
              "      <td>'A silent movie title includes the last name o...</td>\n",
              "      <td>None</td>\n",
              "      <td>Grigori Alexandrovich Potemkin</td>\n",
              "      <td>Final Jeopardy!</td>\n",
              "      <td>4999</td>\n",
              "    </tr>\n",
              "  </tbody>\n",
              "</table>\n",
              "<p>216930 rows × 7 columns</p>\n",
              "</div>"
            ],
            "text/plain": [
              "                               category  ... show_number\n",
              "0                               HISTORY  ...        4680\n",
              "1       ESPN's TOP 10 ALL-TIME ATHLETES  ...        4680\n",
              "2           EVERYBODY TALKS ABOUT IT...  ...        4680\n",
              "3                      THE COMPANY LINE  ...        4680\n",
              "4                   EPITAPHS & TRIBUTES  ...        4680\n",
              "...                                 ...  ...         ...\n",
              "216925                   RIDDLE ME THIS  ...        4999\n",
              "216926                        \"T\" BIRDS  ...        4999\n",
              "216927           AUTHORS IN THEIR YOUTH  ...        4999\n",
              "216928                       QUOTATIONS  ...        4999\n",
              "216929                   HISTORIC NAMES  ...        4999\n",
              "\n",
              "[216930 rows x 7 columns]"
            ]
          },
          "metadata": {
            "tags": []
          },
          "execution_count": 1
        }
      ]
    },
    {
      "cell_type": "code",
      "metadata": {
        "id": "DUiBMut9PRCf",
        "colab_type": "code",
        "colab": {}
      },
      "source": [
        ""
      ],
      "execution_count": 0,
      "outputs": []
    },
    {
      "cell_type": "code",
      "metadata": {
        "id": "BIJz3raEulzj",
        "colab_type": "code",
        "colab": {
          "base_uri": "https://localhost:8080/",
          "height": 187
        },
        "outputId": "489aec6e-1872-4bd7-9e21-d09097d2902f"
      },
      "source": [
        "#Q1\n",
        "import json\n",
        "config = json.loads(open('/content/drive/My Drive/NLP/exam/JEOPARDY_QUESTIONS1.json').read())\n",
        "\n",
        "from collections import Counter  \n",
        "ct=Counter([x['category'] for x in config if x.get('category')])#\\'category\\':.*?(?=,)\n",
        "ct=ct.most_common(len(ct))\n",
        "ct[0:10]"
      ],
      "execution_count": 2,
      "outputs": [
        {
          "output_type": "execute_result",
          "data": {
            "text/plain": [
              "[('BEFORE & AFTER', 547),\n",
              " ('SCIENCE', 519),\n",
              " ('LITERATURE', 496),\n",
              " ('AMERICAN HISTORY', 418),\n",
              " ('POTPOURRI', 401),\n",
              " ('WORLD HISTORY', 377),\n",
              " ('WORD ORIGINS', 371),\n",
              " ('COLLEGES & UNIVERSITIES', 351),\n",
              " ('HISTORY', 349),\n",
              " ('SPORTS', 342)]"
            ]
          },
          "metadata": {
            "tags": []
          },
          "execution_count": 2
        }
      ]
    },
    {
      "cell_type": "code",
      "metadata": {
        "id": "g_1RW6mwokBj",
        "colab_type": "code",
        "colab": {
          "base_uri": "https://localhost:8080/",
          "height": 34
        },
        "outputId": "f5c0a63c-0fdc-49c5-dc01-87679f892144"
      },
      "source": [
        "#Q2\n",
        "data1=data\n",
        "data1['value1'] = data['value'].str.extract('\\$(\\d+)', expand=False).astype(float)#clean digital\n",
        "data1[\"length\"]= data[\"question\"].str.len() \n",
        "data1=data1.fillna(0)\n",
        "from scipy.stats import pearsonr\n",
        "x = np.asarray(data1['value1'])\n",
        "y = np.asarray(data1['length'])\n",
        "print(pearsonr(x,y))#r=0.1112,p-value=0, a liitle connection?"
      ],
      "execution_count": 3,
      "outputs": [
        {
          "output_type": "stream",
          "text": [
            "(0.10903455652403451, 0.0)\n"
          ],
          "name": "stdout"
        }
      ]
    },
    {
      "cell_type": "code",
      "metadata": {
        "id": "z0wDPU8FPKbV",
        "colab_type": "code",
        "outputId": "7bebf9fd-fb0c-4653-ad7c-916a64a0c625",
        "colab": {
          "base_uri": "https://localhost:8080/",
          "height": 419
        }
      },
      "source": [
        "data"
      ],
      "execution_count": 4,
      "outputs": [
        {
          "output_type": "execute_result",
          "data": {
            "text/html": [
              "<div>\n",
              "<style scoped>\n",
              "    .dataframe tbody tr th:only-of-type {\n",
              "        vertical-align: middle;\n",
              "    }\n",
              "\n",
              "    .dataframe tbody tr th {\n",
              "        vertical-align: top;\n",
              "    }\n",
              "\n",
              "    .dataframe thead th {\n",
              "        text-align: right;\n",
              "    }\n",
              "</style>\n",
              "<table border=\"1\" class=\"dataframe\">\n",
              "  <thead>\n",
              "    <tr style=\"text-align: right;\">\n",
              "      <th></th>\n",
              "      <th>category</th>\n",
              "      <th>air_date</th>\n",
              "      <th>question</th>\n",
              "      <th>value</th>\n",
              "      <th>answer</th>\n",
              "      <th>round</th>\n",
              "      <th>show_number</th>\n",
              "      <th>value1</th>\n",
              "      <th>length</th>\n",
              "    </tr>\n",
              "  </thead>\n",
              "  <tbody>\n",
              "    <tr>\n",
              "      <th>0</th>\n",
              "      <td>HISTORY</td>\n",
              "      <td>2004-12-31</td>\n",
              "      <td>'For the last 8 years of his life, Galileo was...</td>\n",
              "      <td>$200</td>\n",
              "      <td>Copernicus</td>\n",
              "      <td>Jeopardy!</td>\n",
              "      <td>4680</td>\n",
              "      <td>200.0</td>\n",
              "      <td>98</td>\n",
              "    </tr>\n",
              "    <tr>\n",
              "      <th>1</th>\n",
              "      <td>ESPN's TOP 10 ALL-TIME ATHLETES</td>\n",
              "      <td>2004-12-31</td>\n",
              "      <td>'No. 2: 1912 Olympian; football star at Carlis...</td>\n",
              "      <td>$200</td>\n",
              "      <td>Jim Thorpe</td>\n",
              "      <td>Jeopardy!</td>\n",
              "      <td>4680</td>\n",
              "      <td>200.0</td>\n",
              "      <td>109</td>\n",
              "    </tr>\n",
              "    <tr>\n",
              "      <th>2</th>\n",
              "      <td>EVERYBODY TALKS ABOUT IT...</td>\n",
              "      <td>2004-12-31</td>\n",
              "      <td>'The city of Yuma in this state has a record a...</td>\n",
              "      <td>$200</td>\n",
              "      <td>Arizona</td>\n",
              "      <td>Jeopardy!</td>\n",
              "      <td>4680</td>\n",
              "      <td>200.0</td>\n",
              "      <td>90</td>\n",
              "    </tr>\n",
              "    <tr>\n",
              "      <th>3</th>\n",
              "      <td>THE COMPANY LINE</td>\n",
              "      <td>2004-12-31</td>\n",
              "      <td>'In 1963, live on \"The Art Linkletter Show\", t...</td>\n",
              "      <td>$200</td>\n",
              "      <td>McDonald\\'s</td>\n",
              "      <td>Jeopardy!</td>\n",
              "      <td>4680</td>\n",
              "      <td>200.0</td>\n",
              "      <td>86</td>\n",
              "    </tr>\n",
              "    <tr>\n",
              "      <th>4</th>\n",
              "      <td>EPITAPHS &amp; TRIBUTES</td>\n",
              "      <td>2004-12-31</td>\n",
              "      <td>'Signer of the Dec. of Indep., framer of the C...</td>\n",
              "      <td>$200</td>\n",
              "      <td>John Adams</td>\n",
              "      <td>Jeopardy!</td>\n",
              "      <td>4680</td>\n",
              "      <td>200.0</td>\n",
              "      <td>106</td>\n",
              "    </tr>\n",
              "    <tr>\n",
              "      <th>...</th>\n",
              "      <td>...</td>\n",
              "      <td>...</td>\n",
              "      <td>...</td>\n",
              "      <td>...</td>\n",
              "      <td>...</td>\n",
              "      <td>...</td>\n",
              "      <td>...</td>\n",
              "      <td>...</td>\n",
              "      <td>...</td>\n",
              "    </tr>\n",
              "    <tr>\n",
              "      <th>216925</th>\n",
              "      <td>RIDDLE ME THIS</td>\n",
              "      <td>2006-05-11</td>\n",
              "      <td>'This Puccini opera turns on the solution to 3...</td>\n",
              "      <td>$2000</td>\n",
              "      <td>Turandot</td>\n",
              "      <td>Double Jeopardy!</td>\n",
              "      <td>4999</td>\n",
              "      <td>2000.0</td>\n",
              "      <td>76</td>\n",
              "    </tr>\n",
              "    <tr>\n",
              "      <th>216926</th>\n",
              "      <td>\"T\" BIRDS</td>\n",
              "      <td>2006-05-11</td>\n",
              "      <td>'In North America this term is properly applie...</td>\n",
              "      <td>$2000</td>\n",
              "      <td>a titmouse</td>\n",
              "      <td>Double Jeopardy!</td>\n",
              "      <td>4999</td>\n",
              "      <td>2000.0</td>\n",
              "      <td>105</td>\n",
              "    </tr>\n",
              "    <tr>\n",
              "      <th>216927</th>\n",
              "      <td>AUTHORS IN THEIR YOUTH</td>\n",
              "      <td>2006-05-11</td>\n",
              "      <td>'In Penny Lane, where this \"Hellraiser\" grew u...</td>\n",
              "      <td>$2000</td>\n",
              "      <td>Clive Barker</td>\n",
              "      <td>Double Jeopardy!</td>\n",
              "      <td>4999</td>\n",
              "      <td>2000.0</td>\n",
              "      <td>107</td>\n",
              "    </tr>\n",
              "    <tr>\n",
              "      <th>216928</th>\n",
              "      <td>QUOTATIONS</td>\n",
              "      <td>2006-05-11</td>\n",
              "      <td>'From Ft. Sill, Okla. he made the plea, Arizon...</td>\n",
              "      <td>$2000</td>\n",
              "      <td>Geronimo</td>\n",
              "      <td>Double Jeopardy!</td>\n",
              "      <td>4999</td>\n",
              "      <td>2000.0</td>\n",
              "      <td>120</td>\n",
              "    </tr>\n",
              "    <tr>\n",
              "      <th>216929</th>\n",
              "      <td>HISTORIC NAMES</td>\n",
              "      <td>2006-05-11</td>\n",
              "      <td>'A silent movie title includes the last name o...</td>\n",
              "      <td>None</td>\n",
              "      <td>Grigori Alexandrovich Potemkin</td>\n",
              "      <td>Final Jeopardy!</td>\n",
              "      <td>4999</td>\n",
              "      <td>NaN</td>\n",
              "      <td>105</td>\n",
              "    </tr>\n",
              "  </tbody>\n",
              "</table>\n",
              "<p>216930 rows × 9 columns</p>\n",
              "</div>"
            ],
            "text/plain": [
              "                               category    air_date  ...  value1 length\n",
              "0                               HISTORY  2004-12-31  ...   200.0     98\n",
              "1       ESPN's TOP 10 ALL-TIME ATHLETES  2004-12-31  ...   200.0    109\n",
              "2           EVERYBODY TALKS ABOUT IT...  2004-12-31  ...   200.0     90\n",
              "3                      THE COMPANY LINE  2004-12-31  ...   200.0     86\n",
              "4                   EPITAPHS & TRIBUTES  2004-12-31  ...   200.0    106\n",
              "...                                 ...         ...  ...     ...    ...\n",
              "216925                   RIDDLE ME THIS  2006-05-11  ...  2000.0     76\n",
              "216926                        \"T\" BIRDS  2006-05-11  ...  2000.0    105\n",
              "216927           AUTHORS IN THEIR YOUTH  2006-05-11  ...  2000.0    107\n",
              "216928                       QUOTATIONS  2006-05-11  ...  2000.0    120\n",
              "216929                   HISTORIC NAMES  2006-05-11  ...     NaN    105\n",
              "\n",
              "[216930 rows x 9 columns]"
            ]
          },
          "metadata": {
            "tags": []
          },
          "execution_count": 4
        }
      ]
    },
    {
      "cell_type": "code",
      "metadata": {
        "id": "XiCIhRdgWhF_",
        "colab_type": "code",
        "colab": {
          "base_uri": "https://localhost:8080/",
          "height": 419
        },
        "outputId": "880823c0-0c67-42cc-a557-581e3a1401a3"
      },
      "source": [
        "def getlen(x):\n",
        "  x=x.lower()\n",
        "  tags = set(['JJ', 'JJR', 'JJS'])\n",
        "  x=word_tokenize(x)\n",
        "  #print(x)\n",
        "  pos_tags =nltk.pos_tag(x)\n",
        "  #print(pos_tags)\n",
        "  ret = []\n",
        "  for word,pos in pos_tags:\n",
        "    if (pos in tags and re.match(\"^[a|e|i|o|u]\",word)):\n",
        "      ret.append(word)\n",
        "  #print(ret)\n",
        "  return(len(ret))\n",
        "data2006=data.loc[(data['air_date'].str.startswith('2006'))].reset_index(drop=True)\n",
        "data2006[\"adj_vow\"]=data2006[\"question\"].apply(lambda x :getlen(x))\n",
        "data2006\n"
      ],
      "execution_count": 5,
      "outputs": [
        {
          "output_type": "execute_result",
          "data": {
            "text/html": [
              "<div>\n",
              "<style scoped>\n",
              "    .dataframe tbody tr th:only-of-type {\n",
              "        vertical-align: middle;\n",
              "    }\n",
              "\n",
              "    .dataframe tbody tr th {\n",
              "        vertical-align: top;\n",
              "    }\n",
              "\n",
              "    .dataframe thead th {\n",
              "        text-align: right;\n",
              "    }\n",
              "</style>\n",
              "<table border=\"1\" class=\"dataframe\">\n",
              "  <thead>\n",
              "    <tr style=\"text-align: right;\">\n",
              "      <th></th>\n",
              "      <th>category</th>\n",
              "      <th>air_date</th>\n",
              "      <th>question</th>\n",
              "      <th>value</th>\n",
              "      <th>answer</th>\n",
              "      <th>round</th>\n",
              "      <th>show_number</th>\n",
              "      <th>value1</th>\n",
              "      <th>length</th>\n",
              "      <th>adj_vow</th>\n",
              "    </tr>\n",
              "  </thead>\n",
              "  <tbody>\n",
              "    <tr>\n",
              "      <th>0</th>\n",
              "      <td>THE CIVIL WAR</td>\n",
              "      <td>2006-02-06</td>\n",
              "      <td>'His first act after being sworn in as preside...</td>\n",
              "      <td>$200</td>\n",
              "      <td>Jefferson Davis</td>\n",
              "      <td>Jeopardy!</td>\n",
              "      <td>4931</td>\n",
              "      <td>200.0</td>\n",
              "      <td>119</td>\n",
              "      <td>0</td>\n",
              "    </tr>\n",
              "    <tr>\n",
              "      <th>1</th>\n",
              "      <td>CELEBS</td>\n",
              "      <td>2006-02-06</td>\n",
              "      <td>'On Sept. 14, 2005 she gave birth to Sean Pres...</td>\n",
              "      <td>$200</td>\n",
              "      <td>Britney Spears</td>\n",
              "      <td>Jeopardy!</td>\n",
              "      <td>4931</td>\n",
              "      <td>200.0</td>\n",
              "      <td>60</td>\n",
              "      <td>0</td>\n",
              "    </tr>\n",
              "    <tr>\n",
              "      <th>2</th>\n",
              "      <td>WHAT'S IN A NAME?</td>\n",
              "      <td>2006-02-06</td>\n",
              "      <td>'Yeah, baby!  Meaning \"magnificent\", this Texa...</td>\n",
              "      <td>$200</td>\n",
              "      <td>Austin</td>\n",
              "      <td>Jeopardy!</td>\n",
              "      <td>4931</td>\n",
              "      <td>200.0</td>\n",
              "      <td>90</td>\n",
              "      <td>0</td>\n",
              "    </tr>\n",
              "    <tr>\n",
              "      <th>3</th>\n",
              "      <td>EMOTICONS</td>\n",
              "      <td>2006-02-06</td>\n",
              "      <td>';-)&lt;br /&gt;Ocular act that sends a signal'</td>\n",
              "      <td>$200</td>\n",
              "      <td>winking</td>\n",
              "      <td>Jeopardy!</td>\n",
              "      <td>4931</td>\n",
              "      <td>200.0</td>\n",
              "      <td>41</td>\n",
              "      <td>1</td>\n",
              "    </tr>\n",
              "    <tr>\n",
              "      <th>4</th>\n",
              "      <td>FLAG 'EM DOWN</td>\n",
              "      <td>2006-02-06</td>\n",
              "      <td>'The Alamo is located in this city &amp; is depict...</td>\n",
              "      <td>$200</td>\n",
              "      <td>San Antonio</td>\n",
              "      <td>Jeopardy!</td>\n",
              "      <td>4931</td>\n",
              "      <td>200.0</td>\n",
              "      <td>61</td>\n",
              "      <td>0</td>\n",
              "    </tr>\n",
              "    <tr>\n",
              "      <th>...</th>\n",
              "      <td>...</td>\n",
              "      <td>...</td>\n",
              "      <td>...</td>\n",
              "      <td>...</td>\n",
              "      <td>...</td>\n",
              "      <td>...</td>\n",
              "      <td>...</td>\n",
              "      <td>...</td>\n",
              "      <td>...</td>\n",
              "      <td>...</td>\n",
              "    </tr>\n",
              "    <tr>\n",
              "      <th>13721</th>\n",
              "      <td>RIDDLE ME THIS</td>\n",
              "      <td>2006-05-11</td>\n",
              "      <td>'This Puccini opera turns on the solution to 3...</td>\n",
              "      <td>$2000</td>\n",
              "      <td>Turandot</td>\n",
              "      <td>Double Jeopardy!</td>\n",
              "      <td>4999</td>\n",
              "      <td>2000.0</td>\n",
              "      <td>76</td>\n",
              "      <td>0</td>\n",
              "    </tr>\n",
              "    <tr>\n",
              "      <th>13722</th>\n",
              "      <td>\"T\" BIRDS</td>\n",
              "      <td>2006-05-11</td>\n",
              "      <td>'In North America this term is properly applie...</td>\n",
              "      <td>$2000</td>\n",
              "      <td>a titmouse</td>\n",
              "      <td>Double Jeopardy!</td>\n",
              "      <td>4999</td>\n",
              "      <td>2000.0</td>\n",
              "      <td>105</td>\n",
              "      <td>0</td>\n",
              "    </tr>\n",
              "    <tr>\n",
              "      <th>13723</th>\n",
              "      <td>AUTHORS IN THEIR YOUTH</td>\n",
              "      <td>2006-05-11</td>\n",
              "      <td>'In Penny Lane, where this \"Hellraiser\" grew u...</td>\n",
              "      <td>$2000</td>\n",
              "      <td>Clive Barker</td>\n",
              "      <td>Double Jeopardy!</td>\n",
              "      <td>4999</td>\n",
              "      <td>2000.0</td>\n",
              "      <td>107</td>\n",
              "      <td>1</td>\n",
              "    </tr>\n",
              "    <tr>\n",
              "      <th>13724</th>\n",
              "      <td>QUOTATIONS</td>\n",
              "      <td>2006-05-11</td>\n",
              "      <td>'From Ft. Sill, Okla. he made the plea, Arizon...</td>\n",
              "      <td>$2000</td>\n",
              "      <td>Geronimo</td>\n",
              "      <td>Double Jeopardy!</td>\n",
              "      <td>4999</td>\n",
              "      <td>2000.0</td>\n",
              "      <td>120</td>\n",
              "      <td>0</td>\n",
              "    </tr>\n",
              "    <tr>\n",
              "      <th>13725</th>\n",
              "      <td>HISTORIC NAMES</td>\n",
              "      <td>2006-05-11</td>\n",
              "      <td>'A silent movie title includes the last name o...</td>\n",
              "      <td>None</td>\n",
              "      <td>Grigori Alexandrovich Potemkin</td>\n",
              "      <td>Final Jeopardy!</td>\n",
              "      <td>4999</td>\n",
              "      <td>NaN</td>\n",
              "      <td>105</td>\n",
              "      <td>0</td>\n",
              "    </tr>\n",
              "  </tbody>\n",
              "</table>\n",
              "<p>13726 rows × 10 columns</p>\n",
              "</div>"
            ],
            "text/plain": [
              "                     category    air_date  ... length adj_vow\n",
              "0               THE CIVIL WAR  2006-02-06  ...    119       0\n",
              "1                      CELEBS  2006-02-06  ...     60       0\n",
              "2           WHAT'S IN A NAME?  2006-02-06  ...     90       0\n",
              "3                   EMOTICONS  2006-02-06  ...     41       1\n",
              "4               FLAG 'EM DOWN  2006-02-06  ...     61       0\n",
              "...                       ...         ...  ...    ...     ...\n",
              "13721          RIDDLE ME THIS  2006-05-11  ...     76       0\n",
              "13722               \"T\" BIRDS  2006-05-11  ...    105       0\n",
              "13723  AUTHORS IN THEIR YOUTH  2006-05-11  ...    107       1\n",
              "13724              QUOTATIONS  2006-05-11  ...    120       0\n",
              "13725          HISTORIC NAMES  2006-05-11  ...    105       0\n",
              "\n",
              "[13726 rows x 10 columns]"
            ]
          },
          "metadata": {
            "tags": []
          },
          "execution_count": 5
        }
      ]
    },
    {
      "cell_type": "code",
      "metadata": {
        "id": "lV_ZhyqeqSUC",
        "colab_type": "code",
        "colab": {
          "base_uri": "https://localhost:8080/",
          "height": 34
        },
        "outputId": "6c42065c-5fa3-4c4f-9b88-64c654ad57d0"
      },
      "source": [
        "total=sum(data2006[\"adj_vow\"])\n",
        "total"
      ],
      "execution_count": 6,
      "outputs": [
        {
          "output_type": "execute_result",
          "data": {
            "text/plain": [
              "3860"
            ]
          },
          "metadata": {
            "tags": []
          },
          "execution_count": 6
        }
      ]
    },
    {
      "cell_type": "code",
      "metadata": {
        "id": "lZplNULCMZkK",
        "colab_type": "code",
        "colab": {}
      },
      "source": [
        "#Q4\n",
        "knntest=data[['question','category']]\n",
        "\n",
        "#may not use\n",
        "def clean_text(croup):\n",
        "  x=sent_tokenize(croup)\n",
        "  clean_senteces=pd.Series(x).str.replace(\"[^a-zA-Z]\",\" \")\n",
        "  clean_senteces=[s.lower() for s in clean_senteces]\n",
        "  text_no_sp=[]\n",
        "  for r in clean_senteces:\n",
        "    tmp=r.split()\n",
        "    sen_new=\" \".join([i for i in tmp if i not in stop_words ])\n",
        "    if len(sen_new)>0:\n",
        "      text_no_sp.append(sen_new)\n",
        "  text_no_sp=\"\".join(text_no_sp)\n",
        "  return(text_no_sp)\n"
      ],
      "execution_count": 0,
      "outputs": []
    },
    {
      "cell_type": "code",
      "metadata": {
        "id": "Q4efsamh-tkE",
        "colab_type": "code",
        "colab": {
          "base_uri": "https://localhost:8080/",
          "height": 34
        },
        "outputId": "8caa6e7c-01be-4c1e-e5f3-1bce0cbe5eed"
      },
      "source": [
        "#knntest[\"question1\"]=knntest[\"question\"].apply(lambda x :clean_text(x))\n",
        "#knntest=knntest.loc[knntest['category']==\"SCIENCE\"].reset_index(drop=True)\n",
        "#df.loc[df['columnName']=='the value']\n",
        "#knntest_label=np.asarray(knntest[\"category\"])\n",
        "knn=knntest.loc[knntest['category'].isin(['SCIENCE','LITERATURE'])  ].reset_index(drop=True)\n",
        "\n",
        "knntest_label=np.asarray(knn[\"category\"])\n",
        "len(knn)"
      ],
      "execution_count": 23,
      "outputs": [
        {
          "output_type": "execute_result",
          "data": {
            "text/plain": [
              "1015"
            ]
          },
          "metadata": {
            "tags": []
          },
          "execution_count": 23
        }
      ]
    },
    {
      "cell_type": "code",
      "metadata": {
        "id": "CfeSfs4sA5ES",
        "colab_type": "code",
        "colab": {}
      },
      "source": [
        "from sklearn.feature_extraction.text import TfidfVectorizer\n",
        "v = TfidfVectorizer(stop_words=set(stop_words))\n",
        "knntest_set = v.fit_transform(knn[\"question\"])\n"
      ],
      "execution_count": 0,
      "outputs": []
    },
    {
      "cell_type": "code",
      "metadata": {
        "id": "TCHqksDTF7sD",
        "colab_type": "code",
        "colab": {}
      },
      "source": [
        "from sklearn import neighbors     \n",
        "knn = neighbors.KNeighborsClassifier(n_neighbors=3, algorithm='auto', weights='distance', n_jobs=1)\n",
        "knn.fit(knntest_set[0:800],knntest_label[0:800])\n",
        "pred_label=knn.predict(knntest_set[800:900])\n",
        "insamp=knn.predict(knntest_set[0:800])\n"
      ],
      "execution_count": 0,
      "outputs": []
    },
    {
      "cell_type": "code",
      "metadata": {
        "id": "JSAtzmBqY-68",
        "colab_type": "code",
        "colab": {
          "base_uri": "https://localhost:8080/",
          "height": 170
        },
        "outputId": "5527b245-a3fb-4e40-af42-712dbd6bcef6"
      },
      "source": [
        "from sklearn import metrics\n",
        "def metrics_result(actual, predict):\n",
        "  print('precision:{0:.3f}'.format(metrics.precision_score(actual, predict, average='weighted')))\n",
        "  print('recall:{0:0.3f}'.format(metrics.recall_score(actual, predict, average='weighted')))\n",
        "  print('f1-score:{0:.3f}'.format(metrics.f1_score(actual, predict, average='weighted')))\n",
        "print(\"train:0~800,test:800~900\")\n",
        "print(\"=======out of sample========\")\n",
        "metrics_result(knntest_label[800:900], pred_label)\n",
        "print(\"==========in sample==========\")\n",
        "metrics_result(knntest_label[0:800], insamp)"
      ],
      "execution_count": 21,
      "outputs": [
        {
          "output_type": "stream",
          "text": [
            "train:0~800,test:800~900\n",
            "=======out of sample========\n",
            "precision:0.912\n",
            "recall:0.910\n",
            "f1-score:0.910\n",
            "==========in sample==========\n",
            "precision:1.000\n",
            "recall:1.000\n",
            "f1-score:1.000\n"
          ],
          "name": "stdout"
        }
      ]
    },
    {
      "cell_type": "code",
      "metadata": {
        "id": "aOkIa0ylrzhi",
        "colab_type": "code",
        "colab": {}
      },
      "source": [
        "rilabel=[]\n",
        "for i in knntest_label:\n",
        "  if i==\"SCIENCE\":\n",
        "    rilabel.append(0)\n",
        "  else:\n",
        "    rilabel.append(1)\n",
        "from sklearn.linear_model import RidgeClassifier\n",
        "clf =RidgeClassifier()\n",
        "clf.fit(knntest_set[0:800],rilabel[0:800]) \n",
        "clfpre=clf.predict(knntest_set[800:900])\n",
        "incl=clf.predict(knntest_set[0:800])"
      ],
      "execution_count": 0,
      "outputs": []
    },
    {
      "cell_type": "code",
      "metadata": {
        "id": "JGeu_Cb00tYV",
        "colab_type": "code",
        "colab": {
          "base_uri": "https://localhost:8080/",
          "height": 170
        },
        "outputId": "b43d0d97-bcb3-4784-db38-42612d11c4d8"
      },
      "source": [
        "print(\"train:0~800,test:800~900\")\n",
        "print(\"=======out of sample========\")\n",
        "metrics_result(rilabel[800:900], clfpre)\n",
        "print(\"==========in sample==========\")\n",
        "metrics_result(rilabel[0:800], incl)\n"
      ],
      "execution_count": 19,
      "outputs": [
        {
          "output_type": "stream",
          "text": [
            "train:0~800,test:800~900\n",
            "=======out of sample========\n",
            "precision:0.938\n",
            "recall:0.930\n",
            "f1-score:0.929\n",
            "==========in sample==========\n",
            "precision:1.000\n",
            "recall:1.000\n",
            "f1-score:1.000\n"
          ],
          "name": "stdout"
        }
      ]
    }
  ]
}