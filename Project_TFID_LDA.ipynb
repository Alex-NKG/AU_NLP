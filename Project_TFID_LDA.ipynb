{
  "nbformat": 4,
  "nbformat_minor": 0,
  "metadata": {
    "colab": {
      "name": "Project_TFID_LDA.ipynb",
      "provenance": [],
      "collapsed_sections": [],
      "machine_shape": "hm",
      "mount_file_id": "1NBuWtAKPr_igY2cCENrK8-i3b2QkhEzr",
      "authorship_tag": "ABX9TyMemCGjycgt/3dfCWRbEjBH"
    },
    "kernelspec": {
      "name": "python3",
      "display_name": "Python 3"
    }
  },
  "cells": [
    {
      "cell_type": "code",
      "metadata": {
        "id": "mqLBs0ZZiHxk",
        "colab_type": "code",
        "outputId": "a415b4b1-3770-4356-aaa5-ac25c3453d75",
        "colab": {
          "base_uri": "https://localhost:8080/",
          "height": 612
        }
      },
      "source": [
        "!pip install pyLDAvis "
      ],
      "execution_count": 0,
      "outputs": [
        {
          "output_type": "stream",
          "text": [
            "Collecting pyLDAvis\n",
            "\u001b[?25l  Downloading https://files.pythonhosted.org/packages/a5/3a/af82e070a8a96e13217c8f362f9a73e82d61ac8fff3a2561946a97f96266/pyLDAvis-2.1.2.tar.gz (1.6MB)\n",
            "\u001b[K     |████████████████████████████████| 1.6MB 6.0MB/s \n",
            "\u001b[?25hRequirement already satisfied: wheel>=0.23.0 in /usr/local/lib/python3.6/dist-packages (from pyLDAvis) (0.34.2)\n",
            "Requirement already satisfied: numpy>=1.9.2 in /usr/local/lib/python3.6/dist-packages (from pyLDAvis) (1.18.2)\n",
            "Requirement already satisfied: scipy>=0.18.0 in /usr/local/lib/python3.6/dist-packages (from pyLDAvis) (1.4.1)\n",
            "Requirement already satisfied: pandas>=0.17.0 in /usr/local/lib/python3.6/dist-packages (from pyLDAvis) (1.0.3)\n",
            "Requirement already satisfied: joblib>=0.8.4 in /usr/local/lib/python3.6/dist-packages (from pyLDAvis) (0.14.1)\n",
            "Requirement already satisfied: jinja2>=2.7.2 in /usr/local/lib/python3.6/dist-packages (from pyLDAvis) (2.11.2)\n",
            "Requirement already satisfied: numexpr in /usr/local/lib/python3.6/dist-packages (from pyLDAvis) (2.7.1)\n",
            "Requirement already satisfied: pytest in /usr/local/lib/python3.6/dist-packages (from pyLDAvis) (3.6.4)\n",
            "Requirement already satisfied: future in /usr/local/lib/python3.6/dist-packages (from pyLDAvis) (0.16.0)\n",
            "Collecting funcy\n",
            "\u001b[?25l  Downloading https://files.pythonhosted.org/packages/ce/4b/6ffa76544e46614123de31574ad95758c421aae391a1764921b8a81e1eae/funcy-1.14.tar.gz (548kB)\n",
            "\u001b[K     |████████████████████████████████| 552kB 48.9MB/s \n",
            "\u001b[?25hRequirement already satisfied: pytz>=2017.2 in /usr/local/lib/python3.6/dist-packages (from pandas>=0.17.0->pyLDAvis) (2018.9)\n",
            "Requirement already satisfied: python-dateutil>=2.6.1 in /usr/local/lib/python3.6/dist-packages (from pandas>=0.17.0->pyLDAvis) (2.8.1)\n",
            "Requirement already satisfied: MarkupSafe>=0.23 in /usr/local/lib/python3.6/dist-packages (from jinja2>=2.7.2->pyLDAvis) (1.1.1)\n",
            "Requirement already satisfied: setuptools in /usr/local/lib/python3.6/dist-packages (from pytest->pyLDAvis) (46.1.3)\n",
            "Requirement already satisfied: py>=1.5.0 in /usr/local/lib/python3.6/dist-packages (from pytest->pyLDAvis) (1.8.1)\n",
            "Requirement already satisfied: attrs>=17.4.0 in /usr/local/lib/python3.6/dist-packages (from pytest->pyLDAvis) (19.3.0)\n",
            "Requirement already satisfied: pluggy<0.8,>=0.5 in /usr/local/lib/python3.6/dist-packages (from pytest->pyLDAvis) (0.7.1)\n",
            "Requirement already satisfied: more-itertools>=4.0.0 in /usr/local/lib/python3.6/dist-packages (from pytest->pyLDAvis) (8.2.0)\n",
            "Requirement already satisfied: atomicwrites>=1.0 in /usr/local/lib/python3.6/dist-packages (from pytest->pyLDAvis) (1.3.0)\n",
            "Requirement already satisfied: six>=1.10.0 in /usr/local/lib/python3.6/dist-packages (from pytest->pyLDAvis) (1.12.0)\n",
            "Building wheels for collected packages: pyLDAvis, funcy\n",
            "  Building wheel for pyLDAvis (setup.py) ... \u001b[?25l\u001b[?25hdone\n",
            "  Created wheel for pyLDAvis: filename=pyLDAvis-2.1.2-py2.py3-none-any.whl size=97711 sha256=ab1e6d60d36d12a228578c7bacb2f4ff449869fdd3ab2609eb605aa43488a9fa\n",
            "  Stored in directory: /root/.cache/pip/wheels/98/71/24/513a99e58bb6b8465bae4d2d5e9dba8f0bef8179e3051ac414\n",
            "  Building wheel for funcy (setup.py) ... \u001b[?25l\u001b[?25hdone\n",
            "  Created wheel for funcy: filename=funcy-1.14-py2.py3-none-any.whl size=32042 sha256=d0bce2261e08bd744c1a20f01c598566a474c750c14b4bef77e310b6c7a94cd6\n",
            "  Stored in directory: /root/.cache/pip/wheels/20/5a/d8/1d875df03deae6f178dfdf70238cca33f948ef8a6f5209f2eb\n",
            "Successfully built pyLDAvis funcy\n",
            "Installing collected packages: funcy, pyLDAvis\n",
            "Successfully installed funcy-1.14 pyLDAvis-2.1.2\n"
          ],
          "name": "stdout"
        }
      ]
    },
    {
      "cell_type": "code",
      "metadata": {
        "id": "jTOzUz-9ZbE_",
        "colab_type": "code",
        "outputId": "ab197b7a-bcd2-4bdf-d5b4-ab2fcbd92a15",
        "colab": {
          "base_uri": "https://localhost:8080/",
          "height": 170
        }
      },
      "source": [
        "import re\n",
        "import pandas as pd\n",
        "import numpy as np\n",
        "import nltk\n",
        "nltk.download('punkt')\n",
        "from nltk.tokenize import sent_tokenize, word_tokenize\n",
        "from sklearn.metrics.pairwise import cosine_similarity\n",
        "nltk.download('stopwords')\n",
        "from nltk.corpus import stopwords\n",
        "stop_words = set(stopwords.words('english')) \n",
        "stop_words.add(\"hotel\")\n",
        "from sklearn.metrics.pairwise import cosine_similarity\n",
        "import networkx as nx\n",
        "from sklearn.decomposition import TruncatedSVD\n",
        "from sklearn.feature_extraction.text import TfidfVectorizer\n",
        "nltk.download('averaged_perceptron_tagger')\n",
        "from nltk import FreqDist\n",
        "import spacy\n",
        "\n",
        "\n",
        "import gensim\n",
        "from gensim import models\n",
        "import pyLDAvis.gensim\n",
        "\n",
        "import matplotlib.pyplot as plt\n",
        "import seaborn as sns"
      ],
      "execution_count": 0,
      "outputs": [
        {
          "output_type": "stream",
          "text": [
            "[nltk_data] Downloading package punkt to /root/nltk_data...\n",
            "[nltk_data]   Unzipping tokenizers/punkt.zip.\n",
            "[nltk_data] Downloading package stopwords to /root/nltk_data...\n",
            "[nltk_data]   Unzipping corpora/stopwords.zip.\n",
            "[nltk_data] Downloading package averaged_perceptron_tagger to\n",
            "[nltk_data]     /root/nltk_data...\n",
            "[nltk_data]   Unzipping taggers/averaged_perceptron_tagger.zip.\n"
          ],
          "name": "stdout"
        },
        {
          "output_type": "stream",
          "text": [
            "/usr/local/lib/python3.6/dist-packages/statsmodels/tools/_testing.py:19: FutureWarning: pandas.util.testing is deprecated. Use the functions in the public API at pandas.testing instead.\n",
            "  import pandas.util.testing as tm\n"
          ],
          "name": "stderr"
        }
      ]
    },
    {
      "cell_type": "code",
      "metadata": {
        "id": "XN2q5jfjZ0au",
        "colab_type": "code",
        "colab": {}
      },
      "source": [
        "data=pd.read_csv(\"/content/drive/My Drive/NLP/Project/Input/hote_rate.csv\", encoding='utf8')\n"
      ],
      "execution_count": 0,
      "outputs": []
    },
    {
      "cell_type": "markdown",
      "metadata": {
        "id": "VwHph8MgJgv1",
        "colab_type": "text"
      },
      "source": [
        "# Keyword extraction\n",
        "method：  \n",
        "      TFIDF+SVD  \n",
        "      TextRank(in notebook: textrank.ipynb)  \n",
        "      TextRank from package summa\n",
        "\n"
      ]
    },
    {
      "cell_type": "code",
      "metadata": {
        "id": "7Gsl2oaAIEsz",
        "colab_type": "code",
        "outputId": "83406b9d-bdd7-498a-e8e3-e229e85233f9",
        "colab": {
          "base_uri": "https://localhost:8080/",
          "height": 34
        }
      },
      "source": [
        "#basic tf-idf+ svd\n",
        "def clean_text(croup):\n",
        "    x=sent_tokenize(croup)\n",
        "    clean_senteces=pd.Series(x).str.replace(\"[^a-zA-Z]\",\" \")\n",
        "    clean_senteces=[s.lower() for s in clean_senteces]\n",
        "    text_no_sp=[]\n",
        "    for r in clean_senteces:\n",
        "      tmp=r.split()\n",
        "      sen_new=\" \".join([i for i in tmp if i not in stop_words ])\n",
        "      text_no_sp.append(sen_new)\n",
        "    return(text_no_sp)\n",
        "ct=[]\n",
        "data=data.dropna(subset=[\"reviews.text\"])\n",
        "for i in data[\"reviews.text\"]:\n",
        "    tmp=clean_text(i)\n",
        "    ct.append(tmp)\n",
        "\n",
        "data[\"ct\"]=ct\n",
        "\n",
        "vectorizer = TfidfVectorizer(ngram_range=(1,1),stop_words=\"english\")\n",
        "tfidf = vectorizer.fit_transform(ct[1])\n",
        "tfidf_feature_names = vectorizer.get_feature_names()\n",
        "n_pick_topics =   1\n",
        "lsa = TruncatedSVD(n_pick_topics)\n",
        "X2 = lsa.fit_transform(tfidf)\n",
        "n_pick_keywords = 5\n",
        "topic_keywords_id = [lsa.components_[t].argsort()[:-(n_pick_keywords+1):-1] for t in range(n_pick_topics)]\n",
        "for t in range(n_pick_topics):\n",
        "  topic=\",\".join(tfidf_feature_names[topic_keywords_id[t][j]] for j in range(n_pick_keywords))\n",
        "  topic.split()\n",
        "print(topic)"
      ],
      "execution_count": 0,
      "outputs": [
        {
          "output_type": "stream",
          "text": [
            "great,money,location,value,helpful\n"
          ],
          "name": "stdout"
        }
      ]
    },
    {
      "cell_type": "markdown",
      "metadata": {
        "id": "paiI_05ygZmx",
        "colab_type": "text"
      },
      "source": [
        "##Sklearn TF-IDF with oop"
      ]
    },
    {
      "cell_type": "code",
      "metadata": {
        "id": "5ZTe9ODgyY_N",
        "colab_type": "code",
        "colab": {}
      },
      "source": [
        "#Sklearn TF-IDF with oop\n",
        "from sklearn.decomposition import TruncatedSVD\n",
        "from sklearn.feature_extraction.text import TfidfVectorizer\n",
        "class sk_TF():\n",
        "  def __init__(self):\n",
        "    self.vectorizer = TfidfVectorizer(ngram_range=(1, 1))\n",
        "\n",
        "  def clean_text(self,croup):\n",
        "    x=sent_tokenize(croup)\n",
        "    clean_senteces=pd.Series(x).str.replace(\"[^a-zA-Z]\",\" \")\n",
        "    clean_senteces=pd.Series(x).str.replace(\"�\",\" \")\n",
        "\n",
        "    clean_senteces=[s.lower() for s in clean_senteces]\n",
        "    text_no_sp=[]\n",
        "    for r in clean_senteces:\n",
        "      tmp=r.split()\n",
        "      sen_new=\" \".join([i for i in tmp if i not in stop_words ])\n",
        "      text_no_sp.append(sen_new)\n",
        "    return(text_no_sp)\n",
        "  def get_topic(self,clean_senteces):\n",
        "\n",
        "    X = self.vectorizer.fit_transform(clean_senteces)\n",
        "    terms = self.vectorizer.get_feature_names()\n",
        "    n_pick_topics =   1            # 设定主题数为1\n",
        "    lsa = TruncatedSVD(n_pick_topics)               \n",
        "    X2 = lsa.fit_transform(X)\n",
        "    n_pick_keywords = 10\n",
        "    topic_keywords_id = [lsa.components_[t].argsort()[:-(n_pick_keywords+1):-1] for t in range(n_pick_topics)]\n",
        "    if np.size(terms) < n_pick_keywords:\n",
        "      for t in range(n_pick_topics):\n",
        "        topic=\" \".join(terms[topic_keywords_id[t][j]] for j in range(np.size(terms)))\n",
        "    else:\n",
        "      for t in range(n_pick_topics):\n",
        "        topic=\" \".join(terms[topic_keywords_id[t][j]] for j in range(n_pick_keywords))\n",
        "    return topic.split()\n"
      ],
      "execution_count": 0,
      "outputs": []
    },
    {
      "cell_type": "code",
      "metadata": {
        "id": "IMI11Oaitl6O",
        "colab_type": "code",
        "colab": {}
      },
      "source": [
        "# first 1200 sample test\n",
        "np.seterr(divide='ignore', invalid='ignore')\n",
        "TF_data=data[0:1300].copy()\n",
        "sk=sk_TF()\n",
        "tf_list=[]\n",
        "for i in TF_data['reviews.text']:\n",
        "  if len(i.split())>10:\n",
        "    #sk=sk_TF()\n",
        "    t=sk.clean_text(i)\n",
        "    #print(t)\n",
        "    x=sk.get_topic(t)\n",
        "    #print(x)\n",
        "    tf_list.append(x)\n",
        "  else:\n",
        "    tf_list.append(\" \")\n",
        "TF_data[\"TF\"]=tf_list"
      ],
      "execution_count": 0,
      "outputs": []
    },
    {
      "cell_type": "code",
      "metadata": {
        "id": "yRG3mQ_xP1wL",
        "colab_type": "code",
        "outputId": "d79d2491-a87b-49dd-983c-20997baa0be4",
        "colab": {
          "base_uri": "https://localhost:8080/",
          "height": 1000
        }
      },
      "source": [
        "#Extract adjectives as key word\n",
        "tags = set(['JJR', 'JJS', 'JJ'])\n",
        "key=[]\n",
        "for i in TF_data[\"TF\"]:\n",
        "  pos_tags =nltk.pos_tag(i)\n",
        "  ret=[]\n",
        "  for word,pos in pos_tags:\n",
        "    if (pos in tags):\n",
        "      ret.append(word)\n",
        "  key.append(ret)\n",
        "TF_data[\"KW\"]=key\n",
        "\n",
        "TF_data"
      ],
      "execution_count": 0,
      "outputs": [
        {
          "output_type": "execute_result",
          "data": {
            "text/html": [
              "<div>\n",
              "<style scoped>\n",
              "    .dataframe tbody tr th:only-of-type {\n",
              "        vertical-align: middle;\n",
              "    }\n",
              "\n",
              "    .dataframe tbody tr th {\n",
              "        vertical-align: top;\n",
              "    }\n",
              "\n",
              "    .dataframe thead th {\n",
              "        text-align: right;\n",
              "    }\n",
              "</style>\n",
              "<table border=\"1\" class=\"dataframe\">\n",
              "  <thead>\n",
              "    <tr style=\"text-align: right;\">\n",
              "      <th></th>\n",
              "      <th>address</th>\n",
              "      <th>categories</th>\n",
              "      <th>city</th>\n",
              "      <th>country</th>\n",
              "      <th>latitude</th>\n",
              "      <th>longitude</th>\n",
              "      <th>name</th>\n",
              "      <th>postalCode</th>\n",
              "      <th>province</th>\n",
              "      <th>reviews.date</th>\n",
              "      <th>reviews.dateAdded</th>\n",
              "      <th>reviews.doRecommend</th>\n",
              "      <th>reviews.id</th>\n",
              "      <th>reviews.rating</th>\n",
              "      <th>reviews.text</th>\n",
              "      <th>reviews.title</th>\n",
              "      <th>reviews.userCity</th>\n",
              "      <th>reviews.username</th>\n",
              "      <th>reviews.userProvince</th>\n",
              "      <th>ct</th>\n",
              "      <th>TF</th>\n",
              "      <th>KW</th>\n",
              "    </tr>\n",
              "  </thead>\n",
              "  <tbody>\n",
              "    <tr>\n",
              "      <th>0</th>\n",
              "      <td>Riviera San Nicol 11/a</td>\n",
              "      <td>Hotels</td>\n",
              "      <td>Mableton</td>\n",
              "      <td>US</td>\n",
              "      <td>45.421611</td>\n",
              "      <td>12.376187</td>\n",
              "      <td>Hotel Russo Palace</td>\n",
              "      <td>30126</td>\n",
              "      <td>GA</td>\n",
              "      <td>2013-09-22T00:00:00Z</td>\n",
              "      <td>2016-10-24T00:00:25Z</td>\n",
              "      <td>NaN</td>\n",
              "      <td>NaN</td>\n",
              "      <td>4.0</td>\n",
              "      <td>Pleasant 10 min walk along the sea front to th...</td>\n",
              "      <td>Good location away from the crouds</td>\n",
              "      <td>NaN</td>\n",
              "      <td>Russ (kent)</td>\n",
              "      <td>NaN</td>\n",
              "      <td>[pleasant min walk along sea front water bus, ...</td>\n",
              "      <td>[restaurants, etc, 10, along, front, min, plea...</td>\n",
              "      <td>[front, pleasant]</td>\n",
              "    </tr>\n",
              "    <tr>\n",
              "      <th>1</th>\n",
              "      <td>Riviera San Nicol 11/a</td>\n",
              "      <td>Hotels</td>\n",
              "      <td>Mableton</td>\n",
              "      <td>US</td>\n",
              "      <td>45.421611</td>\n",
              "      <td>12.376187</td>\n",
              "      <td>Hotel Russo Palace</td>\n",
              "      <td>30126</td>\n",
              "      <td>GA</td>\n",
              "      <td>2015-04-03T00:00:00Z</td>\n",
              "      <td>2016-10-24T00:00:25Z</td>\n",
              "      <td>NaN</td>\n",
              "      <td>NaN</td>\n",
              "      <td>5.0</td>\n",
              "      <td>Really lovely hotel. Stayed on the very top fl...</td>\n",
              "      <td>Great hotel with Jacuzzi bath!</td>\n",
              "      <td>NaN</td>\n",
              "      <td>A Traveler</td>\n",
              "      <td>NaN</td>\n",
              "      <td>[really lovely, stayed top floor surprised jac...</td>\n",
              "      <td>[great, money, location, value, breakfast, hel...</td>\n",
              "      <td>[great, helpful]</td>\n",
              "    </tr>\n",
              "    <tr>\n",
              "      <th>2</th>\n",
              "      <td>Riviera San Nicol 11/a</td>\n",
              "      <td>Hotels</td>\n",
              "      <td>Mableton</td>\n",
              "      <td>US</td>\n",
              "      <td>45.421611</td>\n",
              "      <td>12.376187</td>\n",
              "      <td>Hotel Russo Palace</td>\n",
              "      <td>30126</td>\n",
              "      <td>GA</td>\n",
              "      <td>2014-05-13T00:00:00Z</td>\n",
              "      <td>2016-10-24T00:00:25Z</td>\n",
              "      <td>NaN</td>\n",
              "      <td>NaN</td>\n",
              "      <td>5.0</td>\n",
              "      <td>Ett mycket bra hotell. Det som drog ner betyge...</td>\n",
              "      <td>Lugnt l��ge</td>\n",
              "      <td>NaN</td>\n",
              "      <td>Maud</td>\n",
              "      <td>NaN</td>\n",
              "      <td>[ett mycket bra hotell, det som drog ner betyg...</td>\n",
              "      <td>[bra, mycket, hotell, ett, var, det, yta, att,...</td>\n",
              "      <td>[var]</td>\n",
              "    </tr>\n",
              "    <tr>\n",
              "      <th>3</th>\n",
              "      <td>Riviera San Nicol 11/a</td>\n",
              "      <td>Hotels</td>\n",
              "      <td>Mableton</td>\n",
              "      <td>US</td>\n",
              "      <td>45.421611</td>\n",
              "      <td>12.376187</td>\n",
              "      <td>Hotel Russo Palace</td>\n",
              "      <td>30126</td>\n",
              "      <td>GA</td>\n",
              "      <td>2013-10-27T00:00:00Z</td>\n",
              "      <td>2016-10-24T00:00:25Z</td>\n",
              "      <td>NaN</td>\n",
              "      <td>NaN</td>\n",
              "      <td>5.0</td>\n",
              "      <td>We stayed here for four nights in October. The...</td>\n",
              "      <td>Good location on the Lido.</td>\n",
              "      <td>NaN</td>\n",
              "      <td>Julie</td>\n",
              "      <td>NaN</td>\n",
              "      <td>[stayed four nights october, staff welcoming f...</td>\n",
              "      <td>[comfortable, beds, rooms, airy, clean, could,...</td>\n",
              "      <td>[comfortable, light, wide, open]</td>\n",
              "    </tr>\n",
              "    <tr>\n",
              "      <th>4</th>\n",
              "      <td>Riviera San Nicol 11/a</td>\n",
              "      <td>Hotels</td>\n",
              "      <td>Mableton</td>\n",
              "      <td>US</td>\n",
              "      <td>45.421611</td>\n",
              "      <td>12.376187</td>\n",
              "      <td>Hotel Russo Palace</td>\n",
              "      <td>30126</td>\n",
              "      <td>GA</td>\n",
              "      <td>2015-03-05T00:00:00Z</td>\n",
              "      <td>2016-10-24T00:00:25Z</td>\n",
              "      <td>NaN</td>\n",
              "      <td>NaN</td>\n",
              "      <td>5.0</td>\n",
              "      <td>We stayed here for four nights in October. The...</td>\n",
              "      <td>������ ���������������</td>\n",
              "      <td>NaN</td>\n",
              "      <td>sungchul</td>\n",
              "      <td>NaN</td>\n",
              "      <td>[stayed four nights october, staff welcoming f...</td>\n",
              "      <td>[comfortable, beds, rooms, windows, open, clea...</td>\n",
              "      <td>[comfortable, open, light, wide]</td>\n",
              "    </tr>\n",
              "    <tr>\n",
              "      <th>...</th>\n",
              "      <td>...</td>\n",
              "      <td>...</td>\n",
              "      <td>...</td>\n",
              "      <td>...</td>\n",
              "      <td>...</td>\n",
              "      <td>...</td>\n",
              "      <td>...</td>\n",
              "      <td>...</td>\n",
              "      <td>...</td>\n",
              "      <td>...</td>\n",
              "      <td>...</td>\n",
              "      <td>...</td>\n",
              "      <td>...</td>\n",
              "      <td>...</td>\n",
              "      <td>...</td>\n",
              "      <td>...</td>\n",
              "      <td>...</td>\n",
              "      <td>...</td>\n",
              "      <td>...</td>\n",
              "      <td>...</td>\n",
              "      <td>...</td>\n",
              "      <td>...</td>\n",
              "    </tr>\n",
              "    <tr>\n",
              "      <th>1295</th>\n",
              "      <td>760 Langhorne Newtown Rd</td>\n",
              "      <td>Party &amp; Event Planners,Restaurants,Hotels,Wedd...</td>\n",
              "      <td>Langhorne</td>\n",
              "      <td>US</td>\n",
              "      <td>40.189476</td>\n",
              "      <td>-74.925030</td>\n",
              "      <td>Bridgetown Mill House Restaurant Inn</td>\n",
              "      <td>19047</td>\n",
              "      <td>Upper Holland</td>\n",
              "      <td>2015-09-01T00:00:00Z</td>\n",
              "      <td>2016-04-06T13:03:50Z</td>\n",
              "      <td>NaN</td>\n",
              "      <td>NaN</td>\n",
              "      <td>1.0</td>\n",
              "      <td>I reserved a room about a week in advance, com...</td>\n",
              "      <td>Don't count on them to honor your reservation.</td>\n",
              "      <td>beautiful hudson valley</td>\n",
              "      <td>William B</td>\n",
              "      <td>PA</td>\n",
              "      <td>[reserved room week advance complete credit ca...</td>\n",
              "      <td>[call, later, apparently, urgent, something, a...</td>\n",
              "      <td>[urgent]</td>\n",
              "    </tr>\n",
              "    <tr>\n",
              "      <th>1296</th>\n",
              "      <td>760 Langhorne Newtown Rd</td>\n",
              "      <td>Party &amp; Event Planners,Restaurants,Hotels,Wedd...</td>\n",
              "      <td>Langhorne</td>\n",
              "      <td>US</td>\n",
              "      <td>40.189476</td>\n",
              "      <td>-74.925030</td>\n",
              "      <td>Bridgetown Mill House Restaurant Inn</td>\n",
              "      <td>19047</td>\n",
              "      <td>Upper Holland</td>\n",
              "      <td>2015-08-15T00:00:00Z</td>\n",
              "      <td>2016-04-06T13:03:50Z</td>\n",
              "      <td>NaN</td>\n",
              "      <td>NaN</td>\n",
              "      <td>1.0</td>\n",
              "      <td>We've lived in the area for twelve years but h...</td>\n",
              "      <td>What a huge disappointment.</td>\n",
              "      <td>beautiful hudson valley</td>\n",
              "      <td>Scott O</td>\n",
              "      <td>PA</td>\n",
              "      <td>[lived area twelve years never made place, tha...</td>\n",
              "      <td>[years, anything, missing, thankful, never, li...</td>\n",
              "      <td>[thankful]</td>\n",
              "    </tr>\n",
              "    <tr>\n",
              "      <th>1297</th>\n",
              "      <td>760 Langhorne Newtown Rd</td>\n",
              "      <td>Party &amp; Event Planners,Restaurants,Hotels,Wedd...</td>\n",
              "      <td>Langhorne</td>\n",
              "      <td>US</td>\n",
              "      <td>40.189476</td>\n",
              "      <td>-74.925030</td>\n",
              "      <td>Bridgetown Mill House Restaurant Inn</td>\n",
              "      <td>19047</td>\n",
              "      <td>Upper Holland</td>\n",
              "      <td>2016-07-25T00:00:00Z</td>\n",
              "      <td>2016-04-06T13:03:50Z</td>\n",
              "      <td>NaN</td>\n",
              "      <td>NaN</td>\n",
              "      <td>5.0</td>\n",
              "      <td>This was an amazing wonderful experience, cert...</td>\n",
              "      <td>Great Experience!!!!</td>\n",
              "      <td>Philadelphia</td>\n",
              "      <td>martina72002</td>\n",
              "      <td>PA</td>\n",
              "      <td>[amazing wonderful experience certainly much e...</td>\n",
              "      <td>[accomodating, requests, owner, amazing, wonde...</td>\n",
              "      <td>[wonderful, much]</td>\n",
              "    </tr>\n",
              "    <tr>\n",
              "      <th>1298</th>\n",
              "      <td>760 Langhorne Newtown Rd</td>\n",
              "      <td>Party &amp; Event Planners,Restaurants,Hotels,Wedd...</td>\n",
              "      <td>Langhorne</td>\n",
              "      <td>US</td>\n",
              "      <td>40.189476</td>\n",
              "      <td>-74.925030</td>\n",
              "      <td>Bridgetown Mill House Restaurant Inn</td>\n",
              "      <td>19047</td>\n",
              "      <td>Upper Holland</td>\n",
              "      <td>2016-05-27T00:00:00Z</td>\n",
              "      <td>2016-04-06T13:03:50Z</td>\n",
              "      <td>NaN</td>\n",
              "      <td>NaN</td>\n",
              "      <td>5.0</td>\n",
              "      <td>Each time I drove by, I wanted to stop in. Wel...</td>\n",
              "      <td>Lovely dinner</td>\n",
              "      <td>Phila</td>\n",
              "      <td>Lindabu</td>\n",
              "      <td>PA</td>\n",
              "      <td>[time drove wanted stop, well tonight finally ...</td>\n",
              "      <td>[dinner, wonderful, price, cosmo, normal, was,...</td>\n",
              "      <td>[wonderful, normal]</td>\n",
              "    </tr>\n",
              "    <tr>\n",
              "      <th>1299</th>\n",
              "      <td>760 Langhorne Newtown Rd</td>\n",
              "      <td>Party &amp; Event Planners,Restaurants,Hotels,Wedd...</td>\n",
              "      <td>Langhorne</td>\n",
              "      <td>US</td>\n",
              "      <td>40.189476</td>\n",
              "      <td>-74.925030</td>\n",
              "      <td>Bridgetown Mill House Restaurant Inn</td>\n",
              "      <td>19047</td>\n",
              "      <td>Upper Holland</td>\n",
              "      <td>2015-10-29T00:00:00Z</td>\n",
              "      <td>2016-04-06T13:03:50Z</td>\n",
              "      <td>NaN</td>\n",
              "      <td>NaN</td>\n",
              "      <td>4.0</td>\n",
              "      <td>Four of us went to dinner at this converted mi...</td>\n",
              "      <td>Lovely spot, but room for improvement</td>\n",
              "      <td>Chesterfield</td>\n",
              "      <td>Marc J</td>\n",
              "      <td>VA</td>\n",
              "      <td>[four us went dinner converted mill house, cha...</td>\n",
              "      <td>[something, asked, said, problems, night, kitc...</td>\n",
              "      <td>[average, hear]</td>\n",
              "    </tr>\n",
              "  </tbody>\n",
              "</table>\n",
              "<p>1300 rows × 22 columns</p>\n",
              "</div>"
            ],
            "text/plain": [
              "                       address  ...                                KW\n",
              "0       Riviera San Nicol 11/a  ...                 [front, pleasant]\n",
              "1       Riviera San Nicol 11/a  ...                  [great, helpful]\n",
              "2       Riviera San Nicol 11/a  ...                             [var]\n",
              "3       Riviera San Nicol 11/a  ...  [comfortable, light, wide, open]\n",
              "4       Riviera San Nicol 11/a  ...  [comfortable, open, light, wide]\n",
              "...                        ...  ...                               ...\n",
              "1295  760 Langhorne Newtown Rd  ...                          [urgent]\n",
              "1296  760 Langhorne Newtown Rd  ...                        [thankful]\n",
              "1297  760 Langhorne Newtown Rd  ...                 [wonderful, much]\n",
              "1298  760 Langhorne Newtown Rd  ...               [wonderful, normal]\n",
              "1299  760 Langhorne Newtown Rd  ...                   [average, hear]\n",
              "\n",
              "[1300 rows x 22 columns]"
            ]
          },
          "metadata": {
            "tags": []
          },
          "execution_count": 7
        }
      ]
    },
    {
      "cell_type": "code",
      "metadata": {
        "id": "yFUz7FmXoLZ7",
        "colab_type": "code",
        "outputId": "7d63382d-a762-4eea-e5aa-87763cbe4526",
        "colab": {
          "base_uri": "https://localhost:8080/",
          "height": 221
        }
      },
      "source": [
        "!pip install summa"
      ],
      "execution_count": 0,
      "outputs": [
        {
          "output_type": "stream",
          "text": [
            "Collecting summa\n",
            "\u001b[?25l  Downloading https://files.pythonhosted.org/packages/45/3b/1c7dc435d05aef474c4137328400f1e11787b9bffab1f87a3f160c1fef54/summa-1.2.0.tar.gz (54kB)\n",
            "\r\u001b[K     |██████                          | 10kB 19.9MB/s eta 0:00:01\r\u001b[K     |████████████                    | 20kB 6.6MB/s eta 0:00:01\r\u001b[K     |██████████████████              | 30kB 7.7MB/s eta 0:00:01\r\u001b[K     |███████████████████████▉        | 40kB 8.5MB/s eta 0:00:01\r\u001b[K     |█████████████████████████████▉  | 51kB 7.0MB/s eta 0:00:01\r\u001b[K     |████████████████████████████████| 61kB 4.6MB/s \n",
            "\u001b[?25hRequirement already satisfied: scipy>=0.19 in /usr/local/lib/python3.6/dist-packages (from summa) (1.4.1)\n",
            "Requirement already satisfied: numpy>=1.13.3 in /usr/local/lib/python3.6/dist-packages (from scipy>=0.19->summa) (1.18.2)\n",
            "Building wheels for collected packages: summa\n",
            "  Building wheel for summa (setup.py) ... \u001b[?25l\u001b[?25hdone\n",
            "  Created wheel for summa: filename=summa-1.2.0-cp36-none-any.whl size=54411 sha256=9b0e72987e2c39279450d8ee921c1688edbbf30173ad1ef981fed83ae9650d83\n",
            "  Stored in directory: /root/.cache/pip/wheels/6a/09/68/e2f2861c01d86407c3fa5220826ed7eed2abaa56b001be5970\n",
            "Successfully built summa\n",
            "Installing collected packages: summa\n",
            "Successfully installed summa-1.2.0\n"
          ],
          "name": "stdout"
        }
      ]
    },
    {
      "cell_type": "code",
      "metadata": {
        "id": "MjkKn4nIiY-o",
        "colab_type": "code",
        "colab": {}
      },
      "source": [
        "# textrank from package summa\n",
        "# we can not choose the keyword number, \n",
        "#the output number is depend on the input length\n",
        "from summa import keywords\n",
        "from nltk.stem import PorterStemmer \n",
        "ps = PorterStemmer() \n",
        "rank_list=[]\n",
        "for i in TF_data['reviews.text']:\n",
        "  words = word_tokenize(i) \n",
        "  t=[]\n",
        "  for w in words:\n",
        "    t.append(ps.stem(w))\n",
        "  s=\" \".join(t)\n",
        "  if len(sent_tokenize(s))>1:\n",
        "    x=keywords.keywords(s)\n",
        "    x=x.split(\"\\n\")\n",
        "    rank_list.append(x)\n",
        "  else:\n",
        "    rank_list.append(\"NA\")\n",
        "#print(rank_list)\n",
        "TF_data[\"RANK\"]=rank_list"
      ],
      "execution_count": 0,
      "outputs": []
    },
    {
      "cell_type": "code",
      "metadata": {
        "id": "NMdvmzBxfPQQ",
        "colab_type": "code",
        "outputId": "20027e97-2ee4-48f1-c16e-7dbf7f50b0e7",
        "colab": {
          "base_uri": "https://localhost:8080/",
          "height": 1000
        }
      },
      "source": [
        "TF_data"
      ],
      "execution_count": 0,
      "outputs": [
        {
          "output_type": "execute_result",
          "data": {
            "text/html": [
              "<div>\n",
              "<style scoped>\n",
              "    .dataframe tbody tr th:only-of-type {\n",
              "        vertical-align: middle;\n",
              "    }\n",
              "\n",
              "    .dataframe tbody tr th {\n",
              "        vertical-align: top;\n",
              "    }\n",
              "\n",
              "    .dataframe thead th {\n",
              "        text-align: right;\n",
              "    }\n",
              "</style>\n",
              "<table border=\"1\" class=\"dataframe\">\n",
              "  <thead>\n",
              "    <tr style=\"text-align: right;\">\n",
              "      <th></th>\n",
              "      <th>address</th>\n",
              "      <th>categories</th>\n",
              "      <th>city</th>\n",
              "      <th>country</th>\n",
              "      <th>latitude</th>\n",
              "      <th>longitude</th>\n",
              "      <th>name</th>\n",
              "      <th>postalCode</th>\n",
              "      <th>province</th>\n",
              "      <th>reviews.date</th>\n",
              "      <th>reviews.dateAdded</th>\n",
              "      <th>reviews.doRecommend</th>\n",
              "      <th>reviews.id</th>\n",
              "      <th>reviews.rating</th>\n",
              "      <th>reviews.text</th>\n",
              "      <th>reviews.title</th>\n",
              "      <th>reviews.userCity</th>\n",
              "      <th>reviews.username</th>\n",
              "      <th>reviews.userProvince</th>\n",
              "      <th>ct</th>\n",
              "      <th>TF</th>\n",
              "      <th>KW</th>\n",
              "      <th>RANK</th>\n",
              "    </tr>\n",
              "  </thead>\n",
              "  <tbody>\n",
              "    <tr>\n",
              "      <th>0</th>\n",
              "      <td>Riviera San Nicol 11/a</td>\n",
              "      <td>Hotels</td>\n",
              "      <td>Mableton</td>\n",
              "      <td>US</td>\n",
              "      <td>45.421611</td>\n",
              "      <td>12.376187</td>\n",
              "      <td>Hotel Russo Palace</td>\n",
              "      <td>30126</td>\n",
              "      <td>GA</td>\n",
              "      <td>2013-09-22T00:00:00Z</td>\n",
              "      <td>2016-10-24T00:00:25Z</td>\n",
              "      <td>NaN</td>\n",
              "      <td>NaN</td>\n",
              "      <td>4.0</td>\n",
              "      <td>Pleasant 10 min walk along the sea front to th...</td>\n",
              "      <td>Good location away from the crouds</td>\n",
              "      <td>NaN</td>\n",
              "      <td>Russ (kent)</td>\n",
              "      <td>NaN</td>\n",
              "      <td>[pleasant min walk along sea front water bus, ...</td>\n",
              "      <td>[restaurants, etc, 10, along, front, min, plea...</td>\n",
              "      <td>[front, pleasant]</td>\n",
              "      <td>[min walk, pleasant]</td>\n",
              "    </tr>\n",
              "    <tr>\n",
              "      <th>1</th>\n",
              "      <td>Riviera San Nicol 11/a</td>\n",
              "      <td>Hotels</td>\n",
              "      <td>Mableton</td>\n",
              "      <td>US</td>\n",
              "      <td>45.421611</td>\n",
              "      <td>12.376187</td>\n",
              "      <td>Hotel Russo Palace</td>\n",
              "      <td>30126</td>\n",
              "      <td>GA</td>\n",
              "      <td>2015-04-03T00:00:00Z</td>\n",
              "      <td>2016-10-24T00:00:25Z</td>\n",
              "      <td>NaN</td>\n",
              "      <td>NaN</td>\n",
              "      <td>5.0</td>\n",
              "      <td>Really lovely hotel. Stayed on the very top fl...</td>\n",
              "      <td>Great hotel with Jacuzzi bath!</td>\n",
              "      <td>NaN</td>\n",
              "      <td>A Traveler</td>\n",
              "      <td>NaN</td>\n",
              "      <td>[really lovely, stayed top floor surprised jac...</td>\n",
              "      <td>[great, money, location, value, breakfast, hel...</td>\n",
              "      <td>[great, helpful]</td>\n",
              "      <td>[love hotel]</td>\n",
              "    </tr>\n",
              "    <tr>\n",
              "      <th>2</th>\n",
              "      <td>Riviera San Nicol 11/a</td>\n",
              "      <td>Hotels</td>\n",
              "      <td>Mableton</td>\n",
              "      <td>US</td>\n",
              "      <td>45.421611</td>\n",
              "      <td>12.376187</td>\n",
              "      <td>Hotel Russo Palace</td>\n",
              "      <td>30126</td>\n",
              "      <td>GA</td>\n",
              "      <td>2014-05-13T00:00:00Z</td>\n",
              "      <td>2016-10-24T00:00:25Z</td>\n",
              "      <td>NaN</td>\n",
              "      <td>NaN</td>\n",
              "      <td>5.0</td>\n",
              "      <td>Ett mycket bra hotell. Det som drog ner betyge...</td>\n",
              "      <td>Lugnt l��ge</td>\n",
              "      <td>NaN</td>\n",
              "      <td>Maud</td>\n",
              "      <td>NaN</td>\n",
              "      <td>[ett mycket bra hotell, det som drog ner betyg...</td>\n",
              "      <td>[bra, mycket, hotell, ett, var, det, yta, att,...</td>\n",
              "      <td>[var]</td>\n",
              "      <td>[det, rummet, ett, var]</td>\n",
              "    </tr>\n",
              "    <tr>\n",
              "      <th>3</th>\n",
              "      <td>Riviera San Nicol 11/a</td>\n",
              "      <td>Hotels</td>\n",
              "      <td>Mableton</td>\n",
              "      <td>US</td>\n",
              "      <td>45.421611</td>\n",
              "      <td>12.376187</td>\n",
              "      <td>Hotel Russo Palace</td>\n",
              "      <td>30126</td>\n",
              "      <td>GA</td>\n",
              "      <td>2013-10-27T00:00:00Z</td>\n",
              "      <td>2016-10-24T00:00:25Z</td>\n",
              "      <td>NaN</td>\n",
              "      <td>NaN</td>\n",
              "      <td>5.0</td>\n",
              "      <td>We stayed here for four nights in October. The...</td>\n",
              "      <td>Good location on the Lido.</td>\n",
              "      <td>NaN</td>\n",
              "      <td>Julie</td>\n",
              "      <td>NaN</td>\n",
              "      <td>[stayed four nights october, staff welcoming f...</td>\n",
              "      <td>[comfortable, beds, rooms, airy, clean, could,...</td>\n",
              "      <td>[comfortable, light, wide, open]</td>\n",
              "      <td>[hotel staff, nearbi, wide]</td>\n",
              "    </tr>\n",
              "    <tr>\n",
              "      <th>4</th>\n",
              "      <td>Riviera San Nicol 11/a</td>\n",
              "      <td>Hotels</td>\n",
              "      <td>Mableton</td>\n",
              "      <td>US</td>\n",
              "      <td>45.421611</td>\n",
              "      <td>12.376187</td>\n",
              "      <td>Hotel Russo Palace</td>\n",
              "      <td>30126</td>\n",
              "      <td>GA</td>\n",
              "      <td>2015-03-05T00:00:00Z</td>\n",
              "      <td>2016-10-24T00:00:25Z</td>\n",
              "      <td>NaN</td>\n",
              "      <td>NaN</td>\n",
              "      <td>5.0</td>\n",
              "      <td>We stayed here for four nights in October. The...</td>\n",
              "      <td>������ ���������������</td>\n",
              "      <td>NaN</td>\n",
              "      <td>sungchul</td>\n",
              "      <td>NaN</td>\n",
              "      <td>[stayed four nights october, staff welcoming f...</td>\n",
              "      <td>[comfortable, beds, rooms, windows, open, clea...</td>\n",
              "      <td>[comfortable, open, light, wide]</td>\n",
              "      <td>[hotel staff, nearbi, wide]</td>\n",
              "    </tr>\n",
              "    <tr>\n",
              "      <th>...</th>\n",
              "      <td>...</td>\n",
              "      <td>...</td>\n",
              "      <td>...</td>\n",
              "      <td>...</td>\n",
              "      <td>...</td>\n",
              "      <td>...</td>\n",
              "      <td>...</td>\n",
              "      <td>...</td>\n",
              "      <td>...</td>\n",
              "      <td>...</td>\n",
              "      <td>...</td>\n",
              "      <td>...</td>\n",
              "      <td>...</td>\n",
              "      <td>...</td>\n",
              "      <td>...</td>\n",
              "      <td>...</td>\n",
              "      <td>...</td>\n",
              "      <td>...</td>\n",
              "      <td>...</td>\n",
              "      <td>...</td>\n",
              "      <td>...</td>\n",
              "      <td>...</td>\n",
              "      <td>...</td>\n",
              "    </tr>\n",
              "    <tr>\n",
              "      <th>1295</th>\n",
              "      <td>760 Langhorne Newtown Rd</td>\n",
              "      <td>Party &amp; Event Planners,Restaurants,Hotels,Wedd...</td>\n",
              "      <td>Langhorne</td>\n",
              "      <td>US</td>\n",
              "      <td>40.189476</td>\n",
              "      <td>-74.925030</td>\n",
              "      <td>Bridgetown Mill House Restaurant Inn</td>\n",
              "      <td>19047</td>\n",
              "      <td>Upper Holland</td>\n",
              "      <td>2015-09-01T00:00:00Z</td>\n",
              "      <td>2016-04-06T13:03:50Z</td>\n",
              "      <td>NaN</td>\n",
              "      <td>NaN</td>\n",
              "      <td>1.0</td>\n",
              "      <td>I reserved a room about a week in advance, com...</td>\n",
              "      <td>Don't count on them to honor your reservation.</td>\n",
              "      <td>beautiful hudson valley</td>\n",
              "      <td>William B</td>\n",
              "      <td>PA</td>\n",
              "      <td>[reserved room week advance complete credit ca...</td>\n",
              "      <td>[call, later, apparently, urgent, something, a...</td>\n",
              "      <td>[urgent]</td>\n",
              "      <td>[complet, advanc]</td>\n",
              "    </tr>\n",
              "    <tr>\n",
              "      <th>1296</th>\n",
              "      <td>760 Langhorne Newtown Rd</td>\n",
              "      <td>Party &amp; Event Planners,Restaurants,Hotels,Wedd...</td>\n",
              "      <td>Langhorne</td>\n",
              "      <td>US</td>\n",
              "      <td>40.189476</td>\n",
              "      <td>-74.925030</td>\n",
              "      <td>Bridgetown Mill House Restaurant Inn</td>\n",
              "      <td>19047</td>\n",
              "      <td>Upper Holland</td>\n",
              "      <td>2015-08-15T00:00:00Z</td>\n",
              "      <td>2016-04-06T13:03:50Z</td>\n",
              "      <td>NaN</td>\n",
              "      <td>NaN</td>\n",
              "      <td>1.0</td>\n",
              "      <td>We've lived in the area for twelve years but h...</td>\n",
              "      <td>What a huge disappointment.</td>\n",
              "      <td>beautiful hudson valley</td>\n",
              "      <td>Scott O</td>\n",
              "      <td>PA</td>\n",
              "      <td>[lived area twelve years never made place, tha...</td>\n",
              "      <td>[years, anything, missing, thankful, never, li...</td>\n",
              "      <td>[thankful]</td>\n",
              "      <td>[wa, patio dure, music, live]</td>\n",
              "    </tr>\n",
              "    <tr>\n",
              "      <th>1297</th>\n",
              "      <td>760 Langhorne Newtown Rd</td>\n",
              "      <td>Party &amp; Event Planners,Restaurants,Hotels,Wedd...</td>\n",
              "      <td>Langhorne</td>\n",
              "      <td>US</td>\n",
              "      <td>40.189476</td>\n",
              "      <td>-74.925030</td>\n",
              "      <td>Bridgetown Mill House Restaurant Inn</td>\n",
              "      <td>19047</td>\n",
              "      <td>Upper Holland</td>\n",
              "      <td>2016-07-25T00:00:00Z</td>\n",
              "      <td>2016-04-06T13:03:50Z</td>\n",
              "      <td>NaN</td>\n",
              "      <td>NaN</td>\n",
              "      <td>5.0</td>\n",
              "      <td>This was an amazing wonderful experience, cert...</td>\n",
              "      <td>Great Experience!!!!</td>\n",
              "      <td>Philadelphia</td>\n",
              "      <td>martina72002</td>\n",
              "      <td>PA</td>\n",
              "      <td>[amazing wonderful experience certainly much e...</td>\n",
              "      <td>[accomodating, requests, owner, amazing, wonde...</td>\n",
              "      <td>[wonderful, much]</td>\n",
              "      <td>[babi shower, wa]</td>\n",
              "    </tr>\n",
              "    <tr>\n",
              "      <th>1298</th>\n",
              "      <td>760 Langhorne Newtown Rd</td>\n",
              "      <td>Party &amp; Event Planners,Restaurants,Hotels,Wedd...</td>\n",
              "      <td>Langhorne</td>\n",
              "      <td>US</td>\n",
              "      <td>40.189476</td>\n",
              "      <td>-74.925030</td>\n",
              "      <td>Bridgetown Mill House Restaurant Inn</td>\n",
              "      <td>19047</td>\n",
              "      <td>Upper Holland</td>\n",
              "      <td>2016-05-27T00:00:00Z</td>\n",
              "      <td>2016-04-06T13:03:50Z</td>\n",
              "      <td>NaN</td>\n",
              "      <td>NaN</td>\n",
              "      <td>5.0</td>\n",
              "      <td>Each time I drove by, I wanted to stop in. Wel...</td>\n",
              "      <td>Lovely dinner</td>\n",
              "      <td>Phila</td>\n",
              "      <td>Lindabu</td>\n",
              "      <td>PA</td>\n",
              "      <td>[time drove wanted stop, well tonight finally ...</td>\n",
              "      <td>[dinner, wonderful, price, cosmo, normal, was,...</td>\n",
              "      <td>[wonderful, normal]</td>\n",
              "      <td>[wa, thi]</td>\n",
              "    </tr>\n",
              "    <tr>\n",
              "      <th>1299</th>\n",
              "      <td>760 Langhorne Newtown Rd</td>\n",
              "      <td>Party &amp; Event Planners,Restaurants,Hotels,Wedd...</td>\n",
              "      <td>Langhorne</td>\n",
              "      <td>US</td>\n",
              "      <td>40.189476</td>\n",
              "      <td>-74.925030</td>\n",
              "      <td>Bridgetown Mill House Restaurant Inn</td>\n",
              "      <td>19047</td>\n",
              "      <td>Upper Holland</td>\n",
              "      <td>2015-10-29T00:00:00Z</td>\n",
              "      <td>2016-04-06T13:03:50Z</td>\n",
              "      <td>NaN</td>\n",
              "      <td>NaN</td>\n",
              "      <td>4.0</td>\n",
              "      <td>Four of us went to dinner at this converted mi...</td>\n",
              "      <td>Lovely spot, but room for improvement</td>\n",
              "      <td>Chesterfield</td>\n",
              "      <td>Marc J</td>\n",
              "      <td>VA</td>\n",
              "      <td>[four us went dinner converted mill house, cha...</td>\n",
              "      <td>[something, asked, said, problems, night, kitc...</td>\n",
              "      <td>[average, hear]</td>\n",
              "      <td>[wa, night, thi]</td>\n",
              "    </tr>\n",
              "  </tbody>\n",
              "</table>\n",
              "<p>1300 rows × 23 columns</p>\n",
              "</div>"
            ],
            "text/plain": [
              "                       address  ...                           RANK\n",
              "0       Riviera San Nicol 11/a  ...           [min walk, pleasant]\n",
              "1       Riviera San Nicol 11/a  ...                   [love hotel]\n",
              "2       Riviera San Nicol 11/a  ...        [det, rummet, ett, var]\n",
              "3       Riviera San Nicol 11/a  ...    [hotel staff, nearbi, wide]\n",
              "4       Riviera San Nicol 11/a  ...    [hotel staff, nearbi, wide]\n",
              "...                        ...  ...                            ...\n",
              "1295  760 Langhorne Newtown Rd  ...              [complet, advanc]\n",
              "1296  760 Langhorne Newtown Rd  ...  [wa, patio dure, music, live]\n",
              "1297  760 Langhorne Newtown Rd  ...              [babi shower, wa]\n",
              "1298  760 Langhorne Newtown Rd  ...                      [wa, thi]\n",
              "1299  760 Langhorne Newtown Rd  ...               [wa, night, thi]\n",
              "\n",
              "[1300 rows x 23 columns]"
            ]
          },
          "metadata": {
            "tags": []
          },
          "execution_count": 10
        }
      ]
    },
    {
      "cell_type": "markdown",
      "metadata": {
        "id": "QqVhNza2gPwB",
        "colab_type": "text"
      },
      "source": [
        "# LDA topic modeling"
      ]
    },
    {
      "cell_type": "code",
      "metadata": {
        "id": "6oNTLqHXaG8B",
        "colab_type": "code",
        "colab": {}
      },
      "source": [
        "#LDA with whole dataset 30000+ rows\n",
        "ct=[]\n",
        "data=data.dropna(subset=[\"reviews.text\"])\n",
        "for i in data[\"reviews.text\"]:\n",
        "  tmp=clean_text(i)\n",
        "  tmp = ' '.join(tmp)\n",
        "  #tmp=str(tmp)\n",
        "  ct.append(tmp)"
      ],
      "execution_count": 0,
      "outputs": []
    },
    {
      "cell_type": "code",
      "metadata": {
        "id": "uR5pDnn9E8xu",
        "colab_type": "code",
        "outputId": "9c3e10bb-e02e-4cc8-bfe6-a995f81cbdd7",
        "colab": {
          "base_uri": "https://localhost:8080/",
          "height": 696
        }
      },
      "source": [
        "def freq_words(x, terms = 30):\n",
        "  all_words = ' '.join([text for text in x])\n",
        "  all_words = all_words.split()\n",
        "\n",
        "  fdist = FreqDist(all_words)\n",
        "  words_df = pd.DataFrame({'word':list(fdist.keys()), 'count':list(fdist.values())})\n",
        "\n",
        "\n",
        "  d = words_df.nlargest(columns=\"count\", n = terms) \n",
        "  print(d[0:20])\n",
        "  plt.figure(figsize=(15,5))\n",
        "  \n",
        "  ax = sns.barplot(data=d, x= \"word\", y = \"count\",palette=\"Blues_d\")\n",
        "  ax.set(ylabel = 'Count')\n",
        "  plt.show()\n",
        "  \n",
        "freq_words(ct) \n"
      ],
      "execution_count": 0,
      "outputs": [
        {
          "output_type": "stream",
          "text": [
            "            word  count\n",
            "15          room  20541\n",
            "285         stay  11022\n",
            "32         staff  10183\n",
            "36         great   9863\n",
            "73         clean   9748\n",
            "11     breakfast   8481\n",
            "221         nice   8224\n",
            "12          good   7353\n",
            "106        would   5940\n",
            "72         rooms   5893\n",
            "33      friendly   5669\n",
            "10   comfortable   4908\n",
            "389        night   4817\n",
            "354          one   4799\n",
            "24        stayed   4769\n",
            "937        place   4558\n",
            "37      location   4288\n",
            "225          bed   3836\n",
            "380           us   3816\n",
            "866         desk   3754\n"
          ],
          "name": "stdout"
        },
        {
          "output_type": "display_data",
          "data": {
            "image/png": "[encoded data removed]",
            "text/plain": [
              "<Figure size 1080x360 with 1 Axes>"
            ]
          },
          "metadata": {
            "tags": []
          }
        }
      ]
    },
    {
      "cell_type": "code",
      "metadata": {
        "id": "DUlG30XhbPxr",
        "colab_type": "code",
        "colab": {}
      },
      "source": [
        "!python -m spacy download en"
      ],
      "execution_count": 0,
      "outputs": []
    },
    {
      "cell_type": "code",
      "metadata": {
        "id": "LwK9qhztdA7H",
        "colab_type": "code",
        "colab": {}
      },
      "source": [
        "#streamline function restore words to original \n",
        "nlp = spacy.load('en', disable=['parser', 'ner'])\n",
        "def lemm(texts, tags=['NOUN', 'ADJ']): # filter noun and adjective\n",
        "  output = []\n",
        "  for sent in texts:\n",
        "    doc = nlp(\" \".join(sent)) \n",
        "    output.append([token.lemma_ for token in doc if token.pos_ in tags])\n",
        "  return output"
      ],
      "execution_count": 0,
      "outputs": []
    },
    {
      "cell_type": "code",
      "metadata": {
        "id": "X_vtANl_fFYo",
        "colab_type": "code",
        "colab": {}
      },
      "source": [
        "tokenized_reviews = pd.Series(ct).apply(lambda x: x.split())\n",
        "r_2 = lemm(tokenized_reviews)"
      ],
      "execution_count": 0,
      "outputs": []
    },
    {
      "cell_type": "code",
      "metadata": {
        "id": "tD6gL3-hfJxK",
        "colab_type": "code",
        "outputId": "020086fe-ef01-4aad-a48d-81c67f6c7ce2",
        "colab": {
          "base_uri": "https://localhost:8080/",
          "height": 696
        }
      },
      "source": [
        "# reduce the noise it looks better now\n",
        "r_3 = []\n",
        "for i in range(len(r_2)):\n",
        "  r_3.append(' '.join(r_2[i]))\n",
        "  \n",
        "freq_words(r_3, 20)"
      ],
      "execution_count": 0,
      "outputs": [
        {
          "output_type": "stream",
          "text": [
            "            word  count\n",
            "10          room  25017\n",
            "16         staff   9614\n",
            "19         great   8594\n",
            "8           good   8154\n",
            "52         clean   8046\n",
            "7      breakfast   7666\n",
            "65          nice   6907\n",
            "28         night   5856\n",
            "37           bed   5275\n",
            "17      friendly   5099\n",
            "6    comfortable   4859\n",
            "261        place   4781\n",
            "81          time   4362\n",
            "201         area   3892\n",
            "262         desk   3553\n",
            "20      location   3481\n",
            "359         pool   3113\n",
            "246      service   3031\n",
            "18       helpful   3029\n",
            "97           day   2985\n"
          ],
          "name": "stdout"
        },
        {
          "output_type": "display_data",
          "data": {
            "image/png": "[encoded data removed]",
            "text/plain": [
              "<Figure size 1080x360 with 1 Axes>"
            ]
          },
          "metadata": {
            "tags": []
          }
        }
      ]
    },
    {
      "cell_type": "code",
      "metadata": {
        "id": "NNar9UUzhRoT",
        "colab_type": "code",
        "colab": {}
      },
      "source": [
        "dictionary = gensim.corpora.Dictionary(reviews_2)\n",
        "doc_matrix = [dictionary.doc2bow(rev) for rev in reviews_2]\n",
        "#LDA model using gensim library\n",
        "LDA = gensim.models.ldamodel.LdaModel\n",
        "lda_model = LDA(corpus=doc_matrix,id2word=dictionary,num_topics=6, random_state=100,chunksize=1000,passes=50)"
      ],
      "execution_count": 0,
      "outputs": []
    },
    {
      "cell_type": "code",
      "metadata": {
        "id": "vtFnr76fmMgf",
        "colab_type": "code",
        "outputId": "847875ec-faa7-4b17-ea4c-18d4d2f61b6c",
        "colab": {
          "base_uri": "https://localhost:8080/",
          "height": 861
        }
      },
      "source": [
        "lda_model.print_topics() \n",
        "# Visualize\n",
        "pyLDAvis.enable_notebook()\n",
        "plot = pyLDAvis.gensim.prepare(lda_model, doc_matrix, dictionary)\n",
        "plot"
      ],
      "execution_count": 0,
      "outputs": [
        {
          "output_type": "execute_result",
          "data": {
            "text/html": [
              "\n",
              "<link rel=\"stylesheet\" type=\"text/css\" href=\"https://cdn.rawgit.com/bmabey/pyLDAvis/files/ldavis.v1.0.0.css\">\n",
              "\n",
              "\n",
              "<div id=\"ldavis_el1381399631210297925216733076\"></div>\n",
              "<script type=\"text/javascript\">\n",
              "\n",
              "var ldavis_el1381399631210297925216733076_data = {\"mdsDat\": {\"x\": [-0.14680936131334094, -0.01341501342598427, -0.09612587075542452, -0.12384933364314159, -0.02072473571094372, 0.4009243148488352], \"y\": [-0.09490716570812001, 0.0738839578307351, 0.24408812379420367, 0.062370803368940644, -0.31467823725270877, 0.02924251796694943], \"topics\": [1, 2, 3, 4, 5, 6], \"cluster\": [1, 1, 1, 1, 1, 1], \"Freq\": [29.846397399902344, 18.457592010498047, 15.717087745666504, 15.591012001037598, 14.403663635253906, 5.984253406524658]}, \"tinfo\": {\"Term\": [\"great\", \"room\", \"breakfast\", \"clean\", \"friendly\", \"desk\", \"staff\", \"restaurant\", \"good\", \"front\", \"nice\", \"location\", \"bed\", \"pool\", \"door\", \"floor\", \"helpful\", \"comfortable\", \"view\", \"small\", \"beautiful\", \"bathroom\", \"bad\", \"dirty\", \"time\", \"shower\", \"place\", \"check\", \"coffee\", \"parking\", \"friendly\", \"pool\", \"helpful\", \"courteous\", \"pet\", \"indoor\", \"efficient\", \"paper\", \"attentive\", \"enjoyable\", \"rating\", \"favorite\", \"course\", \"courtyard\", \"team\", \"patio\", \"want\", \"online\", \"brand\", \"purpose\", \"cheese\", \"gym\", \"dated\", \"heater\", \"recommendation\", \"attitude\", \"loved\", \"parent\", \"tree\", \"suggestion\", \"staff\", \"clean\", \"value\", \"nice\", \"comfortable\", \"pleasant\", \"good\", \"quiet\", \"price\", \"breakfast\", \"overall\", \"great\", \"stay\", \"reasonable\", \"kid\", \"facility\", \"spacious\", \"area\", \"room\", \"family\", \"tub\", \"place\", \"location\", \"hot\", \"excellent\", \"night\", \"bed\", \"time\", \"little\", \"service\", \"trip\", \"wonderful\", \"day\", \"desk\", \"front\", \"last\", \"reservation\", \"manager\", \"late\", \"person\", \"com\", \"card\", \"pm\", \"ready\", \"rude\", \"fee\", \"charge\", \"management\", \"arrival\", \"change\", \"name\", \"number\", \"office\", \"credit\", \"awful\", \"question\", \"booking\", \"woman\", \"party\", \"additional\", \"bag\", \"wait\", \"flight\", \"hour\", \"check\", \"book\", \"lady\", \"early\", \"day\", \"customer\", \"able\", \"time\", \"call\", \"minute\", \"week\", \"first\", \"year\", \"night\", \"hotel\", \"phone\", \"room\", \"problem\", \"morning\", \"people\", \"service\", \"next\", \"experience\", \"guest\", \"staff\", \"stay\", \"door\", \"floor\", \"dirty\", \"elevator\", \"air\", \"wall\", \"carpet\", \"smoking\", \"sheet\", \"smell\", \"light\", \"bedroom\", \"toilet\", \"window\", \"non\", \"terrible\", \"loud\", \"smoke\", \"unit\", \"key\", \"conditioner\", \"head\", \"bug\", \"traffic\", \"opinion\", \"visitor\", \"game\", \"cigarette\", \"thin\", \"guy\", \"shower\", \"bad\", \"noise\", \"towel\", \"horrible\", \"room\", \"bathroom\", \"work\", \"old\", \"water\", \"bed\", \"night\", \"place\", \"tv\", \"sleep\", \"next\", \"lot\", \"coffee\", \"cabin\", \"basic\", \"chair\", \"egg\", \"machine\", \"refrigerator\", \"fridge\", \"sink\", \"filthy\", \"ice\", \"item\", \"adequate\", \"cereal\", \"waffle\", \"kitchen\", \"stain\", \"fruit\", \"king\", \"fancy\", \"maker\", \"mountain\", \"type\", \"fan\", \"queen\", \"sausage\", \"gas\", \"overnight\", \"balcony\", \"ocean\", \"small\", \"table\", \"size\", \"large\", \"bed\", \"breakfast\", \"room\", \"bathroom\", \"free\", \"full\", \"clean\", \"little\", \"comfortable\", \"bit\", \"good\", \"area\", \"nice\", \"price\", \"water\", \"lobby\", \"hot\", \"night\", \"tv\", \"old\", \"parking\", \"restaurant\", \"view\", \"beautiful\", \"amazing\", \"beach\", \"downtown\", \"airport\", \"shopping\", \"park\", \"shuttle\", \"shop\", \"fantastic\", \"store\", \"city\", \"bus\", \"meal\", \"train\", \"outstanding\", \"attraction\", \"fabulous\", \"refund\", \"peaceful\", \"paint\", \"ride\", \"impressed\", \"river\", \"heart\", \"downside\", \"destination\", \"taxi\", \"distance\", \"walk\", \"resort\", \"access\", \"parking\", \"lovely\", \"close\", \"bar\", \"food\", \"street\", \"great\", \"location\", \"easy\", \"right\", \"perfect\", \"wonderful\", \"town\", \"place\", \"lot\", \"excellent\", \"service\", \"good\", \"area\", \"staff\", \"many\", \"time\", \"nice\", \"wedding\", \"traveler\", \"chain\", \"group\", \"budget\", \"garden\", \"screen\", \"flat\", \"normal\", \"proximity\", \"nearby\", \"iron\", \"gorgeous\", \"possible\", \"detail\", \"cruise\", \"cable\", \"seat\", \"port\", \"enjoy\", \"board\", \"red\", \"today\", \"golf\", \"row\", \"notice\", \"sweet\", \"program\", \"green\", \"ideal\", \"child\", \"accommodation\", \"spring\", \"guest\", \"adult\", \"amenity\", \"block\", \"internet\", \"level\", \"business\", \"complimentary\", \"high\", \"quality\", \"family\", \"kid\", \"free\", \"rate\", \"service\", \"room\"], \"Freq\": [8508.0, 23961.0, 7487.0, 7897.0, 4710.0, 3287.0, 8887.0, 2351.0, 7812.0, 2311.0, 6498.0, 3442.0, 5190.0, 2845.0, 1830.0, 1826.0, 2754.0, 4673.0, 1521.0, 2012.0, 1260.0, 2083.0, 1826.0, 1258.0, 4244.0, 1631.0, 4797.0, 1637.0, 1161.0, 1929.0, 4709.31787109375, 2844.53173828125, 2753.66845703125, 353.7330017089844, 326.0748596191406, 301.0007019042969, 237.4687042236328, 224.8950958251953, 208.99856567382812, 166.86349487304688, 165.43592834472656, 155.15020751953125, 150.59071350097656, 146.84136962890625, 148.4551239013672, 141.2869415283203, 137.21824645996094, 131.6593475341797, 127.91291046142578, 121.73175048828125, 120.08192443847656, 118.74161529541016, 114.08686828613281, 111.3401107788086, 105.00865936279297, 104.55445861816406, 102.17205810546875, 102.23471069335938, 101.47484588623047, 97.95055389404297, 7404.66064453125, 6482.57421875, 682.1865234375, 5159.0224609375, 3708.5400390625, 840.1665649414062, 5839.43115234375, 1192.0794677734375, 1929.755859375, 4796.8388671875, 621.5029296875, 4817.560546875, 1364.3365478515625, 343.69140625, 626.7930908203125, 504.4252014160156, 638.9977416992188, 2081.061279296875, 8778.19140625, 1167.8594970703125, 660.9201049804688, 2368.0341796875, 1707.569580078125, 1065.9664306640625, 936.0426025390625, 1949.671875, 1629.871337890625, 1302.67333984375, 803.8699340820312, 793.9465942382812, 681.8800048828125, 663.3550415039062, 661.502197265625, 3286.374267578125, 2310.241943359375, 927.5802612304688, 725.6962280273438, 717.0365600585938, 648.0396118164062, 603.4694213867188, 449.4398193359375, 410.5636901855469, 396.96282958984375, 378.6244201660156, 343.7094421386719, 326.7428894042969, 315.42352294921875, 288.5555725097656, 287.3183898925781, 271.8280334472656, 240.21238708496094, 234.64031982421875, 217.35385131835938, 214.2281951904297, 215.24293518066406, 211.71839904785156, 210.72543334960938, 192.96681213378906, 189.20846557617188, 183.70944213867188, 183.4842987060547, 177.36839294433594, 171.2432403564453, 1071.9410400390625, 1408.72802734375, 309.89910888671875, 324.7528381347656, 507.6308288574219, 1735.6455078125, 584.5682983398438, 549.228515625, 2219.799560546875, 364.51617431640625, 780.5603637695312, 509.5915832519531, 763.5060424804688, 769.055908203125, 2065.31884765625, 738.7968139648438, 402.2403564453125, 3489.74609375, 573.2960205078125, 672.5538940429688, 674.17236328125, 866.9974975585938, 626.27783203125, 535.7448120117188, 512.9829711914062, 794.2470703125, 467.62445068359375, 1830.115234375, 1825.6298828125, 1257.4407958984375, 803.0865478515625, 725.1531372070312, 668.7238159179688, 668.500244140625, 569.9651489257812, 557.0597534179688, 535.3731079101562, 533.8614501953125, 525.3482666015625, 508.5032653808594, 500.9491882324219, 470.9573974609375, 459.4568176269531, 432.2879943847656, 415.95050048828125, 390.1368103027344, 382.3299255371094, 307.6854553222656, 296.7890930175781, 291.04107666015625, 259.62158203125, 256.0024108886719, 249.21731567382812, 245.74591064453125, 239.31907653808594, 239.4144287109375, 223.0376434326172, 1307.166748046875, 1380.87744140625, 557.1698608398438, 710.1926879882812, 395.03302001953125, 6809.365234375, 1161.05078125, 776.0333862304688, 995.0730590820312, 702.7385864257812, 1491.929443359375, 1160.281982421875, 853.7960815429688, 517.634033203125, 482.7912902832031, 512.5289306640625, 500.5038146972656, 1160.153076171875, 916.593505859375, 429.20611572265625, 427.2494201660156, 378.6885986328125, 364.7860107421875, 336.1908264160156, 334.9233703613281, 322.4833068847656, 306.2124328613281, 302.642822265625, 300.5778503417969, 291.3677062988281, 281.93511962890625, 272.8959655761719, 267.7652282714844, 256.804931640625, 254.0904998779297, 245.88253784179688, 241.71392822265625, 239.69679260253906, 217.44813537597656, 209.58616638183594, 207.34478759765625, 190.2572021484375, 176.8155975341797, 177.52540588378906, 172.45718383789062, 172.15130615234375, 173.26397705078125, 1463.7904052734375, 349.2721862792969, 530.247802734375, 794.8623046875, 2068.0751953125, 2689.95703125, 4705.47900390625, 921.6278686523438, 947.2802734375, 491.9067687988281, 1414.513916015625, 608.3716430664062, 894.2440795898438, 442.81048583984375, 1020.6216430664062, 739.6914672851562, 820.8489990234375, 590.3699951171875, 448.60467529296875, 408.9599914550781, 498.9028015136719, 571.3501586914062, 403.9628601074219, 424.87811279296875, 415.44830322265625, 2350.756591796875, 1520.7969970703125, 1259.62255859375, 849.0872802734375, 749.5068359375, 683.9143676757812, 412.254638671875, 406.6726379394531, 379.9563903808594, 371.603271484375, 353.0722351074219, 349.0538330078125, 340.83087158203125, 299.27618408203125, 254.3194122314453, 254.77842712402344, 231.75006103515625, 218.05947875976562, 180.4520263671875, 158.0172119140625, 161.58290100097656, 132.52947998046875, 135.45880126953125, 130.5796661376953, 130.27432250976562, 129.5626220703125, 119.84013366699219, 119.37432098388672, 114.46430206298828, 110.26486206054688, 845.0626831054688, 526.743896484375, 505.517578125, 601.7516479492188, 1282.1324462890625, 400.507080078125, 1077.401611328125, 706.7933959960938, 1222.402587890625, 475.52496337890625, 3690.340087890625, 1734.1397705078125, 893.7628784179688, 620.0736694335938, 566.933837890625, 722.2349853515625, 571.0809326171875, 1374.9595947265625, 824.322998046875, 675.5428466796875, 840.3385620117188, 952.3406372070312, 738.8897705078125, 688.4474487304688, 478.0469970703125, 556.0112915039062, 517.6959838867188, 545.405517578125, 371.9664306640625, 314.23577880859375, 307.5316467285156, 295.5401916503906, 233.17308044433594, 189.16497802734375, 182.71206665039062, 175.832763671875, 171.99209594726562, 162.40570068359375, 145.44705200195312, 141.83689880371094, 141.4910888671875, 136.24783325195312, 126.39054107666016, 123.89527130126953, 117.97241973876953, 112.01484680175781, 104.68148040771484, 104.63494873046875, 104.7132339477539, 104.0689697265625, 101.9115219116211, 102.447998046875, 97.90956115722656, 96.58316802978516, 94.65705871582031, 92.99424743652344, 90.1839828491211, 272.35882568359375, 301.2633361816406, 169.2024383544922, 498.5107116699219, 159.89622497558594, 337.09088134765625, 175.696044921875, 207.55812072753906, 158.01712036132812, 253.5413818359375, 198.65916442871094, 205.22789001464844, 193.2822723388672, 269.4302978515625, 197.42025756835938, 240.61888122558594, 187.42445373535156, 207.11099243164062, 178.71820068359375], \"Total\": [8508.0, 23961.0, 7487.0, 7897.0, 4710.0, 3287.0, 8887.0, 2351.0, 7812.0, 2311.0, 6498.0, 3442.0, 5190.0, 2845.0, 1830.0, 1826.0, 2754.0, 4673.0, 1521.0, 2012.0, 1260.0, 2083.0, 1826.0, 1258.0, 4244.0, 1631.0, 4797.0, 1637.0, 1161.0, 1929.0, 4710.17529296875, 2845.39111328125, 2754.525390625, 354.58966064453125, 326.933837890625, 301.8561096191406, 238.32794189453125, 225.77622985839844, 209.85635375976562, 167.72003173828125, 166.30860900878906, 156.01535034179688, 151.4599151611328, 147.70213317871094, 149.32725524902344, 142.1520538330078, 138.0887908935547, 132.52613830566406, 128.78321838378906, 122.58847045898438, 120.94854736328125, 119.60113525390625, 114.94723510742188, 112.20946502685547, 105.87313079833984, 105.426513671875, 103.0290298461914, 103.107421875, 102.34895324707031, 98.81101989746094, 8887.8701171875, 7897.77978515625, 745.0720825195312, 6498.08837890625, 4673.3095703125, 970.4352416992188, 7812.91455078125, 1476.33984375, 2520.818603515625, 7487.486328125, 763.8239135742188, 8508.587890625, 2043.1610107421875, 405.09649658203125, 824.89208984375, 639.8042602539062, 883.41796875, 3737.8330078125, 23961.669921875, 1959.3895263671875, 953.5565185546875, 4797.14501953125, 3442.397216796875, 1873.1043701171875, 1612.272216796875, 5746.974609375, 5190.3994140625, 4244.662109375, 1827.562255859375, 2708.728271484375, 1287.0035400390625, 1386.2774658203125, 2853.2001953125, 3287.220947265625, 2311.08837890625, 928.4276123046875, 726.5426025390625, 717.8821411132812, 648.8870239257812, 604.3170776367188, 450.2856750488281, 411.4098815917969, 397.81109619140625, 379.4728088378906, 344.55499267578125, 327.5910339355469, 316.2692565917969, 289.4046325683594, 288.1654052734375, 272.6757507324219, 241.05905151367188, 235.48818969726562, 218.20225524902344, 215.07286071777344, 216.09243774414062, 212.5668487548828, 211.5725555419922, 193.8138427734375, 190.0584716796875, 184.55772399902344, 184.33468627929688, 178.21556091308594, 172.0904083251953, 1118.4813232421875, 1637.804443359375, 336.2940979003906, 361.7588806152344, 617.2398071289062, 2853.2001953125, 757.3868408203125, 707.7239990234375, 4244.662109375, 423.9858093261719, 1264.3851318359375, 714.458740234375, 1285.922607421875, 1308.3470458984375, 5746.974609375, 1317.5003662109375, 509.46966552734375, 23961.669921875, 1009.368896484375, 1444.586669921875, 1566.739990234375, 2708.728271484375, 1782.45751953125, 1293.4622802734375, 1170.8013916015625, 8887.8701171875, 2043.1610107421875, 1830.96728515625, 1826.4815673828125, 1258.2906494140625, 803.938720703125, 726.0045776367188, 669.573974609375, 669.3507690429688, 570.8140869140625, 557.91015625, 536.2234497070312, 534.7144165039062, 526.2091674804688, 509.3542175292969, 501.80078125, 471.80767822265625, 460.3089294433594, 433.140380859375, 416.799560546875, 390.98828125, 383.1832580566406, 308.5357360839844, 297.6455993652344, 291.89093017578125, 260.4759826660156, 256.8514709472656, 250.0669403076172, 246.6067657470703, 240.1682891845703, 240.265380859375, 223.89503479003906, 1631.16162109375, 1826.457763671875, 679.2887573242188, 983.271240234375, 459.0575256347656, 23961.669921875, 2083.364013671875, 1211.3759765625, 1954.7486572265625, 1152.0289306640625, 5190.3994140625, 5746.974609375, 4797.14501953125, 1015.9976806640625, 862.3213500976562, 1782.45751953125, 2020.436767578125, 1161.00390625, 917.5484008789062, 430.060302734375, 428.10308837890625, 379.538330078125, 365.6383056640625, 337.04412841796875, 335.77508544921875, 323.335693359375, 307.0712585449219, 303.4946594238281, 301.4306335449219, 292.22027587890625, 282.7845458984375, 273.7455139160156, 268.6180419921875, 257.65948486328125, 254.9399871826172, 246.7348175048828, 242.5673828125, 240.54685974121094, 218.3126678466797, 210.4431610107422, 208.19810485839844, 191.11000061035156, 177.66470336914062, 178.37997436523438, 173.31124877929688, 173.00575256347656, 174.1239776611328, 2012.707275390625, 395.8197021484375, 690.706787109375, 1149.98291015625, 5190.3994140625, 7487.486328125, 23961.669921875, 2083.364013671875, 2228.15576171875, 792.2726440429688, 7897.77978515625, 1827.562255859375, 4673.3095703125, 958.4378662109375, 7812.91455078125, 3737.8330078125, 6498.08837890625, 2520.818603515625, 1152.0289306640625, 891.828857421875, 1873.1043701171875, 5746.974609375, 1015.9976806640625, 1954.7486572265625, 1929.06640625, 2351.604736328125, 1521.6468505859375, 1260.4716796875, 849.9357299804688, 750.3554077148438, 684.7625732421875, 413.1028747558594, 407.51971435546875, 380.80523681640625, 372.45050048828125, 353.91973876953125, 349.9025573730469, 341.6804504394531, 300.1244812011719, 255.1668243408203, 255.62814331054688, 232.59849548339844, 218.90756225585938, 181.30091857910156, 158.86471557617188, 162.4525909423828, 133.3788299560547, 136.3295135498047, 131.42779541015625, 131.12710571289062, 130.41143798828125, 120.68911743164062, 120.22757720947266, 115.31497955322266, 111.11378479003906, 899.8418579101562, 603.712890625, 586.8175659179688, 754.3016967773438, 1929.06640625, 500.52154541015625, 1660.1087646484375, 1006.300048828125, 1982.3494873046875, 632.6516723632812, 8508.587890625, 3442.397216796875, 1466.35400390625, 977.4113159179688, 926.2442626953125, 1386.2774658203125, 950.1614379882812, 4797.14501953125, 2020.436767578125, 1612.272216796875, 2708.728271484375, 7812.91455078125, 3737.8330078125, 8887.8701171875, 1235.013916015625, 4244.662109375, 6498.08837890625, 546.241943359375, 372.80224609375, 315.0736389160156, 308.3703918457031, 296.37841796875, 234.01243591308594, 190.00306701660156, 183.55006408691406, 176.67337036132812, 172.8327178955078, 163.24546813964844, 146.2838134765625, 142.6761932373047, 142.33062744140625, 137.08641052246094, 127.22657012939453, 124.73385620117188, 118.8152847290039, 112.85060119628906, 105.51971435546875, 105.47296142578125, 105.55424499511719, 104.90662384033203, 102.74886322021484, 103.2908935546875, 98.75025177001953, 97.42262268066406, 95.49293518066406, 93.83647918701172, 91.02424621582031, 409.38507080078125, 479.34881591796875, 218.07290649414062, 1170.8013916015625, 215.2922821044922, 870.9288330078125, 276.92291259765625, 420.9271240234375, 246.5391845703125, 868.6253662109375, 508.16156005859375, 653.5335693359375, 599.282958984375, 1959.3895263671875, 824.89208984375, 2228.15576171875, 686.745849609375, 2708.728271484375, 23961.669921875], \"Category\": [\"Default\", \"Default\", \"Default\", \"Default\", \"Default\", \"Default\", \"Default\", \"Default\", \"Default\", \"Default\", \"Default\", \"Default\", \"Default\", \"Default\", \"Default\", \"Default\", \"Default\", \"Default\", \"Default\", \"Default\", \"Default\", \"Default\", \"Default\", \"Default\", \"Default\", \"Default\", \"Default\", \"Default\", \"Default\", \"Default\", \"Topic1\", \"Topic1\", \"Topic1\", \"Topic1\", \"Topic1\", \"Topic1\", \"Topic1\", \"Topic1\", \"Topic1\", \"Topic1\", \"Topic1\", \"Topic1\", \"Topic1\", \"Topic1\", \"Topic1\", \"Topic1\", \"Topic1\", \"Topic1\", \"Topic1\", \"Topic1\", \"Topic1\", \"Topic1\", \"Topic1\", \"Topic1\", \"Topic1\", \"Topic1\", \"Topic1\", \"Topic1\", \"Topic1\", \"Topic1\", \"Topic1\", \"Topic1\", \"Topic1\", \"Topic1\", \"Topic1\", \"Topic1\", \"Topic1\", \"Topic1\", \"Topic1\", \"Topic1\", \"Topic1\", \"Topic1\", \"Topic1\", \"Topic1\", \"Topic1\", \"Topic1\", \"Topic1\", \"Topic1\", \"Topic1\", \"Topic1\", \"Topic1\", \"Topic1\", \"Topic1\", \"Topic1\", \"Topic1\", \"Topic1\", \"Topic1\", \"Topic1\", \"Topic1\", \"Topic1\", \"Topic1\", \"Topic1\", \"Topic1\", \"Topic2\", \"Topic2\", \"Topic2\", \"Topic2\", \"Topic2\", \"Topic2\", \"Topic2\", \"Topic2\", \"Topic2\", \"Topic2\", \"Topic2\", \"Topic2\", \"Topic2\", \"Topic2\", \"Topic2\", \"Topic2\", \"Topic2\", \"Topic2\", \"Topic2\", \"Topic2\", \"Topic2\", \"Topic2\", \"Topic2\", \"Topic2\", \"Topic2\", \"Topic2\", \"Topic2\", \"Topic2\", \"Topic2\", \"Topic2\", \"Topic2\", \"Topic2\", \"Topic2\", \"Topic2\", \"Topic2\", \"Topic2\", \"Topic2\", \"Topic2\", \"Topic2\", \"Topic2\", \"Topic2\", \"Topic2\", \"Topic2\", \"Topic2\", \"Topic2\", \"Topic2\", \"Topic2\", \"Topic2\", \"Topic2\", \"Topic2\", \"Topic2\", \"Topic2\", \"Topic2\", \"Topic2\", \"Topic2\", \"Topic2\", \"Topic2\", \"Topic3\", \"Topic3\", \"Topic3\", \"Topic3\", \"Topic3\", \"Topic3\", \"Topic3\", \"Topic3\", \"Topic3\", \"Topic3\", \"Topic3\", \"Topic3\", \"Topic3\", \"Topic3\", \"Topic3\", \"Topic3\", \"Topic3\", \"Topic3\", \"Topic3\", \"Topic3\", \"Topic3\", \"Topic3\", \"Topic3\", \"Topic3\", \"Topic3\", \"Topic3\", \"Topic3\", \"Topic3\", \"Topic3\", \"Topic3\", \"Topic3\", \"Topic3\", \"Topic3\", \"Topic3\", \"Topic3\", \"Topic3\", \"Topic3\", \"Topic3\", \"Topic3\", \"Topic3\", \"Topic3\", \"Topic3\", \"Topic3\", \"Topic3\", \"Topic3\", \"Topic3\", \"Topic3\", \"Topic4\", \"Topic4\", \"Topic4\", \"Topic4\", \"Topic4\", \"Topic4\", \"Topic4\", \"Topic4\", \"Topic4\", \"Topic4\", \"Topic4\", \"Topic4\", \"Topic4\", \"Topic4\", \"Topic4\", \"Topic4\", \"Topic4\", \"Topic4\", \"Topic4\", \"Topic4\", \"Topic4\", \"Topic4\", \"Topic4\", \"Topic4\", \"Topic4\", \"Topic4\", \"Topic4\", \"Topic4\", \"Topic4\", \"Topic4\", \"Topic4\", \"Topic4\", \"Topic4\", \"Topic4\", \"Topic4\", \"Topic4\", \"Topic4\", \"Topic4\", \"Topic4\", \"Topic4\", \"Topic4\", \"Topic4\", \"Topic4\", \"Topic4\", \"Topic4\", \"Topic4\", \"Topic4\", \"Topic4\", \"Topic4\", \"Topic4\", \"Topic4\", \"Topic4\", \"Topic4\", \"Topic4\", \"Topic4\", \"Topic5\", \"Topic5\", \"Topic5\", \"Topic5\", \"Topic5\", \"Topic5\", \"Topic5\", \"Topic5\", \"Topic5\", \"Topic5\", \"Topic5\", \"Topic5\", \"Topic5\", \"Topic5\", \"Topic5\", \"Topic5\", \"Topic5\", \"Topic5\", \"Topic5\", \"Topic5\", \"Topic5\", \"Topic5\", \"Topic5\", \"Topic5\", \"Topic5\", \"Topic5\", \"Topic5\", \"Topic5\", \"Topic5\", \"Topic5\", \"Topic5\", \"Topic5\", \"Topic5\", \"Topic5\", \"Topic5\", \"Topic5\", \"Topic5\", \"Topic5\", \"Topic5\", \"Topic5\", \"Topic5\", \"Topic5\", \"Topic5\", \"Topic5\", \"Topic5\", \"Topic5\", \"Topic5\", \"Topic5\", \"Topic5\", \"Topic5\", \"Topic5\", \"Topic5\", \"Topic5\", \"Topic5\", \"Topic5\", \"Topic5\", \"Topic5\", \"Topic6\", \"Topic6\", \"Topic6\", \"Topic6\", \"Topic6\", \"Topic6\", \"Topic6\", \"Topic6\", \"Topic6\", \"Topic6\", \"Topic6\", \"Topic6\", \"Topic6\", \"Topic6\", \"Topic6\", \"Topic6\", \"Topic6\", \"Topic6\", \"Topic6\", \"Topic6\", \"Topic6\", \"Topic6\", \"Topic6\", \"Topic6\", \"Topic6\", \"Topic6\", \"Topic6\", \"Topic6\", \"Topic6\", \"Topic6\", \"Topic6\", \"Topic6\", \"Topic6\", \"Topic6\", \"Topic6\", \"Topic6\", \"Topic6\", \"Topic6\", \"Topic6\", \"Topic6\", \"Topic6\", \"Topic6\", \"Topic6\", \"Topic6\", \"Topic6\", \"Topic6\", \"Topic6\", \"Topic6\", \"Topic6\"], \"logprob\": [30.0, 29.0, 28.0, 27.0, 26.0, 25.0, 24.0, 23.0, 22.0, 21.0, 20.0, 19.0, 18.0, 17.0, 16.0, 15.0, 14.0, 13.0, 12.0, 11.0, 10.0, 9.0, 8.0, 7.0, 6.0, 5.0, 4.0, 3.0, 2.0, 1.0, -3.3835999965667725, -3.8877999782562256, -3.9202001094818115, -5.972400188446045, -6.053800106048584, -6.133800029754639, -6.3709001541137695, -6.425300121307373, -6.498600006103516, -6.723800182342529, -6.7322998046875, -6.796500205993652, -6.826399803161621, -6.851600170135498, -6.84060001373291, -6.890100002288818, -6.919400215148926, -6.960700035095215, -6.98960018157959, -7.039100170135498, -7.052800178527832, -7.064000129699707, -7.104000091552734, -7.128300189971924, -7.1869001388549805, -7.191199779510498, -7.214300155639648, -7.213699817657471, -7.221099853515625, -7.256499767303467, -2.9310998916625977, -3.0641000270843506, -5.3155999183654785, -3.2923998832702637, -3.622499942779541, -5.1072998046875, -3.1684999465942383, -4.757500171661377, -4.2758002281188965, -3.3652000427246094, -5.40880012512207, -3.3608999252319336, -4.622499942779541, -6.001200199127197, -5.400300025939941, -5.617499828338623, -5.38100004196167, -4.200300216674805, -2.7609000205993652, -4.7779998779296875, -5.347300052642822, -4.071100234985352, -4.398099899291992, -4.86929988861084, -4.999300003051758, -4.265500068664551, -4.444699764251709, -4.668799877166748, -5.151500225067139, -5.163899898529053, -5.316100120544434, -5.343599796295166, -5.346399784088135, -3.2627999782562256, -3.6152000427246094, -4.5278000831604, -4.773200035095215, -4.785200119018555, -4.88640022277832, -4.957600116729736, -5.252299785614014, -5.342800140380859, -5.376500129699707, -5.423799991607666, -5.520500183105469, -5.571199893951416, -5.606400012969971, -5.695499897003174, -5.69980001449585, -5.755199909210205, -5.878799915313721, -5.902299880981445, -5.978799819946289, -5.993299961090088, -5.98859977722168, -6.005099773406982, -6.009799957275391, -6.097799777984619, -6.117499828338623, -6.146999835968018, -6.148200035095215, -6.18209981918335, -6.217299938201904, -4.3831000328063965, -4.109899997711182, -5.624100208282471, -5.577300071716309, -5.1305999755859375, -3.90120005607605, -4.989500045776367, -5.051799774169922, -3.6552000045776367, -5.4618000984191895, -4.700300216674805, -5.126699924468994, -4.722400188446045, -4.715199947357178, -3.727299928665161, -4.755300045013428, -5.36329984664917, -3.2028000354766846, -5.008900165557861, -4.849299907684326, -4.84689998626709, -4.595300197601318, -4.920499801635742, -5.076700210571289, -5.120100021362305, -4.6828999519348145, -5.212699890136719, -3.6875, -3.6898999214172363, -4.06279993057251, -4.511199951171875, -4.6132001876831055, -4.694200038909912, -4.6946001052856445, -4.854000091552734, -4.8769001960754395, -4.9166998863220215, -4.91949987411499, -4.9355998039245605, -4.968100070953369, -4.983099937438965, -5.0447998046875, -5.0696001052856445, -5.130499839782715, -5.169000148773193, -5.233099937438965, -5.253300189971924, -5.4704999923706055, -5.5065999031066895, -5.526199817657471, -5.640399932861328, -5.654399871826172, -5.681300163269043, -5.695300102233887, -5.721799850463867, -5.721399784088135, -5.792300224304199, -4.02400016784668, -3.969099998474121, -4.876699924468994, -4.634099960327148, -5.220600128173828, -2.3736000061035156, -4.142499923706055, -4.545400142669678, -4.296800136566162, -4.644599914550781, -3.8917999267578125, -4.143199920654297, -4.449900150299072, -4.950300216674805, -5.019999980926514, -4.960299968719482, -4.984000205993652, -4.135300159454346, -4.3709001541137695, -5.1296000480651855, -5.134200096130371, -5.254799842834473, -5.292300224304199, -5.373899936676025, -5.377699851989746, -5.415500164031982, -5.467299938201904, -5.479000091552734, -5.485899925231934, -5.517000198364258, -5.549900054931641, -5.582499980926514, -5.601500034332275, -5.643199920654297, -5.653900146484375, -5.686699867248535, -5.703800201416016, -5.712200164794922, -5.809599876403809, -5.846399784088135, -5.8572001457214355, -5.94320011138916, -6.016499996185303, -6.012400150299072, -6.041399955749512, -6.0432000160217285, -6.0366997718811035, -3.9028000831604004, -5.335700035095215, -4.9182000160217285, -4.513400077819824, -3.5571999549865723, -3.294300079345703, -2.735100030899048, -4.3653998374938965, -4.3379998207092285, -4.993299961090088, -3.937000036239624, -4.780799865722656, -4.395599842071533, -5.098400115966797, -4.263400077819824, -4.585299968719482, -4.481200218200684, -4.810800075531006, -5.085400104522705, -5.1778998374938965, -4.9791998863220215, -4.843599796295166, -5.190199851989746, -5.139800071716309, -5.162199974060059, -3.349900007247925, -3.785399913787842, -3.97379994392395, -4.368199825286865, -4.4928998947143555, -4.584499835968018, -5.090700149536133, -5.104300022125244, -5.172299861907959, -5.194499969482422, -5.245699882507324, -5.2571001052856445, -5.281000137329102, -5.410999774932861, -5.573800086975098, -5.572000026702881, -5.6666998863220215, -5.72760009765625, -5.916900157928467, -6.049600124359131, -6.027299880981445, -6.225500106811523, -6.203700065612793, -6.2403998374938965, -6.242700099945068, -6.248199939727783, -6.326200008392334, -6.330100059509277, -6.372099876403809, -6.4095001220703125, -4.372900009155273, -4.845600128173828, -4.8867998123168945, -4.712500095367432, -3.9560999870300293, -5.11959981918335, -4.130000114440918, -4.551599979400635, -4.003799915313721, -4.94789981842041, -2.898900032043457, -3.654099941253662, -4.31689977645874, -4.682499885559082, -4.77209997177124, -4.53000020980835, -4.764800071716309, -3.886199951171875, -4.397799968719482, -4.596799850463867, -4.378499984741211, -4.253399848937988, -4.507199764251709, -4.577899932861328, -4.942599773406982, -4.791600227355957, -4.86299991607666, -3.932499885559082, -4.315199851989746, -4.48390007019043, -4.50540018081665, -4.545199871063232, -4.782199859619141, -4.991399765014648, -5.026100158691406, -5.064499855041504, -5.086599826812744, -5.143899917602539, -5.254199981689453, -5.279300212860107, -5.281799793243408, -5.319499969482422, -5.394599914550781, -5.414599895477295, -5.463500022888184, -5.515399932861328, -5.583099842071533, -5.583499908447266, -5.582799911499023, -5.588900089263916, -5.609899997711182, -5.604599952697754, -5.650000095367432, -5.663599967956543, -5.683700084686279, -5.701499938964844, -5.732100009918213, -4.6269001960754395, -4.526000022888184, -5.10290002822876, -4.02239990234375, -5.1595001220703125, -4.413599967956543, -5.065199851989746, -4.898600101470947, -5.171299934387207, -4.698500156402588, -4.942399978637695, -4.909900188446045, -4.969799995422363, -4.637700080871582, -4.948699951171875, -4.750800132751465, -5.0005998611450195, -4.900700092315674, -5.0482001304626465], \"loglift\": [30.0, 29.0, 28.0, 27.0, 26.0, 25.0, 24.0, 23.0, 22.0, 21.0, 20.0, 19.0, 18.0, 17.0, 16.0, 15.0, 14.0, 13.0, 12.0, 11.0, 10.0, 9.0, 8.0, 7.0, 6.0, 5.0, 4.0, 3.0, 2.0, 1.0, 1.208899974822998, 1.208799958229065, 1.208799958229065, 1.2066999673843384, 1.2065000534057617, 1.2063000202178955, 1.2055000066757202, 1.205199956893921, 1.2050000429153442, 1.2039999961853027, 1.2037999629974365, 1.2035000324249268, 1.2034000158309937, 1.2032999992370605, 1.2031999826431274, 1.2029999494552612, 1.2028000354766846, 1.2024999856948853, 1.202299952507019, 1.2021000385284424, 1.2019000053405762, 1.2019000053405762, 1.2015999555587769, 1.201300024986267, 1.2008999586105347, 1.2007999420166016, 1.2007999420166016, 1.200600028038025, 1.2005000114440918, 1.2003999948501587, 1.0264999866485596, 1.0116000175476074, 1.12090003490448, 0.9782999753952026, 0.9779000282287598, 1.065000057220459, 0.9179999828338623, 0.995199978351593, 0.9419000148773193, 0.7638000249862671, 1.0029000043869019, 0.6402999758720398, 0.8052999973297119, 1.044700026512146, 0.934499979019165, 0.9714000225067139, 0.885200023651123, 0.6234999895095825, 0.20489999651908875, 0.6916000247001648, 0.8424999713897705, 0.5030999779701233, 0.5080000162124634, 0.6453999876976013, 0.6654000282287598, 0.12809999287128448, 0.05079999938607216, 0.027899999171495438, 0.387800008058548, -0.01810000091791153, 0.5738999843597412, 0.47200000286102295, -0.2526000142097473, 1.6893999576568604, 1.6892999410629272, 1.6887999773025513, 1.6885000467300415, 1.6885000467300415, 1.6884000301361084, 1.6883000135421753, 1.6878000497817993, 1.687600016593933, 1.687600016593933, 1.6875, 1.6871999502182007, 1.6871000528335571, 1.687000036239624, 1.6868000030517578, 1.6868000030517578, 1.6865999698638916, 1.6862000226974487, 1.6861000061035156, 1.6857999563217163, 1.6857999563217163, 1.6857999563217163, 1.6857000589370728, 1.6857000589370728, 1.6852999925613403, 1.6851999759674072, 1.6850999593734741, 1.6850999593734741, 1.6849000453948975, 1.6848000288009644, 1.6471999883651733, 1.5390000343322754, 1.6080000400543213, 1.5817999839782715, 1.4941999912261963, 1.1926000118255615, 1.4306999444961548, 1.4362000226974487, 1.0413999557495117, 1.538599967956543, 1.2073999643325806, 1.3517999649047852, 1.1684000492095947, 1.1583000421524048, 0.6662999987602234, 1.111199975013733, 1.4534000158309937, -0.23690000176429749, 1.1239999532699585, 0.9251999855041504, 0.8464000225067139, 0.5504999756813049, 0.6437000036239624, 0.8083000183105469, 0.8644999861717224, -0.7253999710083008, 0.2151000052690506, 1.850000023841858, 1.850000023841858, 1.8496999740600586, 1.8494000434875488, 1.8492000102996826, 1.8492000102996826, 1.8492000102996826, 1.8488999605178833, 1.8488999605178833, 1.8487999439239502, 1.8487999439239502, 1.8487999439239502, 1.8487000465393066, 1.8487000465393066, 1.8486000299453735, 1.8486000299453735, 1.8485000133514404, 1.8483999967575073, 1.8481999635696411, 1.8481999635696411, 1.8476999998092651, 1.847499966621399, 1.847499966621399, 1.847100019454956, 1.847100019454956, 1.847000002861023, 1.8468999862670898, 1.8468999862670898, 1.8468999862670898, 1.84660005569458, 1.628999948501587, 1.5707999467849731, 1.6521999835968018, 1.5250999927520752, 1.7001999616622925, 0.5922999978065491, 1.2657999992370605, 1.4050999879837036, 1.1751999855041504, 1.3560999631881714, 0.6036999821662903, 0.25040000677108765, 0.12430000305175781, 1.1761000156402588, 1.270400047302246, 0.6039999723434448, 0.45500001311302185, 1.857699990272522, 1.8573999404907227, 1.8565000295639038, 1.8565000295639038, 1.8561999797821045, 1.8560999631881714, 1.8559000492095947, 1.8559000492095947, 1.8558000326156616, 1.8557000160217285, 1.8557000160217285, 1.8555999994277954, 1.8555999994277954, 1.8554999828338623, 1.8553999662399292, 1.855299949645996, 1.8552000522613525, 1.8551000356674194, 1.8550000190734863, 1.8550000190734863, 1.8549000024795532, 1.8545000553131104, 1.8544000387191772, 1.8544000387191772, 1.8539999723434448, 1.853700041770935, 1.853700041770935, 1.8535000085830688, 1.8535000085830688, 1.8535000085830688, 1.5399999618530273, 1.7333999872207642, 1.594099998474121, 1.4890999794006348, 0.9383000135421753, 0.8348000049591064, 0.23070000112056732, 1.0428999662399292, 1.003100037574768, 1.3818999528884888, 0.1386999934911728, 0.7584999799728394, 0.20479999482631683, 1.086300015449524, -0.1768999993801117, 0.23839999735355377, -0.21040000021457672, 0.40689998865127563, 0.9153000116348267, 1.0787999629974365, 0.5354999899864197, -0.44999998807907104, 0.9362000226974487, 0.33230000734329224, 0.3230000138282776, 1.9372999668121338, 1.9371000528335571, 1.937000036239624, 1.9366999864578247, 1.9365999698638916, 1.936400055885315, 1.9356000423431396, 1.9356000423431396, 1.9355000257492065, 1.9354000091552734, 1.9352999925613403, 1.9352999925613403, 1.9351999759674072, 1.9349000453948975, 1.934399962425232, 1.934399962425232, 1.934000015258789, 1.9337999820709229, 1.9329999685287476, 1.9322999715805054, 1.9322999715805054, 1.9313000440597534, 1.9313000440597534, 1.9312000274658203, 1.9312000274658203, 1.9312000274658203, 1.9306000471115112, 1.9306000471115112, 1.930299997329712, 1.9299999475479126, 1.874899983406067, 1.801300048828125, 1.788599967956543, 1.7116999626159668, 1.5291999578475952, 1.7148000001907349, 1.5053999423980713, 1.5844000577926636, 1.454200029373169, 1.6521999835968018, 1.1023000478744507, 1.2519999742507935, 1.4426000118255615, 1.4825999736785889, 1.4467999935150146, 1.2856999635696411, 1.4285999536514282, 0.6880999803543091, 1.041200041770935, 1.0678000450134277, 0.767300009727478, -0.16689999401569366, 0.3165999948978424, -0.6202999949455261, 0.9886000156402588, -0.09489999711513519, -0.592199981212616, 2.814500093460083, 2.813800096511841, 2.8134000301361084, 2.8132998943328857, 2.813199996948242, 2.8124001026153564, 2.8115999698638916, 2.811500072479248, 2.811300039291382, 2.811199903488159, 2.8108999729156494, 2.81030011177063, 2.8101000785827637, 2.8101000785827637, 2.8099000453948975, 2.8094000816345215, 2.809299945831299, 2.8089001178741455, 2.8085999488830566, 2.8080999851226807, 2.8080999851226807, 2.808000087738037, 2.808000087738037, 2.8078999519348145, 2.807800054550171, 2.807499885559082, 2.8073999881744385, 2.8071999549865723, 2.806999921798706, 2.80679988861084, 2.4084999561309814, 2.351599931716919, 2.562299966812134, 1.9622000455856323, 2.5185999870300293, 1.8667999505996704, 2.3610999584198, 2.1089999675750732, 2.3712000846862793, 1.5846999883651733, 1.8767999410629272, 1.6577999591827393, 1.684499979019165, 0.8320000171661377, 1.3861000537872314, 0.5903000235557556, 1.5175000429153442, 0.2451000064611435, -2.08240008354187]}, \"token.table\": {\"Topic\": [1, 2, 3, 5, 6, 4, 5, 6, 2, 4, 4, 6, 3, 5, 5, 1, 4, 5, 6, 1, 3, 4, 5, 2, 1, 1, 5, 2, 2, 3, 2, 4, 1, 3, 4, 5, 4, 3, 4, 5, 5, 1, 3, 4, 3, 1, 2, 3, 4, 5, 3, 6, 6, 2, 5, 2, 1, 1, 4, 6, 3, 5, 1, 2, 5, 6, 4, 6, 2, 6, 2, 3, 4, 6, 4, 2, 2, 1, 2, 1, 2, 6, 3, 5, 1, 4, 1, 3, 5, 4, 2, 1, 4, 6, 1, 4, 6, 3, 1, 1, 1, 2, 6, 2, 5, 1, 1, 2, 3, 5, 2, 5, 6, 3, 5, 6, 3, 5, 5, 1, 2, 1, 5, 1, 4, 3, 6, 1, 1, 5, 1, 2, 5, 5, 1, 3, 5, 1, 2, 5, 6, 4, 4, 5, 1, 2, 4, 1, 2, 3, 6, 2, 3, 1, 4, 5, 1, 4, 5, 6, 4, 1, 2, 4, 1, 2, 4, 3, 6, 4, 6, 1, 4, 5, 6, 1, 5, 6, 6, 2, 3, 6, 3, 1, 3, 5, 1, 1, 1, 2, 4, 6, 2, 3, 1, 3, 4, 1, 2, 4, 5, 2, 6, 4, 6, 5, 1, 4, 6, 6, 4, 3, 1, 6, 4, 4, 1, 2, 1, 4, 2, 2, 2, 6, 3, 1, 2, 3, 4, 5, 1, 2, 3, 4, 5, 1, 5, 1, 3, 4, 5, 3, 1, 4, 5, 4, 4, 2, 2, 1, 2, 4, 5, 6, 5, 2, 5, 6, 1, 2, 3, 4, 4, 2, 6, 1, 2, 3, 5, 1, 4, 5, 1, 2, 3, 4, 1, 3, 3, 6, 6, 2, 4, 2, 1, 3, 4, 5, 1, 3, 5, 1, 2, 3, 4, 5, 1, 1, 5, 3, 4, 5, 2, 1, 5, 1, 2, 3, 4, 1, 5, 2, 1, 2, 3, 6, 1, 2, 3, 5, 1, 2, 2, 1, 6, 6, 1, 4, 1, 2, 3, 6, 6, 1, 1, 3, 4, 6, 4, 2, 1, 4, 5, 1, 2, 4, 6, 1, 2, 1, 4, 1, 6, 4, 5, 2, 2, 5, 5, 5, 1, 3, 5, 5, 1, 2, 3, 4, 6, 6, 2, 4, 6, 6, 1, 2, 5, 6, 3, 5, 5, 3, 4, 5, 4, 1, 4, 1, 2, 3, 1, 4, 3, 3, 3, 1, 4, 4, 6, 1, 2, 5, 4, 1, 2, 3, 5, 3, 4, 5, 1, 6, 2, 4, 5, 1, 3, 3, 1, 2, 3, 5, 6, 3, 3, 4, 1, 5, 3, 5, 6, 1, 1, 2, 5, 1, 3, 3, 4, 6, 4, 3, 1, 6, 5, 3, 4, 2, 3, 5, 3, 1, 3, 4, 6, 1, 2, 5, 3, 2, 1, 5, 1, 2, 3, 1, 2, 5, 6], \"Freq\": [0.12151629477739334, 0.7757261395454407, 0.10173457115888596, 0.7980891466140747, 0.20151087641716003, 0.08970502763986588, 0.2795459032058716, 0.6279352307319641, 0.9969780445098877, 0.9958240985870361, 0.25546666979789734, 0.743175745010376, 0.9986162781715393, 0.9973302483558655, 0.9988990426063538, 0.23997367918491364, 0.1768227070569992, 0.1963421106338501, 0.3869432210922241, 0.5567396879196167, 0.04762117564678192, 0.19797566533088684, 0.1977081298828125, 0.995955765247345, 0.9959193468093872, 0.9959543943405151, 0.9928245544433594, 0.9949445724487305, 0.24364100396633148, 0.7561083436012268, 0.9927594661712646, 0.9941865801811218, 0.1112988144159317, 0.0308059211820364, 0.15502335131168365, 0.7025737762451172, 0.9975345134735107, 0.5572717785835266, 0.44255349040031433, 0.99952632188797, 0.9996258020401001, 0.3140413463115692, 0.2874538004398346, 0.39842790365219116, 0.9977021217346191, 0.3996085822582245, 0.03547438979148865, 0.06886205077171326, 0.46221044659614563, 0.03338766098022461, 0.36472243070602417, 0.6355559229850769, 0.9955158233642578, 0.9218121767044067, 0.07731328159570694, 0.9972938299179077, 0.9939182996749878, 0.6406689286231995, 0.35926610231399536, 0.9987232089042664, 0.996947705745697, 0.9954271912574768, 0.4236578941345215, 0.14275428652763367, 0.14160305261611938, 0.2924160659313202, 0.9994023442268372, 0.9941166043281555, 0.8608778715133667, 0.13915559649467468, 0.9990037083625793, 0.9994759559631348, 0.9972256422042847, 0.9965924024581909, 0.9974232912063599, 0.9975217580795288, 0.9959867596626282, 0.1392107605934143, 0.8602980971336365, 0.9921574592590332, 0.33220556378364563, 0.6644111275672913, 0.9951355457305908, 0.9962533116340637, 0.8208636045455933, 0.17916427552700043, 0.2819092273712158, 0.06927257031202316, 0.6487526893615723, 0.9991353154182434, 0.9971447587013245, 0.7936559319496155, 0.19129912555217743, 0.014978677965700626, 0.44080469012260437, 0.16726963222026825, 0.39160773158073425, 0.9982635974884033, 0.9969634413719177, 0.9983370900154114, 0.9952462911605835, 0.9950116276741028, 0.9903591871261597, 0.7723926305770874, 0.22709663212299347, 0.9917594194412231, 0.23202016949653625, 0.6084396243095398, 0.07009673118591309, 0.08972381055355072, 0.9996286034584045, 0.9885966181755066, 0.9920749664306641, 0.9989742636680603, 0.9390538930892944, 0.06001054495573044, 0.9994717240333557, 0.9897895455360413, 0.9988863468170166, 0.1765926331281662, 0.8230188488960266, 0.3900831639766693, 0.609675407409668, 0.9944280982017517, 0.9985816478729248, 0.9988323450088501, 0.9950746893882751, 0.9957069158554077, 0.5805471539497375, 0.41928404569625854, 0.4112991988658905, 0.4143916666507721, 0.17472484707832336, 0.9945569038391113, 0.78774094581604, 0.051578275859355927, 0.15942375361919403, 0.5961040258407593, 0.15310890972614288, 0.11279023438692093, 0.1372876614332199, 0.9942453503608704, 0.9976609349250793, 0.9974205493927002, 0.9934920072555542, 0.9981958270072937, 0.9965113401412964, 0.10887125134468079, 0.5941259860992432, 0.29628533124923706, 0.9970031976699829, 0.9936637282371521, 0.9997363686561584, 0.21994103491306305, 0.1629379689693451, 0.6164402365684509, 0.28184744715690613, 0.4250151813030243, 0.18490628898143768, 0.10816119611263275, 0.9976916313171387, 0.9997504949569702, 0.9995290637016296, 0.9963129162788391, 0.10854849219322205, 0.27010902762413025, 0.6209983229637146, 0.9975395202636719, 0.9956735968589783, 0.9978698492050171, 0.9927117228507996, 0.7473523616790771, 0.13068106770515442, 0.12184953689575195, 0.9952606558799744, 0.5662513971328735, 0.4336794912815094, 0.9910857677459717, 0.9987988471984863, 0.4381614327430725, 0.1358044147491455, 0.42620378732681274, 0.9960024356842041, 0.9949738383293152, 0.9978309869766235, 0.9942901730537415, 0.9892213344573975, 0.9998092651367188, 0.23258177936077118, 0.10404974222183228, 0.34887266159057617, 0.31367936730384827, 0.13723769783973694, 0.8604586124420166, 0.5691087245941162, 0.16443291306495667, 0.2664026618003845, 0.2375710904598236, 0.5609106421470642, 0.1578747183084488, 0.043263744562864304, 0.9584424495697021, 0.041127193719148636, 0.9983701109886169, 0.9887475371360779, 0.9914044737815857, 0.9971638321876526, 0.5060258507728577, 0.49414730072021484, 0.9912238121032715, 0.9985713958740234, 0.9969120025634766, 0.7600994110107422, 0.23881912231445312, 0.9970218539237976, 0.9976992011070251, 0.09951379895210266, 0.8983884453773499, 0.30783066153526306, 0.6913146376609802, 0.9995394349098206, 0.9986330270767212, 0.35694122314453125, 0.6408717632293701, 0.9986639022827148, 0.4399302899837494, 0.05417052283883095, 0.0689442977309227, 0.33268359303474426, 0.10396362841129303, 0.2029537409543991, 0.10540138930082321, 0.17716403305530548, 0.4586081802845001, 0.05606456845998764, 0.4961658716201782, 0.5037187337875366, 0.1940174549818039, 0.24796618521213531, 0.14996758103370667, 0.40783262252807617, 0.9973672032356262, 0.9900122284889221, 0.19779367744922638, 0.8011643290519714, 0.9982542991638184, 0.9977266192436218, 0.9986018538475037, 0.9987711906433105, 0.24210253357887268, 0.198378324508667, 0.13441143929958344, 0.3870401680469513, 0.03805625066161156, 0.9975427389144897, 0.6176915168762207, 0.3377135694026947, 0.04508120194077492, 0.24920623004436493, 0.4658772051334381, 0.05399468168616295, 0.23120799660682678, 0.9939872026443481, 0.9956066608428955, 0.99237060546875, 0.24516713619232178, 0.35120052099227905, 0.28780490159988403, 0.11613179743289948, 0.7939258217811584, 0.12634484469890594, 0.07971575111150742, 0.3393089771270752, 0.3593194782733917, 0.20184533298015594, 0.09935662150382996, 0.1781274825334549, 0.8199753165245056, 0.998288094997406, 0.9961886405944824, 0.9924025535583496, 0.9979268908500671, 0.9935449361801147, 0.9944902062416077, 0.17035438120365143, 0.5090168714523315, 0.21741925179958344, 0.1033380925655365, 0.9960299134254456, 0.9966849684715271, 0.9958541393280029, 0.8143237829208374, 0.024874843657016754, 0.16103187203407288, 0.9924341440200806, 0.9902477860450745, 0.9965619444847107, 0.9892595410346985, 0.9978854656219482, 0.11974704265594482, 0.21512997150421143, 0.664570152759552, 0.9944308400154114, 0.9918956160545349, 0.9971597194671631, 0.24637144804000854, 0.43019261956214905, 0.2476479858160019, 0.0759538933634758, 0.3875867426395416, 0.6121495366096497, 0.9978205561637878, 0.9971436262130737, 0.7890558242797852, 0.1923568844795227, 0.017665429040789604, 0.4936269223690033, 0.04169146344065666, 0.17802254855632782, 0.2866288125514984, 0.8655909895896912, 0.1339605152606964, 0.9979611039161682, 0.999862551689148, 0.9924625754356384, 0.9906511306762695, 0.7656242847442627, 0.2340509593486786, 0.23281875252723694, 0.5676814317703247, 0.1981436163187027, 0.9948379993438721, 0.9951819181442261, 0.9951996207237244, 0.3287261724472046, 0.08009572327136993, 0.2669857442378998, 0.3220515549182892, 0.9941918253898621, 0.997333288192749, 0.8074021935462952, 0.09279706329107285, 0.09957057237625122, 0.4615972638130188, 0.19803541898727417, 0.06698256731033325, 0.2722986936569214, 0.9921314120292664, 0.9987540245056152, 0.8491804003715515, 0.15058140456676483, 0.9917530417442322, 0.9947491884231567, 0.9969021081924438, 0.9972140192985535, 0.9992531538009644, 0.1380326747894287, 0.8622782230377197, 0.999742865562439, 0.9967449903488159, 0.22815369069576263, 0.1370968371629715, 0.6343286633491516, 0.9968450665473938, 0.36633506417274475, 0.1456492841243744, 0.28416216373443604, 0.19635526835918427, 0.007470264099538326, 0.9875023365020752, 0.9983892440795898, 0.9962586760520935, 0.9947207570075989, 0.9931381940841675, 0.29312649369239807, 0.3200764060020447, 0.31010863184928894, 0.07641962915658951, 0.9983686208724976, 0.9974012970924377, 0.9987246990203857, 0.8012694716453552, 0.1980183869600296, 0.998790442943573, 0.9958690404891968, 0.23164677619934082, 0.7673299312591553, 0.31542766094207764, 0.12408367544412613, 0.5601159930229187, 0.2722700834274292, 0.7273784875869751, 0.9977183938026428, 0.9980816841125488, 0.9985738396644592, 0.7233269214630127, 0.27619993686676025, 0.22010987997055054, 0.7749701738357544, 0.833158016204834, 0.08933524042367935, 0.07740887254476547, 0.9974404573440552, 0.6675930023193359, 0.22905683517456055, 0.10327135026454926, 0.9980084896087646, 0.2039036750793457, 0.04425816237926483, 0.7523887753486633, 0.9917922019958496, 0.9956619739532471, 0.11621452867984772, 0.8817145824432373, 0.989976167678833, 0.9911117553710938, 0.9971563816070557, 0.9947333931922913, 0.30697378516197205, 0.5230098366737366, 0.03910794109106064, 0.13098804652690887, 0.9913578033447266, 0.9993045926094055, 0.7220795154571533, 0.27662762999534607, 0.3978271186351776, 0.6009504795074463, 0.9981726408004761, 0.9974269270896912, 0.9978480935096741, 0.9868200421333313, 0.529913067817688, 0.27505752444267273, 0.19424965977668762, 0.6931943297386169, 0.30622202157974243, 0.5098437070846558, 0.3976387083530426, 0.09251989424228668, 0.9978941679000854, 0.99747234582901, 0.915347695350647, 0.0832134261727333, 0.9995748996734619, 0.995733380317688, 0.9972766041755676, 0.9931792616844177, 0.1258876621723175, 0.8729314804077148, 0.9991427659988403, 0.9921152591705322, 0.6102277040481567, 0.38974714279174805, 0.9977263808250427, 0.17775693535804749, 0.7138270735740662, 0.10777389258146286, 0.9984042048454285, 0.9958009123802185, 0.47825923562049866, 0.5208192467689514, 0.10071191936731339, 0.2583838701248169, 0.6405938267707825, 0.2476407140493393, 0.5877645611763, 0.08101826161146164, 0.08331122994422913], \"Term\": [\"able\", \"able\", \"able\", \"access\", \"access\", \"accommodation\", \"accommodation\", \"accommodation\", \"additional\", \"adequate\", \"adult\", \"adult\", \"air\", \"airport\", \"amazing\", \"amenity\", \"amenity\", \"amenity\", \"amenity\", \"area\", \"area\", \"area\", \"area\", \"arrival\", \"attentive\", \"attitude\", \"attraction\", \"awful\", \"bad\", \"bad\", \"bag\", \"balcony\", \"bar\", \"bar\", \"bar\", \"bar\", \"basic\", \"bathroom\", \"bathroom\", \"beach\", \"beautiful\", \"bed\", \"bed\", \"bed\", \"bedroom\", \"bit\", \"bit\", \"bit\", \"bit\", \"bit\", \"block\", \"block\", \"board\", \"book\", \"book\", \"booking\", \"brand\", \"breakfast\", \"breakfast\", \"budget\", \"bug\", \"bus\", \"business\", \"business\", \"business\", \"business\", \"cabin\", \"cable\", \"call\", \"call\", \"card\", \"carpet\", \"cereal\", \"chain\", \"chair\", \"change\", \"charge\", \"check\", \"check\", \"cheese\", \"child\", \"child\", \"cigarette\", \"city\", \"clean\", \"clean\", \"close\", \"close\", \"close\", \"coffee\", \"com\", \"comfortable\", \"comfortable\", \"comfortable\", \"complimentary\", \"complimentary\", \"complimentary\", \"conditioner\", \"course\", \"courteous\", \"courtyard\", \"credit\", \"cruise\", \"customer\", \"customer\", \"dated\", \"day\", \"day\", \"day\", \"day\", \"desk\", \"destination\", \"detail\", \"dirty\", \"distance\", \"distance\", \"door\", \"downside\", \"downtown\", \"early\", \"early\", \"easy\", \"easy\", \"efficient\", \"egg\", \"elevator\", \"enjoy\", \"enjoyable\", \"excellent\", \"excellent\", \"experience\", \"experience\", \"experience\", \"fabulous\", \"facility\", \"facility\", \"facility\", \"family\", \"family\", \"family\", \"family\", \"fan\", \"fancy\", \"fantastic\", \"favorite\", \"fee\", \"filthy\", \"first\", \"first\", \"first\", \"flat\", \"flight\", \"floor\", \"food\", \"food\", \"food\", \"free\", \"free\", \"free\", \"free\", \"fridge\", \"friendly\", \"front\", \"fruit\", \"full\", \"full\", \"full\", \"game\", \"garden\", \"gas\", \"golf\", \"good\", \"good\", \"good\", \"gorgeous\", \"great\", \"great\", \"green\", \"group\", \"guest\", \"guest\", \"guest\", \"guy\", \"gym\", \"head\", \"heart\", \"heater\", \"helpful\", \"high\", \"high\", \"high\", \"high\", \"horrible\", \"horrible\", \"hot\", \"hot\", \"hot\", \"hotel\", \"hotel\", \"hotel\", \"hotel\", \"hour\", \"hour\", \"ice\", \"ideal\", \"impressed\", \"indoor\", \"internet\", \"internet\", \"iron\", \"item\", \"key\", \"kid\", \"kid\", \"king\", \"kitchen\", \"lady\", \"lady\", \"large\", \"large\", \"last\", \"late\", \"level\", \"level\", \"light\", \"little\", \"little\", \"little\", \"little\", \"little\", \"lobby\", \"lobby\", \"lobby\", \"lobby\", \"lobby\", \"location\", \"location\", \"lot\", \"lot\", \"lot\", \"lot\", \"loud\", \"loved\", \"lovely\", \"lovely\", \"machine\", \"maker\", \"management\", \"manager\", \"many\", \"many\", \"many\", \"many\", \"many\", \"meal\", \"minute\", \"minute\", \"minute\", \"morning\", \"morning\", \"morning\", \"morning\", \"mountain\", \"name\", \"nearby\", \"next\", \"next\", \"next\", \"next\", \"nice\", \"nice\", \"nice\", \"night\", \"night\", \"night\", \"night\", \"noise\", \"noise\", \"non\", \"normal\", \"notice\", \"number\", \"ocean\", \"office\", \"old\", \"old\", \"old\", \"old\", \"online\", \"opinion\", \"outstanding\", \"overall\", \"overall\", \"overall\", \"overnight\", \"paint\", \"paper\", \"parent\", \"park\", \"parking\", \"parking\", \"parking\", \"party\", \"patio\", \"peaceful\", \"people\", \"people\", \"people\", \"people\", \"perfect\", \"perfect\", \"person\", \"pet\", \"phone\", \"phone\", \"phone\", \"place\", \"place\", \"place\", \"place\", \"pleasant\", \"pleasant\", \"pm\", \"pool\", \"port\", \"possible\", \"price\", \"price\", \"problem\", \"problem\", \"problem\", \"program\", \"proximity\", \"purpose\", \"quality\", \"quality\", \"quality\", \"quality\", \"queen\", \"question\", \"quiet\", \"quiet\", \"quiet\", \"rate\", \"rate\", \"rate\", \"rate\", \"rating\", \"ready\", \"reasonable\", \"reasonable\", \"recommendation\", \"red\", \"refrigerator\", \"refund\", \"reservation\", \"resort\", \"resort\", \"restaurant\", \"ride\", \"right\", \"right\", \"right\", \"river\", \"room\", \"room\", \"room\", \"room\", \"room\", \"row\", \"rude\", \"sausage\", \"screen\", \"seat\", \"service\", \"service\", \"service\", \"service\", \"sheet\", \"shop\", \"shopping\", \"shower\", \"shower\", \"shuttle\", \"sink\", \"size\", \"size\", \"sleep\", \"sleep\", \"sleep\", \"small\", \"small\", \"smell\", \"smoke\", \"smoking\", \"spacious\", \"spacious\", \"spring\", \"spring\", \"staff\", \"staff\", \"staff\", \"stain\", \"stay\", \"stay\", \"stay\", \"store\", \"street\", \"street\", \"street\", \"suggestion\", \"sweet\", \"table\", \"table\", \"taxi\", \"team\", \"terrible\", \"thin\", \"time\", \"time\", \"time\", \"time\", \"today\", \"toilet\", \"towel\", \"towel\", \"town\", \"town\", \"traffic\", \"train\", \"traveler\", \"tree\", \"trip\", \"trip\", \"trip\", \"tub\", \"tub\", \"tv\", \"tv\", \"tv\", \"type\", \"unit\", \"value\", \"value\", \"view\", \"visitor\", \"waffle\", \"wait\", \"walk\", \"walk\", \"wall\", \"want\", \"water\", \"water\", \"wedding\", \"week\", \"week\", \"week\", \"window\", \"woman\", \"wonderful\", \"wonderful\", \"work\", \"work\", \"work\", \"year\", \"year\", \"year\", \"year\"]}, \"R\": 30, \"lambda.step\": 0.01, \"plot.opts\": {\"xlab\": \"PC1\", \"ylab\": \"PC2\"}, \"topic.order\": [5, 3, 1, 4, 2, 6]};\n",
              "\n",
              "function LDAvis_load_lib(url, callback){\n",
              "  var s = document.createElement('script');\n",
              "  s.src = url;\n",
              "  s.async = true;\n",
              "  s.onreadystatechange = s.onload = callback;\n",
              "  s.onerror = function(){console.warn(\"failed to load library \" + url);};\n",
              "  document.getElementsByTagName(\"head\")[0].appendChild(s);\n",
              "}\n",
              "\n",
              "if(typeof(LDAvis) !== \"undefined\"){\n",
              "   // already loaded: just create the visualization\n",
              "   !function(LDAvis){\n",
              "       new LDAvis(\"#\" + \"ldavis_el1381399631210297925216733076\", ldavis_el1381399631210297925216733076_data);\n",
              "   }(LDAvis);\n",
              "}else if(typeof define === \"function\" && define.amd){\n",
              "   // require.js is available: use it to load d3/LDAvis\n",
              "   require.config({paths: {d3: \"https://cdnjs.cloudflare.com/ajax/libs/d3/3.5.5/d3.min\"}});\n",
              "   require([\"d3\"], function(d3){\n",
              "      window.d3 = d3;\n",
              "      LDAvis_load_lib(\"https://cdn.rawgit.com/bmabey/pyLDAvis/files/ldavis.v1.0.0.js\", function(){\n",
              "        new LDAvis(\"#\" + \"ldavis_el1381399631210297925216733076\", ldavis_el1381399631210297925216733076_data);\n",
              "      });\n",
              "    });\n",
              "}else{\n",
              "    // require.js not available: dynamically load d3 & LDAvis\n",
              "    LDAvis_load_lib(\"https://cdnjs.cloudflare.com/ajax/libs/d3/3.5.5/d3.min.js\", function(){\n",
              "         LDAvis_load_lib(\"https://cdn.rawgit.com/bmabey/pyLDAvis/files/ldavis.v1.0.0.js\", function(){\n",
              "                 new LDAvis(\"#\" + \"ldavis_el1381399631210297925216733076\", ldavis_el1381399631210297925216733076_data);\n",
              "            })\n",
              "         });\n",
              "}\n",
              "</script>"
            ],
            "text/plain": [
              "PreparedData(topic_coordinates=              x         y  topics  cluster       Freq\n",
              "topic                                                \n",
              "4     -0.146809 -0.094907       1        1  29.846397\n",
              "2     -0.013415  0.073884       2        1  18.457592\n",
              "0     -0.096126  0.244088       3        1  15.717088\n",
              "3     -0.123849  0.062371       4        1  15.591012\n",
              "1     -0.020725 -0.314678       5        1  14.403664\n",
              "5      0.400924  0.029243       6        1   5.984253, topic_info=          Term          Freq         Total Category  logprob  loglift\n",
              "16       great   8508.000000   8508.000000  Default  30.0000  30.0000\n",
              "9         room  23961.000000  23961.000000  Default  29.0000  29.0000\n",
              "1    breakfast   7487.000000   7487.000000  Default  28.0000  28.0000\n",
              "42       clean   7897.000000   7897.000000  Default  27.0000  27.0000\n",
              "15    friendly   4710.000000   4710.000000  Default  26.0000  26.0000\n",
              "..         ...           ...           ...      ...      ...      ...\n",
              "649        kid    197.420258    824.892090   Topic6  -4.9487   1.3861\n",
              "329       free    240.618881   2228.155762   Topic6  -4.7508   0.5903\n",
              "536       rate    187.424454    686.745850   Topic6  -5.0006   1.5175\n",
              "245    service    207.110992   2708.728271   Topic6  -4.9007   0.2451\n",
              "9         room    178.718201  23961.669922   Topic6  -5.0482  -2.0824\n",
              "\n",
              "[358 rows x 6 columns], token_table=      Topic      Freq    Term\n",
              "term                         \n",
              "84        1  0.121516    able\n",
              "84        2  0.775726    able\n",
              "84        3  0.101735    able\n",
              "310       5  0.798089  access\n",
              "310       6  0.201511  access\n",
              "...     ...       ...     ...\n",
              "13        3  0.640594    work\n",
              "264       1  0.247641    year\n",
              "264       2  0.587765    year\n",
              "264       5  0.081018    year\n",
              "264       6  0.083311    year\n",
              "\n",
              "[469 rows x 3 columns], R=30, lambda_step=0.01, plot_opts={'xlab': 'PC1', 'ylab': 'PC2'}, topic_order=[5, 3, 1, 4, 2, 6])"
            ]
          },
          "metadata": {
            "tags": []
          },
          "execution_count": 18
        }
      ]
    },
    {
      "cell_type": "code",
      "metadata": {
        "id": "bGyjsCWPhvgH",
        "colab_type": "code",
        "outputId": "2885a69d-ca83-43c5-f7ad-44a1cbd00513",
        "colab": {
          "base_uri": "https://localhost:8080/",
          "height": 71
        }
      },
      "source": [
        "#save model for later use\n",
        "lda_model.save('/content/drive/My Drive/NLP/Project/topic.model')\n",
        "dictionary.save('/content/drive/My Drive/NLP/Project/dictionary.dict')"
      ],
      "execution_count": 0,
      "outputs": [
        {
          "output_type": "stream",
          "text": [
            "/usr/local/lib/python3.6/dist-packages/smart_open/smart_open_lib.py:253: UserWarning: This function is deprecated, use smart_open.open instead. See the migration notes for details: https://github.com/RaRe-Technologies/smart_open/blob/master/README.rst#migrating-to-the-new-open-function\n",
            "  'See the migration notes for details: %s' % _MIGRATION_NOTES_URL\n"
          ],
          "name": "stderr"
        }
      ]
    },
    {
      "cell_type": "code",
      "metadata": {
        "id": "pNhrDzyyiBFc",
        "colab_type": "code",
        "outputId": "df7bcd42-15f3-4e45-94ce-97e501dc7a91",
        "colab": {
          "base_uri": "https://localhost:8080/",
          "height": 71
        }
      },
      "source": [
        "loa_m = lda_model.load('/content/drive/My Drive/NLP/Project/topic.model')\n",
        "data[]"
      ],
      "execution_count": 0,
      "outputs": [
        {
          "output_type": "stream",
          "text": [
            "/usr/local/lib/python3.6/dist-packages/smart_open/smart_open_lib.py:253: UserWarning: This function is deprecated, use smart_open.open instead. See the migration notes for details: https://github.com/RaRe-Technologies/smart_open/blob/master/README.rst#migrating-to-the-new-open-function\n",
            "  'See the migration notes for details: %s' % _MIGRATION_NOTES_URL\n"
          ],
          "name": "stderr"
        }
      ]
    },
    {
      "cell_type": "markdown",
      "metadata": {
        "id": "_UEKTqQrqT-2",
        "colab_type": "text"
      },
      "source": [
        "# Use the LDA model to predict the category"
      ]
    },
    {
      "cell_type": "code",
      "metadata": {
        "id": "mXMidkKuisBA",
        "colab_type": "code",
        "colab": {}
      },
      "source": [
        "def pre_new(doc):\n",
        "  x=sk.clean_text(doc)\n",
        "  str_convert = ''.join(x)\n",
        "  x = str_convert.split()\n",
        "  y = dictionary.doc2bow(x)\n",
        "  return y"
      ],
      "execution_count": 0,
      "outputs": []
    },
    {
      "cell_type": "code",
      "metadata": {
        "id": "kRspQMGNoSIw",
        "colab_type": "code",
        "outputId": "343ba2ec-1926-4699-d8ca-c026378510ff",
        "colab": {
          "base_uri": "https://localhost:8080/",
          "height": 119
        }
      },
      "source": [
        "loa_m[(pre_new('the staff is not helpful at all '))]"
      ],
      "execution_count": 0,
      "outputs": [
        {
          "output_type": "execute_result",
          "data": {
            "text/plain": [
              "[(0, 0.055555556),\n",
              " (1, 0.055623654),\n",
              " (2, 0.055616856),\n",
              " (3, 0.055555556),\n",
              " (4, 0.7220928),\n",
              " (5, 0.055555556)]"
            ]
          },
          "metadata": {
            "tags": []
          },
          "execution_count": 91
        }
      ]
    },
    {
      "cell_type": "code",
      "metadata": {
        "id": "JaxHKLDHpwJ0",
        "colab_type": "code",
        "outputId": "2a835561-d1da-4a38-e266-b19358c28429",
        "colab": {
          "base_uri": "https://localhost:8080/",
          "height": 119
        }
      },
      "source": [
        "loa_m[(pre_new('the location is close to the town'))]"
      ],
      "execution_count": 0,
      "outputs": [
        {
          "output_type": "execute_result",
          "data": {
            "text/plain": [
              "[(0, 0.04168282),\n",
              " (1, 0.7914655),\n",
              " (2, 0.041666668),\n",
              " (3, 0.041666668),\n",
              " (4, 0.041851655),\n",
              " (5, 0.04166667)]"
            ]
          },
          "metadata": {
            "tags": []
          },
          "execution_count": 92
        }
      ]
    },
    {
      "cell_type": "code",
      "metadata": {
        "id": "h0csJdstrkes",
        "colab_type": "code",
        "outputId": "2fa78e83-e537-4379-9715-af67a4834430",
        "colab": {
          "base_uri": "https://localhost:8080/",
          "height": 1000
        }
      },
      "source": [
        "fiz=plt.figure(figsize=(15,30))\n",
        "for i in range(6):\n",
        "    df=pd.DataFrame(loa_m.show_topic(i), columns=['term','prob']).set_index('term')\n",
        "#     df=df.sort_values('prob')\n",
        "    \n",
        "    plt.subplot(5,2,i+1)\n",
        "    plt.title('topic '+str(i+1))\n",
        "    sns.barplot(x='prob', y=df.index, data=df, label='Cities', palette='Reds_d')\n",
        "    plt.xlabel('probability')\n",
        "    \n",
        "\n",
        "plt.show()"
      ],
      "execution_count": 0,
      "outputs": [
        {
          "output_type": "display_data",
          "data": {
            "image/png": "[encoded data removed]",
            "text/plain": [
              "<Figure size 1080x2160 with 6 Axes>"
            ]
          },
          "metadata": {
            "tags": [],
            "needs_background": "light"
          }
        }
      ]
    },
    {
      "cell_type": "markdown",
      "metadata": {
        "id": "c77cOOCTgC0r",
        "colab_type": "text"
      },
      "source": [
        "#cross-check the “Machine learning algorithms to predict hotel ratings”\n",
        "---\n",
        "\n",
        "To see wheather the hotel predict algorithm can predict a suitable hotel  \n",
        "or not, by chack the recommend hotel's key word and the keyword in the input sentence  "
      ]
    },
    {
      "cell_type": "code",
      "metadata": {
        "id": "1PtkJvxcXotp",
        "colab_type": "code",
        "outputId": "e02359c5-4514-4b40-c3ad-5956fac54b31",
        "colab": {
          "base_uri": "https://localhost:8080/",
          "height": 54
        }
      },
      "source": [
        "import functools\n",
        "import operator\n",
        "x=data.loc[data['name'] == 'Hampton Inn Virginia Beach Oceanfront North']\n",
        "sk=sk_TF()\n",
        "tf_list=[]\n",
        "\n",
        "for i in x['reviews.text']:\n",
        "  if len(i.split())>2:\n",
        "    #sk=sk_TF()\n",
        "    t=sk.clean_text(i)\n",
        "    #print(t)\n",
        "    x=sk.get_topic(t)\n",
        "    #print(x)\n",
        "    tf_list.append(x)\n",
        "  else:\n",
        "    tf_list.append(\" \")\n",
        "List_flat = functools.reduce(operator.iconcat, tf_list, [])\n",
        "tags = set([ 'JJ',\"NN\"])\n",
        "key=[]\n",
        "\n",
        "for i in (tf_list):\n",
        "\n",
        "  pos_tags =nltk.pos_tag(i)\n",
        "  #print(pos_tags)\n",
        "  ret=[]\n",
        "  for word,pos in pos_tags:\n",
        "    if (pos in tags):\n",
        "      ret.append(word)\n",
        "  key.append(ret)\n",
        "\n",
        "List_flat = functools.reduce(operator.iconcat, key, [])\n",
        "import collections\n",
        "count=collections.Counter(List_flat)\n",
        "print(count)\n",
        "#print(set(List_flat))"
      ],
      "execution_count": 0,
      "outputs": [
        {
          "output_type": "stream",
          "text": [
            "Counter({'great': 76, 'breakfast': 75, 'room': 71, 'staff': 64, 'clean': 46, 'stay': 46, 'location': 42, 'beach': 33, 'nice': 31, 'good': 27, 'view': 25, 'time': 23, 'hotel': 19, 'ocean': 19, 'pool': 19, 'hampton': 18, 'free': 18, 'restaurant': 16, 'helpful': 16, 'friendly': 16, 'food': 14, 'balcony': 14, 'wonderful': 13, 'family': 12, 'area': 12, 'desk': 11, 'bar': 11, 'right': 11, 'inn': 10, 'front': 10, 'comfortable': 10, 'perfect': 10, 'linda': 9, 'awesome': 9, 'bad': 9, 'hot': 9, 'everyone': 9, 'many': 8, 'check': 8, 'everything': 8, 'place': 8, 'next': 8, 'experience': 8, 'morning': 8, 'excellent': 8, 'floor': 7, 'happy': 7, 'able': 7, 'trip': 7, 'convenient': 7, 'boardwalk': 7, 'close': 7, 'va': 6, 'complimentary': 6, 'little': 6, 'year': 6, 'thing': 6, 'dirty': 6, 'price': 6, 'day': 6, 'second': 6, 'quiet': 6, 'way': 6, 'beautiful': 6, 'service': 6, 'last': 6, 'bathroom': 5, 'kind': 5, 'future': 5, 'lot': 5, 'weekend': 5, 'overall': 5, 'holiday': 5, 'plenty': 5, 'fantastic': 5, 'bed': 5, 'indoor': 5, 'small': 5, 'door': 5, 'manager': 4, 'beachfront': 4, 'look': 4, 'skip': 4, 'property': 4, 'vacation': 4, 'north': 4, 'spacious': 4, 'hair': 4, 'continental': 4, 'season': 4, 'night': 4, 'virginia': 4, 'elevator': 4, 'dinner': 4, 'tub': 4, 'easy': 4, 'pleasant': 4, 'hilton': 4, 'delicious': 4, 'lobby': 3, 'okay': 3, 'order': 3, 'regular': 3, 'motel': 3, 'weather': 3, 've': 3, 'hope': 3, 'fact': 3, 'bit': 3, 'fresh': 3, 'full': 3, 'tv': 3, 'etc': 3, 'see': 3, 'eat': 3, 'ok': 3, 'center': 3, 'plan': 3, 'return': 3, 'cleanliness': 3, 'park': 3, 'neptune': 3, 'attentive': 3, 'sure': 3, 'much': 3, 'due': 3, 'week': 3, 'taste': 3, 'start': 3, 'smile': 3, 'selection': 3, 'variety': 3, 'available': 3, 'make': 3, 'work': 3, 'minute': 3, 'oceanfront': 3, 'business': 3, 'sand': 3, 'shower': 3, 'amazing': 3, 'pricey': 3, 'jacuzzi': 3, 'nothing': 3, 'size': 3, 'appreciate': 2, 'early': 2, 'street': 2, 'third': 2, 'fi': 2, 'reason': 2, 'pick': 2, 'thank': 2, 'notch': 2, 'normal': 2, 'treat': 2, 'wife': 2, 'anniversary': 2, 'enjoyable': 2, 'issue': 2, 'summer': 2, 'glad': 2, 'inns': 2, 'line': 2, 'choice': 2, 'pass': 2, 'wish': 2, 'management': 2, 'christmas': 2, 'comfy': 2, 'feel': 2, 'sausage': 2, 'poor': 2, 'come': 2, 'king': 2, 'worth': 2, 'upgrade': 2, 'standard': 2, 'swim': 2, 'love': 2, 'lovely': 2, 'late': 2, 'need': 2, 'fancy': 2, ' ': 2, 'recommend': 2, 'warm': 2, 'winter': 2, 'gold': 2, 'duty': 2, 'felt': 2, 'lady': 2, 'walk': 2, 'relaxing': 2, 'friendliness': 2, 'limited': 2, 'ready': 2, 'couple': 2, 'evening': 2, 'home': 2, 'pleasure': 2, 'meat': 2, 'enough': 2, 'wise': 2, 'courteous': 2, 'big': 2, 'money': 2, 'affordable': 2, 'nicer': 2, 'open': 2, 'simple': 2, 'extra': 2, 'use': 2, 'cleaning': 2, 'watch': 2, 'sun': 2, 'book': 2, 'visit': 2, 'temp': 2, 'wrong': 2, 'pretty': 2, 'recent': 2, 'husband': 2, 'previous': 2, 'access': 2, 'special': 2, 'unable': 2, 'carpet': 2, 'hurricane': 2, 'top': 2, 'large': 2, 'buffet': 2, 'important': 2, 'horrible': 2, 'house': 2, 'input': 1, 'oliver': 1, '8th': 1, 'hear': 1, 're': 1, 'senior': 1, 'review': 1, 'competition': 1, 'online': 1, 'feedback': 1, 'exception': 1, 'share': 1, 'shamrock': 1, 'intimate': 1, 'moon': 1, 'baby': 1, 'lucky': 1, 'rate': 1, 'list': 1, 'comment': 1, 'helpfull': 1, 'tasty': 1, 'facing': 1, 'finish': 1, 'race': 1, 'run': 1, 'kitchen': 1, 'ideal': 1, 'along': 1, 'road': 1, 'renovation': 1, 'downside': 1, 'enjoy': 1, 'chair': 1, 'wanted': 1, 'loud': 1, 'attitude': 1, 'lit': 1, 'friend': 1, 'exspensive': 1, 'charge': 1, 'spotted': 1, 'purpose': 1, 'situation': 1, 'convention': 1, 'lynda': 1, 'social': 1, 'absolute': 1, 'choose': 1, 'consistency': 1, 'ask': 1, 'world': 1, 'noise': 1, 'level': 1, 'pa': 1, 'pleased': 1, 'strong': 1, 'point': 1, 'studio': 1, 'event': 1, 'crowds': 1, 'camper': 1, 'beer': 1, 'drinking': 1, 'soft': 1, 'mediocre': 1, 'maintenance': 1, 'heard': 1, 'needed': 1, 'disappointment': 1, 'wifi': 1, 'sporadic': 1, 'slow': 1, 'dont': 1, 'ground': 1, 'move': 1, 'oct': 1, 'atmosphere': 1, 'makeup': 1, 'crumbs': 1, 'soiled': 1, 'deliver': 1, 'son': 1, 'impression': 1, 'hostess': 1, 'chaotic': 1, 'tough': 1, 'celebrate': 1, 'incredible': 1, 'long': 1, 'cpuple': 1, 'spot': 1, 'vacuum': 1, 'exciting': 1, 'woke': 1, 'board': 1, 'immediate': 1, 'proximity': 1, 'main': 1, 'number': 1, 'parking': 1, 'key': 1, 'part': 1, 'blast': 1, 'efficient': 1, 'quality': 1, 'resort': 1, 'served': 1, 'think': 1, 'critique': 1, 'fuss': 1, 'cannot': 1, 'path': 1, 'bike': 1, 'machine': 1, 'care': 1, 'guy': 1, 'disappointed': 1, 'displeased': 1, 'outside': 1, 'sweet': 1, 'multiple': 1, 'woman': 1, 'bottle': 1, 'owone': 1, 'getaway': 1, 'motion': 1, 'thermostat': 1, 'detector': 1, 'downstairs': 1, 'spending': 1, 'ample': 1, 'entire': 1, 'impeccable': 1, 'current': 1, 'pristine': 1, 'rating': 1, 'til': 1, 'local': 1, 'space': 1, 'well': 1, 'drive': 1, 'living': 1, 'mind': 1, 'relax': 1, 'grill': 1, 'busy': 1, 'course': 1, 'minimal': 1, 'call': 1, 'rundown': 1, 'old': 1, 'common': 1, 'power': 1, 'outstanding': 1, 'daughter': 1, 'whole': 1, 'duration': 1, 'accept': 1, 'guest': 1, 'gorgeous': 1, 'improve': 1, 'booking': 1, 'im': 1, 'know': 1, 'brighten': 1, 'grand': 1, 'spa': 1, 'average': 1, 'breath': 1, 'bacon': 1, 'hard': 1, 'someone': 1, 'reservation': 1, 'correct': 1, 'barge': 1, 'display': 1, 'kept': 1, 'digital': 1, 'checkin': 1, 'complete': 1, 'december': 1, 'smack': 1, 'onsite': 1, 'brand': 1, 'wonderfull': 1, 'major': 1, 'cheerful': 1, 'cc': 1, 'anyone': 1, 'everyday': 1, 'put': 1, 'expensive': 1, 'promenade': 1, 'beat': 1, 'delivery': 1, 'splurge': 1, 'industry': 1, 'travel': 1, 'station': 1, 'parlor': 1, 'ice': 1, 'gas': 1, 'cram': 1, 'convient': 1, 'plunge': 1, 'polar': 1, 'site': 1, 'delightful': 1, 'brian': 1, 'scene': 1, 'printer': 1, 'figure': 1, 'pull': 1, 'speical': 1, 'sooo': 1, 'olivia': 1, 'program': 1, 'connect': 1, 'wi': 1, 'value': 1, 'adjacent': 1, 'yummy': 1, 'grit': 1, 'patio': 1, 'comfort': 1, 'air': 1, 'regulate': 1, 'responsive': 1, 'polite': 1, 'agree': 1, 'unfold': 1, 'try': 1, 'staycation': 1, 'seem': 1, 'live': 1, 'terrific': 1, 'hall': 1, 'stayed': 1, 'spectacular': 1, 'quick': 1, 'water': 1, 'high': 1, 'health': 1, 'tennis': 1, 'team': 1, 'fun': 1, 'january': 1, 'tournament': 1, 'queen': 1, 'accomodating': 1, 'convenience': 1, 'resturant': 1, 'booked': 1, 'cafe': 1, 'face': 1, 'thai': 1, 'problem': 1, 'upon': 1, 'new': 1, 'girlfriend': 1, 'eye': 1, 'keep': 1, 'group': 1, 'smoking': 1, 'terrible': 1, 'smell': 1, 'non': 1, 'noisy': 1, 'ac': 1, 'watching': 1, 'tourist': 1, 'disgrace': 1, 'fly': 1, 'city': 1, 'war': 1, 'virinia': 1, 'consider': 1, 'hotspots': 1, 'disappointing': 1, 'yard': 1, 'light': 1, 'hour': 1, 'located': 1, 'jewel': 1, 'short': 1, 'worried': 1, 'peep': 1, 'hole': 1, 'complementary': 1, 'used': 1, 'distance': 1, 'walking': 1, 'regret': 1, 'add': 1, 'please': 1, 'tha': 1, 'provide': 1, 'coffee': 1, 'attendant': 1, 'ms': 1, 'exercise': 1, 'functional': 1, 'worn': 1, 'tentative': 1, 'frig': 1, 'mine': 1, 'dispite': 1, 'get': 1, 'cable': 1, 'hallway': 1, 'menu': 1, 'sore': 1, 'delight': 1, 'anything': 1, 'party': 1, 'private': 1, 'joy': 1, 'seafood': 1, 'naval': 1, 'desirable': 1, 'side': 1, 'statue': 1, 'facility': 1, 'accommodate': 1, 'different': 1, 'roll': 1, 'corner': 1, 'fine': 1, 'mattress': 1, 'dirt': 1, 'swept': 1, 'occupant': 1, 'microwave': 1, 'found': 1, 'daily': 1, 'ate': 1, 'fault': 1, 'help': 1, 'thanks': 1, 'professional': 1, 'worthwhile': 1, 'trash': 1, 'garbage': 1, 'rinse': 1, 'hospitality': 1, 'resulted': 1, 'mix': 1, 'sitethe': 1, 'keeper': 1, 'modern': 1, 'closet': 1, 'housekeeping': 1, 'concerned': 1, 'meet': 1, 'read': 1, 'underlyimg': 1, 'theme': 1, 'seevice': 1, 'something': 1, 'glass': 1, 'pork': 1, 'skipped': 1, 'stop': 1, 'spirit': 1, 'customer': 1, 'personality': 1, 'phenomenal': 1, 'advertised': 1, 'spend': 1, 'shop': 1, 'dine': 1, 'enjoyed': 1})\n"
          ],
          "name": "stdout"
        }
      ]
    },
    {
      "cell_type": "code",
      "metadata": {
        "id": "h83U4VfVapLG",
        "colab_type": "code",
        "outputId": "07c4bec5-0fc8-4e8e-cd80-f87f8901f4e7",
        "colab": {
          "base_uri": "https://localhost:8080/",
          "height": 54
        }
      },
      "source": [
        "x=data.loc[data['name'] == 'La Quinta Inn Auburn Worcester']\n",
        "x\n",
        "sk=sk_TF()\n",
        "tf_list=[]\n",
        "\n",
        "for i in x['reviews.text']:\n",
        "  if len(i.split())>2:\n",
        "    #sk=sk_TF()\n",
        "    t=sk.clean_text(i)\n",
        "    #print(t)\n",
        "    x=sk.get_topic(t)\n",
        "    #print(x)\n",
        "    tf_list.append(x)\n",
        "  else:\n",
        "    tf_list.append(\" \")\n",
        "List_flat = functools.reduce(operator.iconcat, tf_list, [])\n",
        "tags = set([ 'JJ',\"NN\"])\n",
        "key=[]\n",
        "\n",
        "for i in (tf_list):\n",
        "\n",
        "  pos_tags =nltk.pos_tag(i)\n",
        "  #print(pos_tags)\n",
        "  ret=[]\n",
        "  for word,pos in pos_tags:\n",
        "    if (pos in tags):\n",
        "      ret.append(word)\n",
        "  key.append(ret)\n",
        "\n",
        "List_flat = functools.reduce(operator.iconcat, key, [])\n",
        "import collections\n",
        "count=collections.Counter(List_flat)\n",
        "print(count)\n",
        "#print(set(List_flat))\n"
      ],
      "execution_count": 0,
      "outputs": [
        {
          "output_type": "stream",
          "text": [
            "Counter({'room': 44, 'clean': 35, 'breakfast': 23, 'staff': 22, 'good': 17, 'stay': 16, 'comfortable': 15, 'nice': 9, 'area': 9, 'night': 9, 'friendly': 9, 'smoke': 9, 'front': 8, 'great': 8, 'place': 7, 'time': 7, 'pet': 6, 'hotel': 6, 'free': 6, 'price': 6, 'easy': 6, 'desk': 6, 'bathroom': 5, 'bed': 5, 'quiet': 5, 'location': 5, 'helpful': 5, 'smell': 5, 'smoking': 5, 'way': 5, 'dog': 5, 'horrible': 4, 'pleasant': 4, 'perfect': 4, 'convenient': 4, 'service': 4, 'non': 4, 'la': 4, 'quinta': 4, 'major': 3, 'basic': 3, 'rate': 3, 'day': 3, 'hard': 3, 'bit': 3, 'quick': 3, 'much': 3, 'air': 3, 'issue': 3, 'fine': 3, 'decent': 3, 'motel': 3, 'refrigerator': 3, 'highway': 3, 'water': 3, 'fresh': 3, 'big': 3, 'stale': 3, 'close': 3, 'wifi': 3, 'low': 3, 'overall': 3, 'many': 3, 'full': 3, 'need': 2, 'lot': 2, 'order': 2, 'noise': 2, 'yogurt': 2, 'cereal': 2, 'musty': 2, 'rock': 2, 'pillow': 2, 'checkout': 2, 'shaweet': 2, 'difficult': 2, 'check': 2, 'morning': 2, 'elevator': 2, 'sink': 2, 'hair': 2, 'worcester': 2, 'auburn': 2, 'visit': 2, 'family': 2, 'creme': 2, 'chain': 2, 'cheek': 2, 'town': 2, 'see': 2, 'ice': 2, 'selection': 2, 'wife': 2, 'bottom': 2, 'entrance': 2, 'terrible': 2, 'daughter': 2, 'grandson': 2, 'help': 2, 'concert': 2, 'bath': 2, 'simple': 2, 'initial': 2, 'dinner': 2, 'able': 2, 'average': 2, 'reception': 2, 'baby': 2, 'ceiling': 2, 'nicer': 2, 'laquinta': 2, 'inn': 2, 'ok': 2, 'everyone': 2, 'wear': 2, 'sure': 2, 'late': 2, 'shopping': 2, 'mall': 2, 'everything': 2, 'new': 2, 'parking': 2, 'saturday': 2, 'shower': 2, 'break': 2, 'tub': 2, 'old': 2, 'right': 2, 'carpet': 1, 'mixed': 1, 'review': 1, 'green': 1, 'orientation': 1, 'toilet': 1, 'handle': 1, 'flush': 1, 'little': 1, 'touch': 1, 've': 1, 'filthy': 1, 'boiled': 1, 'egg': 1, 'bread': 1, 'traffic': 1, 'small': 1, 'available': 1, 'rough': 1, 'overnight': 1, 'hot': 1, 'smokey': 1, 'soap': 1, 'regulate': 1, 'layout': 1, 'comb': 1, 'typical': 1, 'special': 1, 'job': 1, 'deal': 1, 'spacious': 1, 'trip': 1, 'stop': 1, 'road': 1, 'reasonable': 1, 'watch': 1, 'unable': 1, 'nbc': 1, 'nbcsn': 1, 'network': 1, 'problem': 1, 'work': 1, 'last': 1, 'trash': 1, 'disrespectful': 1, 'lady': 1, 'soft': 1, 'hit': 1, 'thanksgiving': 1, 'holiday': 1, 'decor': 1, 'attractive': 1, 'bar': 1, 'oit': 1, 'brought': 1, 'wasnt': 1, 'disappointing': 1, 'neat': 1, 'large': 1, 'effort': 1, 'allergic': 1, 'temp': 1, 'customer': 1, 'priority': 1, 'regular': 1, 'disappointed': 1, 'limited': 1, 'emergency': 1, 'medical': 1, 'needing': 1, 'quantity': 1, 'dispersed': 1, 'insufficient': 1, 'balance': 1, 'door': 1, 'investment': 1, 'single': 1, 'worthy': 1, 'thing': 1, 'overhang': 1, 'man': 1, 'cover': 1, 'rude': 1, 'none': 1, 'attentive': 1, 'group': 1, 'fabulous': 1, 'applied': 1, 'high': 1, 'paintwork': 1, 'sloppy': 1, 'eat': 1, 'continental': 1, 'comfy': 1, 'steak': 1, 'house': 1, 'standard': 1, 'quality': 1, 'stepped': 1, 'home': 1, 'write': 1, 'nothing': 1, 'safe': 1, 'lobby': 1, 'figured': 1, 'tough': 1, 'early': 1, 'center': 1, 'dcu': 1, 'toner': 1, 'clerk': 1, 'boarding': 1, 'printer': 1, 'print': 1, 'attended': 1, 'relaxing': 1, 'brighter': 1, 'arrival': 1, 'hesitation': 1, 'first': 1, 'fact': 1, 'minimal': 1, 'needs': 1, 'eater': 1, 'juice': 1, 'banana': 1, 'super': 1, 'floor': 1, 'grout': 1, 'carpeting': 1, 'sunday': 1, 'european': 1, 'style': 1, 'additional': 1, 'something': 1, 'person': 1, 'couch': 1, 'king': 1, 'pull': 1, 'ocation': 1, 'beautiful': 1, 'nonetheless': 1, 'mention': 1, 'get': 1, 'friendliness': 1, 'kindness': 1, ' ': 1, 'credit': 1, 'inconvenience': 1, 'stunk': 1, 'property': 1, 'several': 1, 'love': 1, 'option': 1, 'didn': 1, 'dirty': 1, 'stained': 1, 'change': 1, 'happy': 1, 'due': 1, 'plenty': 1, 'pitiful': 1, 'constant': 1, 'food': 1, 'sufficient': 1, 'brown': 1, 'piece': 1, 'candy': 1, 'desperate': 1, 'money': 1, 'evidence': 1, 'afternoon': 1, 'york': 1, 'drive': 1, 'final': 1, 'enjoy': 1, 'part': 1, 'long': 1, 'outback': 1, 'alright': 1, 'moon': 1, 'television': 1, 'light': 1, 'theme': 1, 'update': 1, 'move': 1, 'mass': 1, 'outside': 1, 'unappealing': 1, 'shape': 1, 'lq': 1, 'difference': 1, 'chill': 1, 'smelled': 1, 'opinion': 1, 'leave': 1, 'shut': 1, 'sweeping': 1, 'estimate': 1, 'ridiculous': 1, 'turned': 1, 'boyfriend': 1, 'pressure': 1, 'otherwise': 1, 'gladtocome': 1, 'environment': 1, 'bad': 1, 'ate': 1, 'wedding': 1, 'granddaughter': 1, 'lobster': 1, 'barn': 1, 'interstate': 1, 'courteous': 1, 'short': 1, 'access': 1, 'comfort': 1, 'recommend': 1, 'modest': 1, 'cigarette': 1, 'policy': 1, 'complimentary': 1, 'business': 1, 'receptionist': 1, 'hung': 1, 'reservation': 1, 'boston': 1, 'reason': 1, 'bike': 1, 'shuttle': 1, 'ride': 1, 'matress': 1, 'open': 1, 'forth': 1, 'dingy': 1, 'cost': 1, 'saw': 1, 'jonathan': 1, 'player': 1, 'hope': 1, 'management': 1, 'thin': 1, 'paper': 1})\n"
          ],
          "name": "stdout"
        }
      ]
    },
    {
      "cell_type": "code",
      "metadata": {
        "id": "YL2hZY038mvm",
        "colab_type": "code",
        "outputId": "65e8d1f9-6206-4a2c-acb3-ca87c948610a",
        "colab": {
          "base_uri": "https://localhost:8080/",
          "height": 54
        }
      },
      "source": [
        "x=data.loc[data['name'] == 'Comfort Suites Southport']\n",
        "x\n",
        "sk=sk_TF()\n",
        "tf_list=[]\n",
        "\n",
        "for i in x['reviews.text']:\n",
        "  if len(i.split())>2:\n",
        "    #sk=sk_TF()\n",
        "    t=sk.clean_text(i)\n",
        "    #print(t)\n",
        "    x=sk.get_topic(t)\n",
        "    #print(x)\n",
        "    tf_list.append(x)\n",
        "  else:\n",
        "    tf_list.append(\" \")\n",
        "List_flat = functools.reduce(operator.iconcat, tf_list, [])\n",
        "tags = set([ 'JJ',\"NN\"])\n",
        "key=[]\n",
        "\n",
        "for i in (tf_list):\n",
        "\n",
        "  pos_tags =nltk.pos_tag(i)\n",
        "  #print(pos_tags)\n",
        "  ret=[]\n",
        "  for word,pos in pos_tags:\n",
        "    if (pos in tags):\n",
        "      ret.append(word)\n",
        "  key.append(ret)\n",
        "\n",
        "List_flat = functools.reduce(operator.iconcat, key, [])\n",
        "import collections\n",
        "count=collections.Counter(List_flat)\n",
        "print(count)"
      ],
      "execution_count": 0,
      "outputs": [
        {
          "output_type": "stream",
          "text": [
            "Counter({'room': 22, 'staff': 12, 'breakfast': 11, 'clean': 7, 'comfortable': 6, 'great': 6, 'good': 6, 'time': 5, 'town': 5, 'friendly': 5, 'hotel': 5, 'front': 4, 'stay': 4, 'location': 4, 'island': 4, 'nice': 4, 'helpful': 4, 'little': 4, 'place': 3, 'desk': 3, 'convenient': 3, 'get': 3, 'someone': 2, 'ready': 2, 'key': 2, 'problem': 2, 'machine': 2, 'drive': 2, 'road': 2, 'parking': 2, 'lot': 2, 'furniture': 2, 'beach': 2, 'wife': 2, 'wedding': 2, 'lady': 2, 'oak': 2, 'construction': 2, 'anyone': 2, 'wonderful': 2, 'day': 2, 'space': 2, 'large': 2, 'southport': 2, 'way': 2, 'traffic': 2, 'area': 2, 'mold': 2, 'overall': 2, 'offer': 1, 'inconvenience': 1, 'didnt': 1, 'shampoo': 1, 'ran': 1, 'maker': 1, 'door': 1, 'size': 1, 'couch': 1, 'side': 1, 'wait': 1, 'short': 1, 'cute': 1, 'note': 1, 'pet': 1, 'sneak': 1, 'queen': 1, 'sofa': 1, 'sleeper': 1, 'checkin': 1, 'chair': 1, 'star': 1, 'old': 1, 'ok': 1, 'alot': 1, 'pool': 1, 'close': 1, 'mi': 1, 'year': 1, 'return': 1, 'sure': 1, 'everything': 1, 'willing': 1, 'wingate': 1, 'distance': 1, 'told': 1, 'wilmington': 1, 'adequate': 1, 'quiet': 1, 'edifficult': 1, 'positive': 1, 'full': 1, 'ecellent': 1, 'everyone': 1, 'peruse': 1, 'open': 1, 'sunday': 1, 'first': 1, 'dog': 1, 'touch': 1, 'triathalon': 1, 'daughter': 1, 'reputation': 1, 'comfort': 1, 'closeness': 1, 'choose': 1, 'week': 1, 'end': 1, 'memorial': 1, 'busy': 1, 'card': 1, 'number': 1, 'plenty': 1, 'safe': 1, 'neighborhood': 1, 'bald': 1, 'head': 1, 'nc': 1, 'difficulty': 1, 'corner': 1, 'super': 1, 'view': 1, 'complaint': 1, 'working': 1, 'credit': 1, 'apologetic': 1, 'situation': 1, 'courteous': 1, 'kind': 1, 'early': 1, 've': 1, 'stream': 1, 'cordial': 1, 'change': 1, 'spacious': 1, 'dated': 1, 'service': 1, 'due': 1, 'issue': 1, 'big': 1, 'toilet': 1, 'drain': 1, 'expedia': 1, 'book': 1, 'reluctant': 1, 'complete': 1, 'waste': 1, 'mess': 1, 'bathroom': 1, 'person': 1, 'awesome': 1, 'job': 1, 'vicki': 1, 'handle': 1, 'bath': 1, 'grab': 1, 'tub': 1, 'answer': 1, 'visit': 1, 'whole': 1, 'map': 1, 'neat': 1, 'attractive': 1, 'latter': 1, 'critique': 1, 'dining': 1, 'appearance': 1, 'worn': 1, 'noticed': 1, 'experience': 1, 'use': 1, 'update': 1, 'wish': 1, 'temporary': 1, 'pleasant': 1, 'fresh': 1, 'coffee': 1, 'feature': 1, 'inclusion': 1, 'cup': 1, 'able': 1, 'gotten': 1, 'ask': 1, 'stuff': 1, 'own': 1, 'enjoyed': 1, 'several': 1, 'bring': 1, 'scrambled': 1, 'gravy': 1, 'tasty': 1, 'much': 1, 'awsome': 1, ' ': 1})\n"
          ],
          "name": "stdout"
        }
      ]
    }
  ]
}