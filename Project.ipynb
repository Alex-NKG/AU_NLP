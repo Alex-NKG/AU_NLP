{
  "nbformat": 4,
  "nbformat_minor": 0,
  "metadata": {
    "colab": {
      "name": "Project.ipynb",
      "provenance": [],
      "machine_shape": "hm",
      "mount_file_id": "1NBuWtAKPr_igY2cCENrK8-i3b2QkhEzr",
      "authorship_tag": "ABX9TyP/2lHVeWE9xYK+INcAGPaS"
    },
    "kernelspec": {
      "name": "python3",
      "display_name": "Python 3"
    }
  },
  "cells": [
    {
      "cell_type": "code",
      "metadata": {
        "id": "jTOzUz-9ZbE_",
        "colab_type": "code",
        "outputId": "2e78769b-2f78-4d33-831c-24555c5ff4e2",
        "colab": {
          "base_uri": "https://localhost:8080/",
          "height": 102
        }
      },
      "source": [
        "import re\n",
        "import pandas as pd\n",
        "import numpy as np\n",
        "import nltk\n",
        "nltk.download('punkt')\n",
        "from nltk.tokenize import sent_tokenize, word_tokenize\n",
        "from sklearn.metrics.pairwise import cosine_similarity\n",
        "nltk.download('stopwords')\n"
      ],
      "execution_count": 162,
      "outputs": [
        {
          "output_type": "stream",
          "text": [
            "[nltk_data] Downloading package punkt to /root/nltk_data...\n",
            "[nltk_data]   Package punkt is already up-to-date!\n",
            "[nltk_data] Downloading package stopwords to /root/nltk_data...\n",
            "[nltk_data]   Package stopwords is already up-to-date!\n"
          ],
          "name": "stdout"
        },
        {
          "output_type": "execute_result",
          "data": {
            "text/plain": [
              "True"
            ]
          },
          "metadata": {
            "tags": []
          },
          "execution_count": 162
        }
      ]
    },
    {
      "cell_type": "code",
      "metadata": {
        "id": "XN2q5jfjZ0au",
        "colab_type": "code",
        "colab": {}
      },
      "source": [
        "data=pd.read_csv(\"/content/drive/My Drive/NLP/Project/Input/Datafiniti_Hotel_Reviews_Jun19.csv\", encoding='utf8')\n"
      ],
      "execution_count": 0,
      "outputs": []
    },
    {
      "cell_type": "code",
      "metadata": {
        "id": "oXDGiGZjjvMA",
        "colab_type": "code",
        "colab": {
          "base_uri": "https://localhost:8080/",
          "height": 419
        },
        "outputId": "68233949-f496-4ee2-f1db-5caf0f62124c"
      },
      "source": [
        "grouped_hotel=data.groupby(\"id\")['reviews.text'].apply('.'.join).reset_index()\n",
        "grouped_hotel.count()\n",
        "grouped_hotel"
      ],
      "execution_count": 119,
      "outputs": [
        {
          "output_type": "execute_result",
          "data": {
            "text/html": [
              "<div>\n",
              "<style scoped>\n",
              "    .dataframe tbody tr th:only-of-type {\n",
              "        vertical-align: middle;\n",
              "    }\n",
              "\n",
              "    .dataframe tbody tr th {\n",
              "        vertical-align: top;\n",
              "    }\n",
              "\n",
              "    .dataframe thead th {\n",
              "        text-align: right;\n",
              "    }\n",
              "</style>\n",
              "<table border=\"1\" class=\"dataframe\">\n",
              "  <thead>\n",
              "    <tr style=\"text-align: right;\">\n",
              "      <th></th>\n",
              "      <th>id</th>\n",
              "      <th>reviews.text</th>\n",
              "    </tr>\n",
              "  </thead>\n",
              "  <tbody>\n",
              "    <tr>\n",
              "      <th>0</th>\n",
              "      <td>AV--lQdFRxPSIh2RmtbT</td>\n",
              "      <td>I read all the ratings before I booked the Bes...</td>\n",
              "    </tr>\n",
              "    <tr>\n",
              "      <th>1</th>\n",
              "      <td>AV--lmxKIxWefVJwsReI</td>\n",
              "      <td>This was our second visit to this beautiful re...</td>\n",
              "    </tr>\n",
              "    <tr>\n",
              "      <th>2</th>\n",
              "      <td>AV--luVA3-Khe5l_ZMEJ</td>\n",
              "      <td>Unfortunately, the hurricane cancelled our tri...</td>\n",
              "    </tr>\n",
              "    <tr>\n",
              "      <th>3</th>\n",
              "      <td>AV-AN728a4HuVbedGQnJ</td>\n",
              "      <td>We stayed at this hotel since the convention w...</td>\n",
              "    </tr>\n",
              "    <tr>\n",
              "      <th>4</th>\n",
              "      <td>AV-Cilg2a4HuVbedGQqK</td>\n",
              "      <td>We enjoyed our stay at the Hampton Inn in Brem...</td>\n",
              "    </tr>\n",
              "    <tr>\n",
              "      <th>...</th>\n",
              "      <td>...</td>\n",
              "      <td>...</td>\n",
              "    </tr>\n",
              "    <tr>\n",
              "      <th>1428</th>\n",
              "      <td>AWdgUTtXa4HuVbedaODu</td>\n",
              "      <td>We stayed for almost two weeks but at a condo ...</td>\n",
              "    </tr>\n",
              "    <tr>\n",
              "      <th>1429</th>\n",
              "      <td>AWdlE0rK3-Khe5l_tDlq</td>\n",
              "      <td>A serviceable place to stay in Waikiki, not a ...</td>\n",
              "    </tr>\n",
              "    <tr>\n",
              "      <th>1430</th>\n",
              "      <td>AWfPeemaa4HuVbeddb2K</td>\n",
              "      <td>Would not stay here again. We arrived at the h...</td>\n",
              "    </tr>\n",
              "    <tr>\n",
              "      <th>1431</th>\n",
              "      <td>AWfaJjQba4HuVbeddiSW</td>\n",
              "      <td>Excellent property, great breakfast Buffett - ...</td>\n",
              "    </tr>\n",
              "    <tr>\n",
              "      <th>1432</th>\n",
              "      <td>AWfznEYmIxWefVJwAzb1</td>\n",
              "      <td>We booked this hotel literally the day we flew...</td>\n",
              "    </tr>\n",
              "  </tbody>\n",
              "</table>\n",
              "<p>1433 rows × 2 columns</p>\n",
              "</div>"
            ],
            "text/plain": [
              "                        id                                       reviews.text\n",
              "0     AV--lQdFRxPSIh2RmtbT  I read all the ratings before I booked the Bes...\n",
              "1     AV--lmxKIxWefVJwsReI  This was our second visit to this beautiful re...\n",
              "2     AV--luVA3-Khe5l_ZMEJ  Unfortunately, the hurricane cancelled our tri...\n",
              "3     AV-AN728a4HuVbedGQnJ  We stayed at this hotel since the convention w...\n",
              "4     AV-Cilg2a4HuVbedGQqK  We enjoyed our stay at the Hampton Inn in Brem...\n",
              "...                    ...                                                ...\n",
              "1428  AWdgUTtXa4HuVbedaODu  We stayed for almost two weeks but at a condo ...\n",
              "1429  AWdlE0rK3-Khe5l_tDlq  A serviceable place to stay in Waikiki, not a ...\n",
              "1430  AWfPeemaa4HuVbeddb2K  Would not stay here again. We arrived at the h...\n",
              "1431  AWfaJjQba4HuVbeddiSW  Excellent property, great breakfast Buffett - ...\n",
              "1432  AWfznEYmIxWefVJwAzb1  We booked this hotel literally the day we flew...\n",
              "\n",
              "[1433 rows x 2 columns]"
            ]
          },
          "metadata": {
            "tags": []
          },
          "execution_count": 119
        }
      ]
    },
    {
      "cell_type": "code",
      "metadata": {
        "id": "OhBy0cjpWsh6",
        "colab_type": "code",
        "colab": {
          "base_uri": "https://localhost:8080/",
          "height": 884
        },
        "outputId": "348fb9f0-b510-4c72-a3c6-b0d5c2e12ab0"
      },
      "source": [
        "sentences=word_tokenize(grouped_hotel[\"reviews.text\"][1])\n",
        "#sentences=[y for x in sentences for y in x ]\n",
        "sentences"
      ],
      "execution_count": 163,
      "outputs": [
        {
          "output_type": "execute_result",
          "data": {
            "text/plain": [
              "['This',\n",
              " 'was',\n",
              " 'our',\n",
              " 'second',\n",
              " 'visit',\n",
              " 'to',\n",
              " 'this',\n",
              " 'beautiful',\n",
              " 'resort',\n",
              " '.',\n",
              " 'It',\n",
              " \"'s\",\n",
              " 'island',\n",
              " 'decor',\n",
              " ',',\n",
              " 'accommodations',\n",
              " 'and',\n",
              " 'relaxed',\n",
              " 'environment',\n",
              " 'are',\n",
              " 'wonderful',\n",
              " '.',\n",
              " 'Beach',\n",
              " 'views',\n",
              " 'spectacular',\n",
              " '!',\n",
              " 'Unfortunately',\n",
              " 'our',\n",
              " 'visit',\n",
              " 'was',\n",
              " 'cut',\n",
              " 'short',\n",
              " 'because',\n",
              " 'of',\n",
              " 'Hurricane',\n",
              " 'Irma',\n",
              " 'but',\n",
              " 'management',\n",
              " 'and',\n",
              " 'staff',\n",
              " 'support',\n",
              " 'and',\n",
              " 'consideration',\n",
              " 'were',\n",
              " 'truly',\n",
              " 'appreciative',\n",
              " '.',\n",
              " 'Will',\n",
              " 'definitely',\n",
              " 'return',\n",
              " '!']"
            ]
          },
          "metadata": {
            "tags": []
          },
          "execution_count": 163
        }
      ]
    },
    {
      "cell_type": "code",
      "metadata": {
        "id": "Ch2_CM_zNYkN",
        "colab_type": "code",
        "colab": {
          "base_uri": "https://localhost:8080/",
          "height": 476
        },
        "outputId": "13f22a03-5fb3-415c-dc28-f9b4fe2a74a8"
      },
      "source": [
        "clean_senteces=pd.Series(sentences).str.replace(\"[^a-zA-Z]\",\" \")\n",
        "\n",
        "clean_senteces=[s.lower() for s in clean_senteces]\n",
        "\n",
        "from nltk.corpus import stopwords\n",
        "stop_words=stopwords.words('english')\n",
        "def remove_stopwords(sen):\n",
        "  sen_new=\" \".join([i for i in sen if i not in stop_words])\n",
        "  return sen_new\n",
        "\n",
        "clean_senteces=[remove_stopwords(r.split())for r in clean_senteces]\n",
        "#clean_senteces\n",
        "cleanword=[]\n",
        "for i in clean_senteces:\n",
        "  if i!=\"\":\n",
        "    cleanword.append(i)\n",
        "cleanword"
      ],
      "execution_count": 165,
      "outputs": [
        {
          "output_type": "execute_result",
          "data": {
            "text/plain": [
              "['second',\n",
              " 'visit',\n",
              " 'beautiful',\n",
              " 'resort',\n",
              " 'island',\n",
              " 'decor',\n",
              " 'accommodations',\n",
              " 'relaxed',\n",
              " 'environment',\n",
              " 'wonderful',\n",
              " 'beach',\n",
              " 'views',\n",
              " 'spectacular',\n",
              " 'unfortunately',\n",
              " 'visit',\n",
              " 'cut',\n",
              " 'short',\n",
              " 'hurricane',\n",
              " 'irma',\n",
              " 'management',\n",
              " 'staff',\n",
              " 'support',\n",
              " 'consideration',\n",
              " 'truly',\n",
              " 'appreciative',\n",
              " 'definitely',\n",
              " 'return']"
            ]
          },
          "metadata": {
            "tags": []
          },
          "execution_count": 165
        }
      ]
    },
    {
      "cell_type": "code",
      "metadata": {
        "id": "RvoHVXREB53p",
        "colab_type": "code",
        "colab": {}
      },
      "source": [
        "word_embeddings = {}\n",
        "f= open(\"/content/drive/My Drive/NLP/Project/Input/wikiglove/glove.6B.300d.txt\",encoding=\"utf-8\")\n",
        "for line in f:\n",
        "  values=line.split()\n",
        "  word=values[0]\n",
        "  coefs=np.asarray(values[1:],dtype=\"float32\")\n",
        "  word_embeddings[word]=coefs\n",
        "f.close()"
      ],
      "execution_count": 0,
      "outputs": []
    },
    {
      "cell_type": "code",
      "metadata": {
        "id": "SE-7VZ4eQaTy",
        "colab_type": "code",
        "outputId": "80464ff7-c4e4-4a3a-8655-04296d476a2d",
        "colab": {
          "base_uri": "https://localhost:8080/",
          "height": 34
        }
      },
      "source": [
        "len(word_embeddings)"
      ],
      "execution_count": 125,
      "outputs": [
        {
          "output_type": "execute_result",
          "data": {
            "text/plain": [
              "400000"
            ]
          },
          "metadata": {
            "tags": []
          },
          "execution_count": 125
        }
      ]
    },
    {
      "cell_type": "code",
      "metadata": {
        "id": "lKx4mTsWQgP3",
        "colab_type": "code",
        "colab": {}
      },
      "source": [
        "sentence_vector=[]\n",
        "\n",
        "for i in cleanword:\n",
        "  if len(i)!=0:\n",
        "    v=sum([word_embeddings.get(w,np.zeros((300,)))for w in i.split()])/(len(i.split())+0.001)\n",
        "    \n",
        "  else:\n",
        "    v=np.zeros((300,))\n",
        "  sentence_vector.append(v)\n"
      ],
      "execution_count": 0,
      "outputs": []
    },
    {
      "cell_type": "code",
      "metadata": {
        "id": "ETAghYg1kUbu",
        "colab_type": "code",
        "colab": {}
      },
      "source": [
        ""
      ],
      "execution_count": 0,
      "outputs": []
    },
    {
      "cell_type": "code",
      "metadata": {
        "id": "7cfRHOwgUYBd",
        "colab_type": "code",
        "outputId": "a9885221-9b41-49e4-98af-dad5b21f3a37",
        "colab": {
          "base_uri": "https://localhost:8080/",
          "height": 34
        }
      },
      "source": [
        "len(sentences)"
      ],
      "execution_count": 167,
      "outputs": [
        {
          "output_type": "execute_result",
          "data": {
            "text/plain": [
              "51"
            ]
          },
          "metadata": {
            "tags": []
          },
          "execution_count": 167
        }
      ]
    },
    {
      "cell_type": "code",
      "metadata": {
        "id": "jq6f-ejBRqgI",
        "colab_type": "code",
        "colab": {}
      },
      "source": [
        "sim_mat=np.zeros([len(sentences),len(sentences)])"
      ],
      "execution_count": 0,
      "outputs": []
    },
    {
      "cell_type": "code",
      "metadata": {
        "id": "bOCwoG9dR2u2",
        "colab_type": "code",
        "colab": {
          "base_uri": "https://localhost:8080/",
          "height": 235
        },
        "outputId": "b347dd4f-2a20-4332-b458-136601331406"
      },
      "source": [
        "from sklearn.metrics.pairwise import cosine_similarity\n",
        "for i in range (len(sentences)):\n",
        "  for j in range(len(sentences)):\n",
        "    if i!=j:\n",
        "      sim_mat[i][j]=cosine_similarity(sentence_vector[i].reshape(1,300),sentence_vector[j].reshape(1,300))[0,0]\n",
        "sim_mat"
      ],
      "execution_count": 172,
      "outputs": [
        {
          "output_type": "error",
          "ename": "IndexError",
          "evalue": "ignored",
          "traceback": [
            "\u001b[0;31m---------------------------------------------------------------------------\u001b[0m",
            "\u001b[0;31mIndexError\u001b[0m                                Traceback (most recent call last)",
            "\u001b[0;32m<ipython-input-172-8a63d236444e>\u001b[0m in \u001b[0;36m<module>\u001b[0;34m()\u001b[0m\n\u001b[1;32m      3\u001b[0m   \u001b[0;32mfor\u001b[0m \u001b[0mj\u001b[0m \u001b[0;32min\u001b[0m \u001b[0mrange\u001b[0m\u001b[0;34m(\u001b[0m\u001b[0mlen\u001b[0m\u001b[0;34m(\u001b[0m\u001b[0msentences\u001b[0m\u001b[0;34m)\u001b[0m\u001b[0;34m)\u001b[0m\u001b[0;34m:\u001b[0m\u001b[0;34m\u001b[0m\u001b[0;34m\u001b[0m\u001b[0m\n\u001b[1;32m      4\u001b[0m     \u001b[0;32mif\u001b[0m \u001b[0mi\u001b[0m\u001b[0;34m!=\u001b[0m\u001b[0mj\u001b[0m\u001b[0;34m:\u001b[0m\u001b[0;34m\u001b[0m\u001b[0;34m\u001b[0m\u001b[0m\n\u001b[0;32m----> 5\u001b[0;31m       \u001b[0msim_mat\u001b[0m\u001b[0;34m[\u001b[0m\u001b[0mi\u001b[0m\u001b[0;34m]\u001b[0m\u001b[0;34m[\u001b[0m\u001b[0mj\u001b[0m\u001b[0;34m]\u001b[0m\u001b[0;34m=\u001b[0m\u001b[0mcosine_similarity\u001b[0m\u001b[0;34m(\u001b[0m\u001b[0msentence_vector\u001b[0m\u001b[0;34m[\u001b[0m\u001b[0mi\u001b[0m\u001b[0;34m]\u001b[0m\u001b[0;34m.\u001b[0m\u001b[0mreshape\u001b[0m\u001b[0;34m(\u001b[0m\u001b[0;36m1\u001b[0m\u001b[0;34m,\u001b[0m\u001b[0;36m300\u001b[0m\u001b[0;34m)\u001b[0m\u001b[0;34m,\u001b[0m\u001b[0msentence_vector\u001b[0m\u001b[0;34m[\u001b[0m\u001b[0mj\u001b[0m\u001b[0;34m]\u001b[0m\u001b[0;34m.\u001b[0m\u001b[0mreshape\u001b[0m\u001b[0;34m(\u001b[0m\u001b[0;36m1\u001b[0m\u001b[0;34m,\u001b[0m\u001b[0;36m300\u001b[0m\u001b[0;34m)\u001b[0m\u001b[0;34m)\u001b[0m\u001b[0;34m[\u001b[0m\u001b[0;36m0\u001b[0m\u001b[0;34m,\u001b[0m\u001b[0;36m0\u001b[0m\u001b[0;34m]\u001b[0m\u001b[0;34m\u001b[0m\u001b[0;34m\u001b[0m\u001b[0m\n\u001b[0m\u001b[1;32m      6\u001b[0m \u001b[0msim_mat\u001b[0m\u001b[0;34m\u001b[0m\u001b[0;34m\u001b[0m\u001b[0m\n",
            "\u001b[0;31mIndexError\u001b[0m: list index out of range"
          ]
        }
      ]
    },
    {
      "cell_type": "code",
      "metadata": {
        "id": "gLtekDBwVhNP",
        "colab_type": "code",
        "colab": {}
      },
      "source": [
        "import networkx as nx\n",
        "nx_graph=nx.from_numpy_array(sim_mat)\n",
        "score=nx.pagerank(nx_graph)"
      ],
      "execution_count": 0,
      "outputs": []
    },
    {
      "cell_type": "code",
      "metadata": {
        "id": "07kU3N75Vwex",
        "colab_type": "code",
        "outputId": "a86c5fda-257a-4b92-cc37-5c606419de39",
        "colab": {
          "base_uri": "https://localhost:8080/",
          "height": 34
        }
      },
      "source": [
        "ranked_sentences=sorted(((score[i],s)for i,s in enumerate(sentences)),reverse=True)\n",
        "for i in range(1):\n",
        "  print(ranked_sentences[i][1])"
      ],
      "execution_count": 159,
      "outputs": [
        {
          "output_type": "stream",
          "text": [
            "This was our second visit to this beautiful resort.\n"
          ],
          "name": "stdout"
        }
      ]
    },
    {
      "cell_type": "code",
      "metadata": {
        "id": "rLh0GpC0gIvM",
        "colab_type": "code",
        "colab": {
          "base_uri": "https://localhost:8080/",
          "height": 102
        },
        "outputId": "a5076bb2-e699-4cd4-eb37-c326d62e3752"
      },
      "source": [
        "score"
      ],
      "execution_count": 160,
      "outputs": [
        {
          "output_type": "execute_result",
          "data": {
            "text/plain": [
              "{0: 0.2212068599172759,\n",
              " 1: 0.20056970681735853,\n",
              " 2: 0.18487635548581946,\n",
              " 3: 0.20384552188874605,\n",
              " 4: 0.1895015558908002}"
            ]
          },
          "metadata": {
            "tags": []
          },
          "execution_count": 160
        }
      ]
    }
  ]
}