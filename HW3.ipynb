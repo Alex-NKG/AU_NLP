{
  "nbformat": 4,
  "nbformat_minor": 0,
  "metadata": {
    "colab": {
      "name": "HW3.ipynb",
      "provenance": [],
      "collapsed_sections": [],
      "authorship_tag": "ABX9TyMUSofYewizBaSRwvy1zZuK",
      "include_colab_link": true
    },
    "kernelspec": {
      "name": "python3",
      "display_name": "Python 3"
    }
  },
  "cells": [
    {
      "cell_type": "markdown",
      "metadata": {
        "id": "view-in-github",
        "colab_type": "text"
      },
      "source": [
        "<a href=\"https://colab.research.google.com/github/Alex-NKG/AU_C_NLP/blob/master/HW3.ipynb\" target=\"_parent\"><img src=\"https://colab.research.google.com/assets/colab-badge.svg\" alt=\"Open In Colab\"/></a>"
      ]
    },
    {
      "cell_type": "markdown",
      "metadata": {
        "id": "SG1zz-cl5uXg",
        "colab_type": "text"
      },
      "source": [
        "# NLP_HW3\n",
        "YUEYANG LIU\n",
        "1/31/2019"
      ]
    },
    {
      "cell_type": "code",
      "metadata": {
        "id": "5lb119gO2Vwx",
        "colab_type": "code",
        "colab": {
          "base_uri": "https://localhost:8080/",
          "height": 34
        },
        "outputId": "2fdfd99d-9a82-4f51-9a22-7b8d1cc56f5f"
      },
      "source": [
        "with open('Scraped_Car_Review_dodge.csv','r', encoding=\"utf8\") as f:\n",
        "  reviews = f.readlines()\n",
        "\n",
        "\n"
      ],
      "execution_count": 258,
      "outputs": [
        {
          "output_type": "execute_result",
          "data": {
            "text/plain": [
              "',Review_Date,Author_Name,Vehicle_Title,Review_Title,Review,Rating\\n'"
            ]
          },
          "metadata": {
            "tags": []
          },
          "execution_count": 258
        }
      ]
    },
    {
      "cell_type": "code",
      "metadata": {
        "id": "zErIJ9FCNP5L",
        "colab_type": "code",
        "colab": {}
      },
      "source": [
        ""
      ],
      "execution_count": 0,
      "outputs": []
    },
    {
      "cell_type": "markdown",
      "metadata": {
        "id": "GqmLQj1r5sCc",
        "colab_type": "text"
      },
      "source": [
        "## Cleaning House (40 points)\n",
        "\n",
        "Write a function that takes in a vector like reviews above, and corrects the errors like we saw above. In essence, each entry of the vector text above should only contain one entry.  \n",
        "Luckily, we can exploit the fact that the first entry should always be a number. If we do not see a number in the first comma-separated entry, we know the list entry is a text segment.  \n",
        "I’ll supply the function signature and some variables you should use:"
      ]
    },
    {
      "cell_type": "code",
      "metadata": {
        "id": "X1nKZCju5q4d",
        "colab_type": "code",
        "colab": {
          "base_uri": "https://localhost:8080/",
          "height": 54
        },
        "outputId": "f1dee06e-450b-450e-fa56-a6d335323960"
      },
      "source": [
        "import re\n",
        "#function review_cleaner \n",
        "# Cleans malformed car review entries \n",
        "# # inputs:\n",
        "# review_list, a list of comma-separated data \n",
        "# corresponding to user reviews and ratings \n",
        "# (some malformed) \n",
        "# output:\n",
        "# cleaned_list, removes the malformed data\n",
        "def review_cleaner(input_text):\n",
        "# this will be the output list \n",
        "  cleaned_list = []\n",
        "  for i in range(len(input_text)):\n",
        "    if re.match(\"^(\\d)\",input_text[i]):\n",
        "      cleaned_list.append(input_text[i])\n",
        "    else:\n",
        "      if len(cleaned_list):#第一行就不符合条件\n",
        "        cleaned_list.pop()\n",
        "        pre = re.sub(\"(\\\\n)$\",\"\",input_text[i-1])\n",
        "        cleaned_list.append((pre)+(input_text[i]))\n",
        "# if first comma-separated entry is a number, \n",
        "# append to cleaned_list\n",
        "# if first comma-separated entry is not a number, \n",
        "# remove newline character, append to previous \n",
        "# cleaned_list entry\n",
        "  return cleaned_list\n"
      ],
      "execution_count": 271,
      "outputs": [
        {
          "output_type": "stream",
          "text": [
            "['3, on 12/29/07 21:57 PM (PST),Keven Smith ,2001 Dodge Ram Cargo Van 2500 Maxi 3dr Ext Van (5.2L 8cyl 4A),Keven Smith,\" Great work vehicle. Drives nice. has lots of room. Easy to handle, bucket seats electric windows\",4.5\\n', '4, on 02/09/05 18:52 PM (PST),VanMan ,2001 Dodge Ram Cargo Van 1500 3dr Van (3.9L 6cyl 3A),Not what Dodge used to be,\" Good solid frame and suspension.  Well equipped, full power.  Gauges and controls are well designed and located.  Nice to drive once you are up and in.  No leg room on passenger side.  318 engine seems very weak and some spark plugs are very hard to access.  Terrible gas mileage (avg 12MPG).  Sheet metal is flimsy and dents if you lean against it or bump it.  Paint chips and scratches very easily.  Sliding side door jumped the track and scraped the whole side of the van.  Rear door caught in wind and pulled bolts out of frame.  Three front windshields in three years (stress point in center?).  No mechanical problems with drive train.  Reliable.  Still not the quality my older Dodge vans had.\",2.875\\n', '5, on 05/17/04 00:00 AM (PDT),driverage ,2001 Dodge Ram Cargo Van 1500 3dr Van (3.9L 6cyl 3A),2001 dodge 1500 ram van, some very early body rust on roof,2.25\\n']\n"
          ],
          "name": "stdout"
        }
      ]
    },
    {
      "cell_type": "code",
      "metadata": {
        "id": "SFU0s5gVZsK1",
        "colab_type": "code",
        "colab": {}
      },
      "source": [
        ""
      ],
      "execution_count": 0,
      "outputs": []
    },
    {
      "cell_type": "code",
      "metadata": {
        "id": "KdYif2nVGj3t",
        "colab_type": "code",
        "colab": {}
      },
      "source": [
        ""
      ],
      "execution_count": 0,
      "outputs": []
    }
  ]
}