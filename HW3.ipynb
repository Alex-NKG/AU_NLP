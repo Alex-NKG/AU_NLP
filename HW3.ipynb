{
  "nbformat": 4,
  "nbformat_minor": 0,
  "metadata": {
    "colab": {
      "name": "HW3.ipynb",
      "provenance": [],
      "collapsed_sections": [],
      "mount_file_id": "https://github.com/Alex-NKG/AU_NLP/blob/master/HW3.ipynb",
      "authorship_tag": "ABX9TyMlPu40UaYEttkQlBtYaAga"
    },
    "kernelspec": {
      "name": "python3",
      "display_name": "Python 3"
    }
  },
  "cells": [
    {
      "cell_type": "markdown",
      "metadata": {
        "id": "SG1zz-cl5uXg",
        "colab_type": "text"
      },
      "source": [
        "# NLP_HW3\n",
        "YUEYANG LIU\n",
        "1/31/2019"
      ]
    },
    {
      "cell_type": "markdown",
      "metadata": {
        "id": "GqmLQj1r5sCc",
        "colab_type": "text"
      },
      "source": [
        "## Cleaning House\n",
        "\n",
        "Write a function that takes in a vector like reviews above, and corrects the errors like we saw above. In essence, each entry of the vector text above should only contain one entry.  \n",
        "Luckily, we can exploit the fact that the first entry should always be a number. If we do not see a number in the first comma-separated entry, we know the list entry is a text segment.  \n",
        "I’ll supply the function signature and some variables you should use:"
      ]
    },
    {
      "cell_type": "code",
      "metadata": {
        "id": "ggVTUugJwxNa",
        "colab_type": "code",
        "outputId": "2fd3c550-86c1-478d-f188-aadbc49c070d",
        "colab": {
          "base_uri": "https://localhost:8080/",
          "height": 51
        }
      },
      "source": [
        "%cd /content/drive/My Drive/NLP/W3\n",
        "%ls"
      ],
      "execution_count": 52,
      "outputs": [
        {
          "output_type": "stream",
          "text": [
            "/content/drive/My Drive/NLP/W3\n",
            "Scrapped_Car_Review_Chevrolet.csv  Scrapped_Car_Reviews_Toyota.csv\n"
          ],
          "name": "stdout"
        }
      ]
    },
    {
      "cell_type": "code",
      "metadata": {
        "id": "X1nKZCju5q4d",
        "colab_type": "code",
        "colab": {}
      },
      "source": [
        "import re\n",
        "#function review_cleaner \n",
        "# Cleans malformed car review entries \n",
        "# # inputs:\n",
        "# review_list, a list of comma-separated data \n",
        "# corresponding to user reviews and ratings \n",
        "# (some malformed) \n",
        "# output:\n",
        "# cleaned_list, removes the malformed data\n",
        "def review_cleaner(input_text):\n",
        "# this will be the output list \n",
        "  cleaned_list = []\n",
        "  cleaned_list.append(input_text[0])#keep the col name\n",
        "  for i in range(1,len(input_text)):\n",
        "    if re.match(\"^(\\d{0,}, on)(.){0,}(\\\\n)$\",input_text[i]):\n",
        "      #remove_index=re.sub(\"\",\"\",input_text[i])\n",
        "      #cleaned_list.append(remove_index)\n",
        "      cleaned_list.append(input_text[i])\n",
        "    else:\n",
        "      #if len(cleaned_list):#第一行就不符合条\n",
        "        x=re.sub(\"(\\s)$\",\"\",cleaned_list.pop())\n",
        "        cleaned_list.append(x+input_text[i])#should add or will cause combine error\n",
        "        #speed improved\n",
        "        #cleaned_list[-1]=cleaned_list[-1]+input_text[i]\n",
        "# if first comma-separated entry is a number, \n",
        "# append to cleaned_list\n",
        "# if first comma-separated entry is not a number, \n",
        "# remove newline character, append to previous \n",
        "# cleaned_list entry\n",
        "  return cleaned_list\n",
        "\n"
      ],
      "execution_count": 0,
      "outputs": []
    },
    {
      "cell_type": "code",
      "metadata": {
        "id": "_GmRcwfdf-m5",
        "colab_type": "code",
        "colab": {}
      },
      "source": [
        "#Auto one deep input \n",
        "#Find all need are in the same path of the notebook!\n",
        "#input: folder path, doc format(string)\n",
        "#output: dictionary[file_name:path]\n",
        "import os\n",
        "def find_file(file_format,file_path):\n",
        "\n",
        "\n",
        "\n",
        "  out_file_path={}\n",
        "  filelist=os.listdir(file_path)\n",
        "  for i in filelist:\n",
        "    if i.endswith(file_format):  \n",
        "      name=i.rstrip('.'+file_format)\n",
        "      out_file_path[name]=i\n",
        "  #print (out_file_path)\n",
        "  return out_file_path\n",
        "\n",
        "\n"
      ],
      "execution_count": 0,
      "outputs": []
    },
    {
      "cell_type": "code",
      "metadata": {
        "id": "SFU0s5gVZsK1",
        "colab_type": "code",
        "colab": {}
      },
      "source": [
        "#Write function\n",
        "def read_old(out_file_path):\n",
        "  for i in out_file_path:\n",
        "    with open(out_file_path[i],'r', encoding=\"utf8\") as f:\n",
        "      text = f.readlines()\n",
        "    cleaned=review_cleaner(text)\n",
        "    #print(cleaned[1:3])\n",
        "    cleaned_str = \"\".join(cleaned)\n",
        "    filename = i+\"_clean.csv\"\n",
        "    with open(filename, 'w') as f:\n",
        "      f.write(cleaned_str)"
      ],
      "execution_count": 0,
      "outputs": []
    },
    {
      "cell_type": "markdown",
      "metadata": {
        "id": "JCedgi4QaBlD",
        "colab_type": "text"
      },
      "source": [
        "Find and read data\n"
      ]
    },
    {
      "cell_type": "code",
      "metadata": {
        "id": "HvkinrhraK31",
        "colab_type": "code",
        "colab": {
          "base_uri": "https://localhost:8080/",
          "height": 34
        },
        "outputId": "7fa45fca-b7e9-489d-f7b3-17525dbdc426"
      },
      "source": [
        "dic=find_file(\"csv\",\".\")\n",
        "read_old(dic)\n",
        "dic"
      ],
      "execution_count": 79,
      "outputs": [
        {
          "output_type": "execute_result",
          "data": {
            "text/plain": [
              "{'Scrapped_Car_Review_Chevrolet': 'Scrapped_Car_Review_Chevrolet.csv'}"
            ]
          },
          "metadata": {
            "tags": []
          },
          "execution_count": 79
        }
      ]
    },
    {
      "cell_type": "code",
      "metadata": {
        "id": "KdYif2nVGj3t",
        "colab_type": "code",
        "colab": {}
      },
      "source": [
        "import pandas as pd\n",
        "import matplotlib.pyplot as plt\n",
        "\n",
        "def fix_data(clean_df):\n",
        "  new = clean_df['Review_Date'].str.split(\" \", n = 4, expand = True)  \n",
        "  clean_df['Review_Date'] =  pd.to_datetime(new[2], format='%m/%d/%y')\n",
        "  clean_df['lengths'] = clean_df['Review'].str.len()\n",
        "  return clean_df\n",
        "    \n",
        "def plot_pic(input_list):\n",
        "  for i in input_list:\n",
        "    emp_df = pd.read_csv(input_list[i])\n",
        "    emp_df=fix_data(emp_df)\n",
        "    grouped=emp_df.groupby(emp_df['Review_Date'].dt.year)\n",
        "    df_len = emp_df.groupby(emp_df['Review_Date'].dt.year)['lengths'].mean()\n",
        "    df_count = emp_df.groupby(emp_df['Review_Date'].dt.year)['Review'].count()\n",
        "    df_rate = emp_df.groupby(emp_df['Review_Date'].dt.year)['Rating'].mean()\n",
        "    df_len.plot.bar(title=i+\" VS length\")\n",
        "    plt.tight_layout()\n",
        "    plt.show()     \n",
        "\n",
        "    df_count.plot.bar(title=i+\" VS review num\")\n",
        "    plt.tight_layout()\n",
        "    plt.show()     \n",
        "\n",
        "    df_rate.plot.bar(title=i+\" VS Rate\")\n",
        "    plt.tight_layout()\n",
        "    plt.show()     \n",
        "\n"
      ],
      "execution_count": 0,
      "outputs": []
    },
    {
      "cell_type": "markdown",
      "metadata": {
        "id": "NAlID6ENaUhO",
        "colab_type": "text"
      },
      "source": [
        "## Summary Statistics\n",
        "\n",
        "For each car make, please generate the following statistics and present them using a bar chart.\n",
        "\n",
        "- The number of reviews per year\n",
        "\n",
        "- The average car rating per year\n",
        "\n",
        "- The average length of review per year\n",
        "\n",
        "\n",
        "\n",
        "\n",
        "Read new data,plot"
      ]
    },
    {
      "cell_type": "code",
      "metadata": {
        "id": "XuaN01e0aUDn",
        "colab_type": "code",
        "outputId": "c4d96df8-9749-410c-82a9-5473a5d01f40",
        "colab": {
          "base_uri": "https://localhost:8080/",
          "height": 857
        }
      },
      "source": [
        "dic=find_file(\"_clean.csv\",\".\")\n",
        "plot_pic(dic)"
      ],
      "execution_count": 37,
      "outputs": [
        {
          "output_type": "display_data",
          "data": {
            "image/png": "[encoded data removed]",
            "text/plain": [
              "<Figure size 432x288 with 1 Axes>"
            ]
          },
          "metadata": {
            "tags": []
          }
        },
        {
          "output_type": "display_data",
          "data": {
            "image/png": "[encoded data removed]",
            "text/plain": [
              "<Figure size 432x288 with 1 Axes>"
            ]
          },
          "metadata": {
            "tags": []
          }
        },
        {
          "output_type": "display_data",
          "data": {
            "image/png": "[encoded data removed]",
            "text/plain": [
              "<Figure size 432x288 with 1 Axes>"
            ]
          },
          "metadata": {
            "tags": []
          }
        }
      ]
    },
    {
      "cell_type": "markdown",
      "metadata": {
        "id": "0eDTQLTioJy7",
        "colab_type": "text"
      },
      "source": [
        "## Punctionations, Reviews, and Hypotheses\n",
        "\n",
        "Required Reading: 9.1: Comparison of Two Population Means: Large, Independent Samples. Note: There is a typo in this article: x−1 and x-2 is supposed to read x 1 and x 2 (i.e., the mean of samples 1 and 2). This should also be apparent from the text.  \n",
        "Across *all* car makes, models and years, find all the reviews which use the exclamation mark at least once. Our hypothesis is that this is excitement, and hopefully this translates to better car ratings. Since we are scientists, we need to use proper statistical theory to see if this is the case (i.e., use statistical hypothesis testing). Test at the 1% level of significance whether the data provides sufficient evidence to conclude that car reviews with exclamation marks h ave higher ratings than car reviews that do not.\n"
      ]
    },
    {
      "cell_type": "code",
      "metadata": {
        "id": "RbTvbwVHrsQ6",
        "colab_type": "code",
        "outputId": "13b49acf-572b-47d9-fde5-fe35a052cb3e",
        "colab": {
          "base_uri": "https://localhost:8080/",
          "height": 88
        }
      },
      "source": [
        "from scipy.stats import ttest_ind\n",
        "\n",
        "\n",
        "def simp_ttest(input_list):\n",
        "  cat1=pd.DataFrame()\n",
        "  cat2=pd.DataFrame()\n",
        "  for i in input_list:\n",
        "    emp_df = pd.read_csv(input_list[i])\n",
        "    emp_df=fix_data(emp_df)\n",
        "#check row include ！\n",
        "    emp_df[\"Category\"] = emp_df['Review'].str.contains(r'(!)')\n",
        "    cat1 =cat1.append( emp_df[emp_df['Category']==True],ignore_index=True)\n",
        "    cat2 =cat2.append(emp_df[emp_df['Category']==False],ignore_index=True)\n",
        "    #print(cat1.shape)\n",
        "  p_val=ttest_ind(cat1['Rating'], cat2['Rating'],equal_var=False,nan_policy='omit')[1]\n",
        "  return p_val\n",
        "\n",
        "simp_ttest(dic)\n",
        "\n",
        "\n",
        "\n"
      ],
      "execution_count": 0,
      "outputs": [
        {
          "output_type": "stream",
          "text": [
            "/usr/local/lib/python3.6/dist-packages/pandas/core/strings.py:1843: UserWarning: This pattern has match groups. To actually get the groups, use str.extract.\n",
            "  return func(self, *args, **kwargs)\n"
          ],
          "name": "stderr"
        },
        {
          "output_type": "execute_result",
          "data": {
            "text/plain": [
              "1.5431961453847454e-07"
            ]
          },
          "metadata": {
            "tags": []
          },
          "execution_count": 22
        }
      ]
    },
    {
      "cell_type": "markdown",
      "metadata": {
        "id": "07VgTMqRzx-t",
        "colab_type": "text"
      },
      "source": [
        "$H_0$:the two group are same  \n",
        "$H_1$:the two group are not the same\n",
        "\n",
        "P value is small , reject $H_0 $there are have different between 2 group"
      ]
    }
  ]
}